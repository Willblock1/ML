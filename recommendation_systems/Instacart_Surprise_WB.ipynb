{
 "cells": [
  {
   "cell_type": "markdown",
   "metadata": {},
   "source": [
    "# Instacart Market Basket Analysis"
   ]
  },
  {
   "cell_type": "markdown",
   "metadata": {},
   "source": [
    "# Product Association Analysis and Collaborative Filtering Recommendation System\n",
    "Drew Malter \n",
    "Slalom    \n",
    "September 2018    \n",
    "\n",
    "1. [Overview](#Overview)\n",
    "2. [Import Libraries](#Import-Libraries)\n",
    "3. [Read In Data](#Read-In-Data)\n",
    "4. [Data Exploration of Order Tendencies](#Data-Exploration-of-Order-Tendencies)\n",
    "5. [Product, Aisle, and Department Data Analysis](#Product,-Aisle,-and-Department-Data-Analysis)\n",
    "6. [Reorder Analysis](#Reorder-Analysis)\n",
    "7. [Product Association Analysis](#Product-Association-Analysis)\n",
    "8. [Deep Learning Collaborative Filtering Recommender System](Collaborative-Filtering-Recommender-System)"
   ]
  },
  {
   "cell_type": "markdown",
   "metadata": {},
   "source": [
    "# Overview"
   ]
  },
  {
   "cell_type": "markdown",
   "metadata": {},
   "source": [
    "Whether you shop from meticulously planned grocery lists or let whimsy guide your grazing, our unique food rituals define who we are. Instacart, a grocery ordering and delivery app, aims to make it easy to fill your refrigerator and pantry with your personal favorites and staples when you need them. After selecting products through the Instacart app, personal shoppers review your order and do the in-store shopping and delivery for you.\n",
    "\n",
    "Instacart’s data science team plays a big part in providing this delightful shopping experience. Currently they use transactional data to develop models that predict which products a user will buy again, try for the first time, or add to their cart next during a session. Recently, Instacart open sourced this data - see their blog post on 3 Million Instacart Orders, Open Sourced.\n",
    "\n",
    "In this competition, Instacart is challenging the Kaggle community to use this anonymized data on customer orders over time to predict which previously purchased products will be in a user’s next order. They’re not only looking for the best model, Instacart’s also looking for machine learning engineers to grow their team."
   ]
  },
  {
   "cell_type": "markdown",
   "metadata": {},
   "source": [
    "# Import Libraries"
   ]
  },
  {
   "cell_type": "code",
   "execution_count": 51,
   "metadata": {},
   "outputs": [],
   "source": [
    "import numpy as np \n",
    "import pandas as pd \n",
    "import matplotlib.pyplot as plt\n",
    "import seaborn as sns\n",
    "import os\n",
    "color = sns.color_palette()\n",
    "\n",
    "%matplotlib inline\n",
    "\n",
    "import sys\n",
    "from itertools import combinations, groupby\n",
    "from collections import Counter\n",
    "from IPython.display import display\n",
    "\n",
    "import random\n",
    "from sklearn.preprocessing import StandardScaler, OneHotEncoder\n",
    "from sklearn.metrics.pairwise import cosine_similarity \n",
    "\n",
    "pd.options.mode.chained_assignment = None  # default='warn'"
   ]
  },
  {
   "cell_type": "markdown",
   "metadata": {},
   "source": [
    "# Read in Data"
   ]
  },
  {
   "cell_type": "code",
   "execution_count": 3,
   "metadata": {},
   "outputs": [],
   "source": [
    "\n",
    "os.chdir(r'C:\\Users\\craig.snortheim\\Documents\\Datasets\\Instacart')\n",
    "df_aisles = pd.read_csv('aisles.csv')\n",
    "df_departments = pd.read_csv('departments.csv')\n",
    "df_order_products_prior = pd.read_csv('order_products__prior.csv')\n",
    "df_order_products_train = pd.read_csv('order_products__train.csv')\n",
    "df_orders = pd.read_csv('orders.csv')\n",
    "df_products = pd.read_csv('products.csv')"
   ]
  },
  {
   "cell_type": "markdown",
   "metadata": {},
   "source": [
    "# Look at Data"
   ]
  },
  {
   "cell_type": "code",
   "execution_count": 7,
   "metadata": {},
   "outputs": [
    {
     "data": {
      "text/html": [
       "<div>\n",
       "<style scoped>\n",
       "    .dataframe tbody tr th:only-of-type {\n",
       "        vertical-align: middle;\n",
       "    }\n",
       "\n",
       "    .dataframe tbody tr th {\n",
       "        vertical-align: top;\n",
       "    }\n",
       "\n",
       "    .dataframe thead th {\n",
       "        text-align: right;\n",
       "    }\n",
       "</style>\n",
       "<table border=\"1\" class=\"dataframe\">\n",
       "  <thead>\n",
       "    <tr style=\"text-align: right;\">\n",
       "      <th></th>\n",
       "      <th>order_id</th>\n",
       "      <th>user_id</th>\n",
       "      <th>eval_set</th>\n",
       "      <th>order_number</th>\n",
       "      <th>order_dow</th>\n",
       "      <th>order_hour_of_day</th>\n",
       "      <th>days_since_prior_order</th>\n",
       "    </tr>\n",
       "  </thead>\n",
       "  <tbody>\n",
       "    <tr>\n",
       "      <td>0</td>\n",
       "      <td>2539329</td>\n",
       "      <td>1</td>\n",
       "      <td>prior</td>\n",
       "      <td>1</td>\n",
       "      <td>2</td>\n",
       "      <td>8</td>\n",
       "      <td>NaN</td>\n",
       "    </tr>\n",
       "    <tr>\n",
       "      <td>1</td>\n",
       "      <td>2398795</td>\n",
       "      <td>1</td>\n",
       "      <td>prior</td>\n",
       "      <td>2</td>\n",
       "      <td>3</td>\n",
       "      <td>7</td>\n",
       "      <td>15.0</td>\n",
       "    </tr>\n",
       "    <tr>\n",
       "      <td>2</td>\n",
       "      <td>473747</td>\n",
       "      <td>1</td>\n",
       "      <td>prior</td>\n",
       "      <td>3</td>\n",
       "      <td>3</td>\n",
       "      <td>12</td>\n",
       "      <td>21.0</td>\n",
       "    </tr>\n",
       "    <tr>\n",
       "      <td>3</td>\n",
       "      <td>2254736</td>\n",
       "      <td>1</td>\n",
       "      <td>prior</td>\n",
       "      <td>4</td>\n",
       "      <td>4</td>\n",
       "      <td>7</td>\n",
       "      <td>29.0</td>\n",
       "    </tr>\n",
       "    <tr>\n",
       "      <td>4</td>\n",
       "      <td>431534</td>\n",
       "      <td>1</td>\n",
       "      <td>prior</td>\n",
       "      <td>5</td>\n",
       "      <td>4</td>\n",
       "      <td>15</td>\n",
       "      <td>28.0</td>\n",
       "    </tr>\n",
       "  </tbody>\n",
       "</table>\n",
       "</div>"
      ],
      "text/plain": [
       "   order_id  user_id eval_set  order_number  order_dow  order_hour_of_day  \\\n",
       "0   2539329        1    prior             1          2                  8   \n",
       "1   2398795        1    prior             2          3                  7   \n",
       "2    473747        1    prior             3          3                 12   \n",
       "3   2254736        1    prior             4          4                  7   \n",
       "4    431534        1    prior             5          4                 15   \n",
       "\n",
       "   days_since_prior_order  \n",
       "0                     NaN  \n",
       "1                    15.0  \n",
       "2                    21.0  \n",
       "3                    29.0  \n",
       "4                    28.0  "
      ]
     },
     "execution_count": 7,
     "metadata": {},
     "output_type": "execute_result"
    }
   ],
   "source": [
    "df_orders.head()"
   ]
  },
  {
   "cell_type": "code",
   "execution_count": 8,
   "metadata": {},
   "outputs": [
    {
     "data": {
      "text/html": [
       "<div>\n",
       "<style scoped>\n",
       "    .dataframe tbody tr th:only-of-type {\n",
       "        vertical-align: middle;\n",
       "    }\n",
       "\n",
       "    .dataframe tbody tr th {\n",
       "        vertical-align: top;\n",
       "    }\n",
       "\n",
       "    .dataframe thead th {\n",
       "        text-align: right;\n",
       "    }\n",
       "</style>\n",
       "<table border=\"1\" class=\"dataframe\">\n",
       "  <thead>\n",
       "    <tr style=\"text-align: right;\">\n",
       "      <th></th>\n",
       "      <th>order_id</th>\n",
       "      <th>product_id</th>\n",
       "      <th>add_to_cart_order</th>\n",
       "      <th>reordered</th>\n",
       "    </tr>\n",
       "  </thead>\n",
       "  <tbody>\n",
       "    <tr>\n",
       "      <td>0</td>\n",
       "      <td>2</td>\n",
       "      <td>33120</td>\n",
       "      <td>1</td>\n",
       "      <td>1</td>\n",
       "    </tr>\n",
       "    <tr>\n",
       "      <td>1</td>\n",
       "      <td>2</td>\n",
       "      <td>28985</td>\n",
       "      <td>2</td>\n",
       "      <td>1</td>\n",
       "    </tr>\n",
       "    <tr>\n",
       "      <td>2</td>\n",
       "      <td>2</td>\n",
       "      <td>9327</td>\n",
       "      <td>3</td>\n",
       "      <td>0</td>\n",
       "    </tr>\n",
       "    <tr>\n",
       "      <td>3</td>\n",
       "      <td>2</td>\n",
       "      <td>45918</td>\n",
       "      <td>4</td>\n",
       "      <td>1</td>\n",
       "    </tr>\n",
       "    <tr>\n",
       "      <td>4</td>\n",
       "      <td>2</td>\n",
       "      <td>30035</td>\n",
       "      <td>5</td>\n",
       "      <td>0</td>\n",
       "    </tr>\n",
       "  </tbody>\n",
       "</table>\n",
       "</div>"
      ],
      "text/plain": [
       "   order_id  product_id  add_to_cart_order  reordered\n",
       "0         2       33120                  1          1\n",
       "1         2       28985                  2          1\n",
       "2         2        9327                  3          0\n",
       "3         2       45918                  4          1\n",
       "4         2       30035                  5          0"
      ]
     },
     "execution_count": 8,
     "metadata": {},
     "output_type": "execute_result"
    }
   ],
   "source": [
    "df_order_products_prior.head()"
   ]
  },
  {
   "cell_type": "code",
   "execution_count": 9,
   "metadata": {},
   "outputs": [
    {
     "data": {
      "text/html": [
       "<div>\n",
       "<style scoped>\n",
       "    .dataframe tbody tr th:only-of-type {\n",
       "        vertical-align: middle;\n",
       "    }\n",
       "\n",
       "    .dataframe tbody tr th {\n",
       "        vertical-align: top;\n",
       "    }\n",
       "\n",
       "    .dataframe thead th {\n",
       "        text-align: right;\n",
       "    }\n",
       "</style>\n",
       "<table border=\"1\" class=\"dataframe\">\n",
       "  <thead>\n",
       "    <tr style=\"text-align: right;\">\n",
       "      <th></th>\n",
       "      <th>order_id</th>\n",
       "      <th>product_id</th>\n",
       "      <th>add_to_cart_order</th>\n",
       "      <th>reordered</th>\n",
       "    </tr>\n",
       "  </thead>\n",
       "  <tbody>\n",
       "    <tr>\n",
       "      <td>0</td>\n",
       "      <td>1</td>\n",
       "      <td>49302</td>\n",
       "      <td>1</td>\n",
       "      <td>1</td>\n",
       "    </tr>\n",
       "    <tr>\n",
       "      <td>1</td>\n",
       "      <td>1</td>\n",
       "      <td>11109</td>\n",
       "      <td>2</td>\n",
       "      <td>1</td>\n",
       "    </tr>\n",
       "    <tr>\n",
       "      <td>2</td>\n",
       "      <td>1</td>\n",
       "      <td>10246</td>\n",
       "      <td>3</td>\n",
       "      <td>0</td>\n",
       "    </tr>\n",
       "    <tr>\n",
       "      <td>3</td>\n",
       "      <td>1</td>\n",
       "      <td>49683</td>\n",
       "      <td>4</td>\n",
       "      <td>0</td>\n",
       "    </tr>\n",
       "    <tr>\n",
       "      <td>4</td>\n",
       "      <td>1</td>\n",
       "      <td>43633</td>\n",
       "      <td>5</td>\n",
       "      <td>1</td>\n",
       "    </tr>\n",
       "  </tbody>\n",
       "</table>\n",
       "</div>"
      ],
      "text/plain": [
       "   order_id  product_id  add_to_cart_order  reordered\n",
       "0         1       49302                  1          1\n",
       "1         1       11109                  2          1\n",
       "2         1       10246                  3          0\n",
       "3         1       49683                  4          0\n",
       "4         1       43633                  5          1"
      ]
     },
     "execution_count": 9,
     "metadata": {},
     "output_type": "execute_result"
    }
   ],
   "source": [
    "df_order_products_train.head()"
   ]
  },
  {
   "cell_type": "code",
   "execution_count": 10,
   "metadata": {},
   "outputs": [
    {
     "data": {
      "text/html": [
       "<div>\n",
       "<style scoped>\n",
       "    .dataframe tbody tr th:only-of-type {\n",
       "        vertical-align: middle;\n",
       "    }\n",
       "\n",
       "    .dataframe tbody tr th {\n",
       "        vertical-align: top;\n",
       "    }\n",
       "\n",
       "    .dataframe thead th {\n",
       "        text-align: right;\n",
       "    }\n",
       "</style>\n",
       "<table border=\"1\" class=\"dataframe\">\n",
       "  <thead>\n",
       "    <tr style=\"text-align: right;\">\n",
       "      <th></th>\n",
       "      <th>product_id</th>\n",
       "      <th>product_name</th>\n",
       "      <th>aisle_id</th>\n",
       "      <th>department_id</th>\n",
       "    </tr>\n",
       "  </thead>\n",
       "  <tbody>\n",
       "    <tr>\n",
       "      <td>0</td>\n",
       "      <td>1</td>\n",
       "      <td>Chocolate Sandwich Cookies</td>\n",
       "      <td>61</td>\n",
       "      <td>19</td>\n",
       "    </tr>\n",
       "    <tr>\n",
       "      <td>1</td>\n",
       "      <td>2</td>\n",
       "      <td>All-Seasons Salt</td>\n",
       "      <td>104</td>\n",
       "      <td>13</td>\n",
       "    </tr>\n",
       "    <tr>\n",
       "      <td>2</td>\n",
       "      <td>3</td>\n",
       "      <td>Robust Golden Unsweetened Oolong Tea</td>\n",
       "      <td>94</td>\n",
       "      <td>7</td>\n",
       "    </tr>\n",
       "    <tr>\n",
       "      <td>3</td>\n",
       "      <td>4</td>\n",
       "      <td>Smart Ones Classic Favorites Mini Rigatoni Wit...</td>\n",
       "      <td>38</td>\n",
       "      <td>1</td>\n",
       "    </tr>\n",
       "    <tr>\n",
       "      <td>4</td>\n",
       "      <td>5</td>\n",
       "      <td>Green Chile Anytime Sauce</td>\n",
       "      <td>5</td>\n",
       "      <td>13</td>\n",
       "    </tr>\n",
       "  </tbody>\n",
       "</table>\n",
       "</div>"
      ],
      "text/plain": [
       "   product_id                                       product_name  aisle_id  \\\n",
       "0           1                         Chocolate Sandwich Cookies        61   \n",
       "1           2                                   All-Seasons Salt       104   \n",
       "2           3               Robust Golden Unsweetened Oolong Tea        94   \n",
       "3           4  Smart Ones Classic Favorites Mini Rigatoni Wit...        38   \n",
       "4           5                          Green Chile Anytime Sauce         5   \n",
       "\n",
       "   department_id  \n",
       "0             19  \n",
       "1             13  \n",
       "2              7  \n",
       "3              1  \n",
       "4             13  "
      ]
     },
     "execution_count": 10,
     "metadata": {},
     "output_type": "execute_result"
    }
   ],
   "source": [
    "df_products.head()"
   ]
  },
  {
   "cell_type": "code",
   "execution_count": 11,
   "metadata": {},
   "outputs": [
    {
     "data": {
      "text/html": [
       "<div>\n",
       "<style scoped>\n",
       "    .dataframe tbody tr th:only-of-type {\n",
       "        vertical-align: middle;\n",
       "    }\n",
       "\n",
       "    .dataframe tbody tr th {\n",
       "        vertical-align: top;\n",
       "    }\n",
       "\n",
       "    .dataframe thead th {\n",
       "        text-align: right;\n",
       "    }\n",
       "</style>\n",
       "<table border=\"1\" class=\"dataframe\">\n",
       "  <thead>\n",
       "    <tr style=\"text-align: right;\">\n",
       "      <th></th>\n",
       "      <th>department_id</th>\n",
       "      <th>department</th>\n",
       "    </tr>\n",
       "  </thead>\n",
       "  <tbody>\n",
       "    <tr>\n",
       "      <td>0</td>\n",
       "      <td>1</td>\n",
       "      <td>frozen</td>\n",
       "    </tr>\n",
       "    <tr>\n",
       "      <td>1</td>\n",
       "      <td>2</td>\n",
       "      <td>other</td>\n",
       "    </tr>\n",
       "    <tr>\n",
       "      <td>2</td>\n",
       "      <td>3</td>\n",
       "      <td>bakery</td>\n",
       "    </tr>\n",
       "    <tr>\n",
       "      <td>3</td>\n",
       "      <td>4</td>\n",
       "      <td>produce</td>\n",
       "    </tr>\n",
       "    <tr>\n",
       "      <td>4</td>\n",
       "      <td>5</td>\n",
       "      <td>alcohol</td>\n",
       "    </tr>\n",
       "  </tbody>\n",
       "</table>\n",
       "</div>"
      ],
      "text/plain": [
       "   department_id department\n",
       "0              1     frozen\n",
       "1              2      other\n",
       "2              3     bakery\n",
       "3              4    produce\n",
       "4              5    alcohol"
      ]
     },
     "execution_count": 11,
     "metadata": {},
     "output_type": "execute_result"
    }
   ],
   "source": [
    "df_departments.head()"
   ]
  },
  {
   "cell_type": "code",
   "execution_count": 12,
   "metadata": {},
   "outputs": [
    {
     "data": {
      "text/html": [
       "<div>\n",
       "<style scoped>\n",
       "    .dataframe tbody tr th:only-of-type {\n",
       "        vertical-align: middle;\n",
       "    }\n",
       "\n",
       "    .dataframe tbody tr th {\n",
       "        vertical-align: top;\n",
       "    }\n",
       "\n",
       "    .dataframe thead th {\n",
       "        text-align: right;\n",
       "    }\n",
       "</style>\n",
       "<table border=\"1\" class=\"dataframe\">\n",
       "  <thead>\n",
       "    <tr style=\"text-align: right;\">\n",
       "      <th></th>\n",
       "      <th>aisle_id</th>\n",
       "      <th>aisle</th>\n",
       "    </tr>\n",
       "  </thead>\n",
       "  <tbody>\n",
       "    <tr>\n",
       "      <td>0</td>\n",
       "      <td>1</td>\n",
       "      <td>prepared soups salads</td>\n",
       "    </tr>\n",
       "    <tr>\n",
       "      <td>1</td>\n",
       "      <td>2</td>\n",
       "      <td>specialty cheeses</td>\n",
       "    </tr>\n",
       "    <tr>\n",
       "      <td>2</td>\n",
       "      <td>3</td>\n",
       "      <td>energy granola bars</td>\n",
       "    </tr>\n",
       "    <tr>\n",
       "      <td>3</td>\n",
       "      <td>4</td>\n",
       "      <td>instant foods</td>\n",
       "    </tr>\n",
       "    <tr>\n",
       "      <td>4</td>\n",
       "      <td>5</td>\n",
       "      <td>marinades meat preparation</td>\n",
       "    </tr>\n",
       "  </tbody>\n",
       "</table>\n",
       "</div>"
      ],
      "text/plain": [
       "   aisle_id                       aisle\n",
       "0         1       prepared soups salads\n",
       "1         2           specialty cheeses\n",
       "2         3         energy granola bars\n",
       "3         4               instant foods\n",
       "4         5  marinades meat preparation"
      ]
     },
     "execution_count": 12,
     "metadata": {},
     "output_type": "execute_result"
    }
   ],
   "source": [
    "df_aisles.head()"
   ]
  },
  {
   "cell_type": "code",
   "execution_count": 13,
   "metadata": {},
   "outputs": [
    {
     "data": {
      "text/plain": [
       "prior    3214874\n",
       "train     131209\n",
       "test       75000\n",
       "Name: eval_set, dtype: int64"
      ]
     },
     "execution_count": 13,
     "metadata": {},
     "output_type": "execute_result"
    }
   ],
   "source": [
    "#Count rows in the data sets\n",
    "cnt_records = df_orders.eval_set.value_counts()\n",
    "cnt_records"
   ]
  },
  {
   "cell_type": "code",
   "execution_count": 10,
   "metadata": {},
   "outputs": [
    {
     "name": "stdout",
     "output_type": "stream",
     "text": [
      "Number of Orders:...............32434489\n",
      "Number of Unique Products:......49688\n",
      "Number of Unique Aisles:........134\n",
      "Number of Unique Departments:...21\n",
      "Number of Unique Customers:.....206209\n"
     ]
    }
   ],
   "source": [
    "print('Number of Orders:...............' + str((df_order_products_prior['order_id'].count())))\n",
    "print('Number of Unique Products:......' + str((len(df_products['product_name'].unique()))))\n",
    "print('Number of Unique Aisles:........' + str((len(df_aisles['aisle'].unique()))))\n",
    "print('Number of Unique Departments:...' + str((len(df_departments['department'].unique()))))\n",
    "print('Number of Unique Customers:.....' + str((len(df_orders['user_id'].unique()))))"
   ]
  },
  {
   "cell_type": "markdown",
   "metadata": {},
   "source": [
    "# Data Exploration of Order Tendencies"
   ]
  },
  {
   "cell_type": "markdown",
   "metadata": {},
   "source": [
    "Orders by Day of Week"
   ]
  },
  {
   "cell_type": "code",
   "execution_count": 12,
   "metadata": {},
   "outputs": [
    {
     "data": {
      "image/png": "[encoded data removed]",
      "text/plain": [
       "<Figure size 864x576 with 1 Axes>"
      ]
     },
     "metadata": {
      "needs_background": "light"
     },
     "output_type": "display_data"
    }
   ],
   "source": [
    "#Orders by Day of Week\n",
    "\n",
    "df_orders['dayofweek'] = np.where(df_orders['order_dow']==0, 'Sunday', \n",
    "                                  np.where(df_orders['order_dow']==1, 'Monday',\n",
    "                                           np.where(df_orders['order_dow']==2, 'Tuesday',\n",
    "                                                    np.where(df_orders['order_dow']==3, 'Wednesday',\n",
    "                                                             np.where(df_orders['order_dow']==4, 'Thursday',\n",
    "                                                                      np.where(df_orders['order_dow']==5\n",
    "                                                                               , 'Friday', 'Saturday'))))))\n",
    "\n",
    "\n",
    "\n",
    "\n",
    "plt.figure(figsize=(12,8))\n",
    "sns.countplot(x=\"dayofweek\", data=df_orders, color='b', order = ['Sunday', 'Monday', 'Tuesday', 'Wednesday'\n",
    "                                                                     ,'Thursday', 'Friday', 'Saturday'])\n",
    "plt.ylabel('Total Orders', fontsize=15)\n",
    "plt.xlabel('Day of Week', fontsize=15)\n",
    "plt.xticks(rotation='vertical', fontsize = 12)\n",
    "plt.title(\"Orders by Day of Week\", fontsize=18)\n",
    "plt.show()\n"
   ]
  },
  {
   "cell_type": "markdown",
   "metadata": {},
   "source": [
    "Orders by hour of day"
   ]
  },
  {
   "cell_type": "code",
   "execution_count": 14,
   "metadata": {},
   "outputs": [
    {
     "data": {
      "image/png": "[encoded data removed]",
      "text/plain": [
       "<Figure size 864x576 with 1 Axes>"
      ]
     },
     "metadata": {
      "needs_background": "light"
     },
     "output_type": "display_data"
    }
   ],
   "source": [
    "plt.figure(figsize=(12,8))\n",
    "sns.countplot(x=\"order_hour_of_day\", data=df_orders, color = 'orange')\n",
    "plt.ylabel('Count', fontsize=15)\n",
    "plt.xlabel('Hour of day', fontsize=15)\n",
    "plt.xticks(rotation='vertical', fontsize = 15)\n",
    "plt.title(\"Orders by Hour of dDy\", fontsize=15)\n",
    "plt.show()"
   ]
  },
  {
   "cell_type": "markdown",
   "metadata": {},
   "source": [
    "orders by hour and day of week"
   ]
  },
  {
   "cell_type": "code",
   "execution_count": 17,
   "metadata": {},
   "outputs": [
    {
     "data": {
      "image/png": "[encoded data removed]",
      "text/plain": [
       "<Figure size 864x432 with 2 Axes>"
      ]
     },
     "metadata": {
      "needs_background": "light"
     },
     "output_type": "display_data"
    }
   ],
   "source": [
    "df_time_series = df_orders.groupby(\n",
    "   ['order_dow','dayofweek', 'order_hour_of_day']\n",
    ").agg(\n",
    "    {\n",
    "        'order_number': 'count'\n",
    "              \n",
    "    }\n",
    ").reset_index()\n",
    "\n",
    "\n",
    "df_time_series = df_time_series.pivot('dayofweek', 'order_hour_of_day', 'order_number')\n",
    "\n",
    "plt.figure(figsize=(12,6))\n",
    "sns.heatmap(data = df_time_series, cmap=\"Greens\")\n",
    "plt.title(\"Frequency of Day of week Vs Hour of day\")\n",
    "plt.show()"
   ]
  },
  {
   "cell_type": "markdown",
   "metadata": {},
   "source": [
    "Orders by days since previous order"
   ]
  },
  {
   "cell_type": "code",
   "execution_count": 18,
   "metadata": {},
   "outputs": [
    {
     "data": {
      "image/png": "[encoded data removed]",
      "text/plain": [
       "<Figure size 864x576 with 1 Axes>"
      ]
     },
     "metadata": {
      "needs_background": "light"
     },
     "output_type": "display_data"
    }
   ],
   "source": [
    "plt.figure(figsize=(12,8))\n",
    "sns.countplot(x=\"days_since_prior_order\", data=df_orders, color= 'r')\n",
    "plt.ylabel('Count', fontsize=15)\n",
    "plt.xlabel('Days since prior order', fontsize=15)\n",
    "plt.xticks(rotation='vertical', fontsize = 15)\n",
    "plt.title(\"Orders by Days Since Prior Order\", fontsize=18)\n",
    "plt.show()"
   ]
  },
  {
   "cell_type": "markdown",
   "metadata": {},
   "source": [
    "Percent of products that have a reorder"
   ]
  },
  {
   "cell_type": "code",
   "execution_count": 26,
   "metadata": {},
   "outputs": [
    {
     "name": "stdout",
     "output_type": "stream",
     "text": [
      "Percent of Products that get Reordered: 58.97%\n"
     ]
    }
   ],
   "source": [
    "percent_reorder = df_order_products_prior.reordered.sum() / df_order_products_prior.shape[0]\n",
    "print ('Percent of Products that get Reordered: ' + str(round(percent_reorder * 100, 2)) + '%')"
   ]
  },
  {
   "cell_type": "code",
   "execution_count": 27,
   "metadata": {},
   "outputs": [
    {
     "name": "stdout",
     "output_type": "stream",
     "text": [
      "Percent of Products that get Reordered in Train Set: 59.86%\n"
     ]
    }
   ],
   "source": [
    "# percentage of re-orders in train set \n",
    "percent_reorder = df_order_products_train.reordered.sum() / df_order_products_train.shape[0]\n",
    "print ('Percent of Products that get Reordered in Train Set: ' + str(round(percent_reorder * 100, 2)) + '%')"
   ]
  },
  {
   "cell_type": "markdown",
   "metadata": {},
   "source": [
    "Number of Products in Each order"
   ]
  },
  {
   "cell_type": "code",
   "execution_count": 37,
   "metadata": {},
   "outputs": [
    {
     "data": {
      "image/png": "[encoded data removed]",
      "text/plain": [
       "<Figure size 864x576 with 1 Axes>"
      ]
     },
     "metadata": {
      "needs_background": "light"
     },
     "output_type": "display_data"
    }
   ],
   "source": [
    "df_grouped = df_order_products_prior.groupby(\n",
    "   ['order_id']\n",
    ").agg(\n",
    "    {\n",
    "        'add_to_cart_order': 'max'\n",
    "              \n",
    "    }\n",
    ")\n",
    "\n",
    "df_grouped= df_grouped.loc[df_grouped['add_to_cart_order'] < 50]\n",
    "\n",
    "cnt_prods = df_grouped.add_to_cart_order.value_counts()\n",
    "\n",
    "plt.figure(figsize=(12,8))\n",
    "sns.pointplot(cnt_prods.index, cnt_prods.values, alpha=0.8)\n",
    "plt.title(\"Number of Products per Order\", fontsize=18)\n",
    "plt.ylabel('Number of Occurrences', fontsize=15)\n",
    "plt.xlabel('Number of products in the given order', fontsize=15)\n",
    "plt.xticks(rotation='vertical')\n",
    "plt.show()"
   ]
  },
  {
   "cell_type": "markdown",
   "metadata": {},
   "source": [
    "# Product, Aisle, and Department Data Analysis"
   ]
  },
  {
   "cell_type": "code",
   "execution_count": 42,
   "metadata": {},
   "outputs": [
    {
     "data": {
      "text/html": [
       "<div>\n",
       "<style scoped>\n",
       "    .dataframe tbody tr th:only-of-type {\n",
       "        vertical-align: middle;\n",
       "    }\n",
       "\n",
       "    .dataframe tbody tr th {\n",
       "        vertical-align: top;\n",
       "    }\n",
       "\n",
       "    .dataframe thead th {\n",
       "        text-align: right;\n",
       "    }\n",
       "</style>\n",
       "<table border=\"1\" class=\"dataframe\">\n",
       "  <thead>\n",
       "    <tr style=\"text-align: right;\">\n",
       "      <th></th>\n",
       "      <th>order_id</th>\n",
       "      <th>product_id</th>\n",
       "      <th>add_to_cart_order</th>\n",
       "      <th>reordered</th>\n",
       "      <th>product_name</th>\n",
       "      <th>aisle_id</th>\n",
       "      <th>department_id</th>\n",
       "      <th>aisle</th>\n",
       "      <th>department</th>\n",
       "    </tr>\n",
       "  </thead>\n",
       "  <tbody>\n",
       "    <tr>\n",
       "      <th>0</th>\n",
       "      <td>2</td>\n",
       "      <td>33120</td>\n",
       "      <td>1</td>\n",
       "      <td>1</td>\n",
       "      <td>Organic Egg Whites</td>\n",
       "      <td>86</td>\n",
       "      <td>16</td>\n",
       "      <td>eggs</td>\n",
       "      <td>dairy eggs</td>\n",
       "    </tr>\n",
       "    <tr>\n",
       "      <th>1</th>\n",
       "      <td>2</td>\n",
       "      <td>28985</td>\n",
       "      <td>2</td>\n",
       "      <td>1</td>\n",
       "      <td>Michigan Organic Kale</td>\n",
       "      <td>83</td>\n",
       "      <td>4</td>\n",
       "      <td>fresh vegetables</td>\n",
       "      <td>produce</td>\n",
       "    </tr>\n",
       "    <tr>\n",
       "      <th>2</th>\n",
       "      <td>2</td>\n",
       "      <td>9327</td>\n",
       "      <td>3</td>\n",
       "      <td>0</td>\n",
       "      <td>Garlic Powder</td>\n",
       "      <td>104</td>\n",
       "      <td>13</td>\n",
       "      <td>spices seasonings</td>\n",
       "      <td>pantry</td>\n",
       "    </tr>\n",
       "    <tr>\n",
       "      <th>3</th>\n",
       "      <td>2</td>\n",
       "      <td>45918</td>\n",
       "      <td>4</td>\n",
       "      <td>1</td>\n",
       "      <td>Coconut Butter</td>\n",
       "      <td>19</td>\n",
       "      <td>13</td>\n",
       "      <td>oils vinegars</td>\n",
       "      <td>pantry</td>\n",
       "    </tr>\n",
       "    <tr>\n",
       "      <th>4</th>\n",
       "      <td>2</td>\n",
       "      <td>30035</td>\n",
       "      <td>5</td>\n",
       "      <td>0</td>\n",
       "      <td>Natural Sweetener</td>\n",
       "      <td>17</td>\n",
       "      <td>13</td>\n",
       "      <td>baking ingredients</td>\n",
       "      <td>pantry</td>\n",
       "    </tr>\n",
       "  </tbody>\n",
       "</table>\n",
       "</div>"
      ],
      "text/plain": [
       "   order_id  product_id  add_to_cart_order  reordered           product_name  \\\n",
       "0         2       33120                  1          1     Organic Egg Whites   \n",
       "1         2       28985                  2          1  Michigan Organic Kale   \n",
       "2         2        9327                  3          0          Garlic Powder   \n",
       "3         2       45918                  4          1         Coconut Butter   \n",
       "4         2       30035                  5          0      Natural Sweetener   \n",
       "\n",
       "   aisle_id  department_id               aisle  department  \n",
       "0        86             16                eggs  dairy eggs  \n",
       "1        83              4    fresh vegetables     produce  \n",
       "2       104             13   spices seasonings      pantry  \n",
       "3        19             13       oils vinegars      pantry  \n",
       "4        17             13  baking ingredients      pantry  "
      ]
     },
     "execution_count": 42,
     "metadata": {},
     "output_type": "execute_result"
    }
   ],
   "source": [
    "# Join product, aisle, and department infor into the prior order data\n",
    "df_order_products_prior = pd.merge(df_order_products_prior, df_products, on='product_id', how='left')\n",
    "df_order_products_prior = pd.merge(df_order_products_prior, df_aisles, on='aisle_id', how='left')\n",
    "df_order_products_prior = pd.merge(df_order_products_prior, df_departments, on='department_id', how='left')\n",
    "df_order_products_prior.head()"
   ]
  },
  {
   "cell_type": "markdown",
   "metadata": {},
   "source": [
    "Most ordered products, aisles, departments"
   ]
  },
  {
   "cell_type": "code",
   "execution_count": 63,
   "metadata": {},
   "outputs": [
    {
     "data": {
      "text/html": [
       "<div>\n",
       "<style scoped>\n",
       "    .dataframe tbody tr th:only-of-type {\n",
       "        vertical-align: middle;\n",
       "    }\n",
       "\n",
       "    .dataframe tbody tr th {\n",
       "        vertical-align: top;\n",
       "    }\n",
       "\n",
       "    .dataframe thead th {\n",
       "        text-align: right;\n",
       "    }\n",
       "</style>\n",
       "<table border=\"1\" class=\"dataframe\">\n",
       "  <thead>\n",
       "    <tr style=\"text-align: right;\">\n",
       "      <th></th>\n",
       "      <th>product_name</th>\n",
       "      <th>NumberOfOrders</th>\n",
       "    </tr>\n",
       "  </thead>\n",
       "  <tbody>\n",
       "    <tr>\n",
       "      <th>3676</th>\n",
       "      <td>Banana</td>\n",
       "      <td>472565</td>\n",
       "    </tr>\n",
       "    <tr>\n",
       "      <th>3471</th>\n",
       "      <td>Bag of Organic Bananas</td>\n",
       "      <td>379450</td>\n",
       "    </tr>\n",
       "    <tr>\n",
       "      <th>31920</th>\n",
       "      <td>Organic Strawberries</td>\n",
       "      <td>264683</td>\n",
       "    </tr>\n",
       "    <tr>\n",
       "      <th>28840</th>\n",
       "      <td>Organic Baby Spinach</td>\n",
       "      <td>241921</td>\n",
       "    </tr>\n",
       "    <tr>\n",
       "      <th>30297</th>\n",
       "      <td>Organic Hass Avocado</td>\n",
       "      <td>213584</td>\n",
       "    </tr>\n",
       "    <tr>\n",
       "      <th>28804</th>\n",
       "      <td>Organic Avocado</td>\n",
       "      <td>176815</td>\n",
       "    </tr>\n",
       "    <tr>\n",
       "      <th>22413</th>\n",
       "      <td>Large Lemon</td>\n",
       "      <td>152657</td>\n",
       "    </tr>\n",
       "    <tr>\n",
       "      <th>42904</th>\n",
       "      <td>Strawberries</td>\n",
       "      <td>142951</td>\n",
       "    </tr>\n",
       "    <tr>\n",
       "      <th>23420</th>\n",
       "      <td>Limes</td>\n",
       "      <td>140627</td>\n",
       "    </tr>\n",
       "    <tr>\n",
       "      <th>32478</th>\n",
       "      <td>Organic Whole Milk</td>\n",
       "      <td>137905</td>\n",
       "    </tr>\n",
       "  </tbody>\n",
       "</table>\n",
       "</div>"
      ],
      "text/plain": [
       "                 product_name  NumberOfOrders\n",
       "3676                   Banana          472565\n",
       "3471   Bag of Organic Bananas          379450\n",
       "31920    Organic Strawberries          264683\n",
       "28840    Organic Baby Spinach          241921\n",
       "30297    Organic Hass Avocado          213584\n",
       "28804         Organic Avocado          176815\n",
       "22413             Large Lemon          152657\n",
       "42904            Strawberries          142951\n",
       "23420                   Limes          140627\n",
       "32478      Organic Whole Milk          137905"
      ]
     },
     "execution_count": 63,
     "metadata": {},
     "output_type": "execute_result"
    }
   ],
   "source": [
    "#Top ordered products\n",
    "cnt_products = df_order_products_prior.groupby(\n",
    "   ['product_name']\n",
    ").agg(\n",
    "    {\n",
    "        'order_id': 'count'\n",
    "              \n",
    "    }\n",
    ").reset_index()\n",
    "\n",
    "cnt_products = cnt_products.rename(columns={'order_id': 'NumberOfOrders'})\n",
    "cnt_products = cnt_products.sort_values(by = 'NumberOfOrders', ascending = False)\n",
    "cnt_products.head(10)"
   ]
  },
  {
   "cell_type": "code",
   "execution_count": 67,
   "metadata": {},
   "outputs": [
    {
     "data": {
      "text/html": [
       "<div>\n",
       "<style scoped>\n",
       "    .dataframe tbody tr th:only-of-type {\n",
       "        vertical-align: middle;\n",
       "    }\n",
       "\n",
       "    .dataframe tbody tr th {\n",
       "        vertical-align: top;\n",
       "    }\n",
       "\n",
       "    .dataframe thead th {\n",
       "        text-align: right;\n",
       "    }\n",
       "</style>\n",
       "<table border=\"1\" class=\"dataframe\">\n",
       "  <thead>\n",
       "    <tr style=\"text-align: right;\">\n",
       "      <th></th>\n",
       "      <th>aisle</th>\n",
       "      <th>NumberOfOrders</th>\n",
       "    </tr>\n",
       "  </thead>\n",
       "  <tbody>\n",
       "    <tr>\n",
       "      <th>50</th>\n",
       "      <td>fresh fruits</td>\n",
       "      <td>3642188</td>\n",
       "    </tr>\n",
       "    <tr>\n",
       "      <th>53</th>\n",
       "      <td>fresh vegetables</td>\n",
       "      <td>3418021</td>\n",
       "    </tr>\n",
       "    <tr>\n",
       "      <th>98</th>\n",
       "      <td>packaged vegetables fruits</td>\n",
       "      <td>1765313</td>\n",
       "    </tr>\n",
       "    <tr>\n",
       "      <th>133</th>\n",
       "      <td>yogurt</td>\n",
       "      <td>1452343</td>\n",
       "    </tr>\n",
       "    <tr>\n",
       "      <th>93</th>\n",
       "      <td>packaged cheese</td>\n",
       "      <td>979763</td>\n",
       "    </tr>\n",
       "    <tr>\n",
       "      <th>83</th>\n",
       "      <td>milk</td>\n",
       "      <td>891015</td>\n",
       "    </tr>\n",
       "    <tr>\n",
       "      <th>131</th>\n",
       "      <td>water seltzer sparkling water</td>\n",
       "      <td>841533</td>\n",
       "    </tr>\n",
       "    <tr>\n",
       "      <th>25</th>\n",
       "      <td>chips pretzels</td>\n",
       "      <td>722470</td>\n",
       "    </tr>\n",
       "    <tr>\n",
       "      <th>119</th>\n",
       "      <td>soy lactosefree</td>\n",
       "      <td>638253</td>\n",
       "    </tr>\n",
       "    <tr>\n",
       "      <th>11</th>\n",
       "      <td>bread</td>\n",
       "      <td>584834</td>\n",
       "    </tr>\n",
       "  </tbody>\n",
       "</table>\n",
       "</div>"
      ],
      "text/plain": [
       "                             aisle  NumberOfOrders\n",
       "50                    fresh fruits         3642188\n",
       "53                fresh vegetables         3418021\n",
       "98      packaged vegetables fruits         1765313\n",
       "133                         yogurt         1452343\n",
       "93                 packaged cheese          979763\n",
       "83                            milk          891015\n",
       "131  water seltzer sparkling water          841533\n",
       "25                  chips pretzels          722470\n",
       "119                soy lactosefree          638253\n",
       "11                           bread          584834"
      ]
     },
     "execution_count": 67,
     "metadata": {},
     "output_type": "execute_result"
    }
   ],
   "source": [
    "#Top ordered aisles\n",
    "cnt_aisles = df_order_products_prior.groupby(\n",
    "   ['aisle']\n",
    ").agg(\n",
    "    {\n",
    "        'order_id': 'count'\n",
    "              \n",
    "    }\n",
    ").reset_index()\n",
    "\n",
    "cnt_aisles = cnt_aisles.rename(columns={'order_id': 'NumberOfOrders'})\n",
    "cnt_aisles = cnt_aisles.sort_values(by = 'NumberOfOrders', ascending = False)\n",
    "cnt_aisles.head(10)"
   ]
  },
  {
   "cell_type": "code",
   "execution_count": 65,
   "metadata": {},
   "outputs": [
    {
     "data": {
      "text/html": [
       "<div>\n",
       "<style scoped>\n",
       "    .dataframe tbody tr th:only-of-type {\n",
       "        vertical-align: middle;\n",
       "    }\n",
       "\n",
       "    .dataframe tbody tr th {\n",
       "        vertical-align: top;\n",
       "    }\n",
       "\n",
       "    .dataframe thead th {\n",
       "        text-align: right;\n",
       "    }\n",
       "</style>\n",
       "<table border=\"1\" class=\"dataframe\">\n",
       "  <thead>\n",
       "    <tr style=\"text-align: right;\">\n",
       "      <th></th>\n",
       "      <th>department</th>\n",
       "      <th>NumberOfOrders</th>\n",
       "    </tr>\n",
       "  </thead>\n",
       "  <tbody>\n",
       "    <tr>\n",
       "      <th>19</th>\n",
       "      <td>produce</td>\n",
       "      <td>9479291</td>\n",
       "    </tr>\n",
       "    <tr>\n",
       "      <th>7</th>\n",
       "      <td>dairy eggs</td>\n",
       "      <td>5414016</td>\n",
       "    </tr>\n",
       "    <tr>\n",
       "      <th>20</th>\n",
       "      <td>snacks</td>\n",
       "      <td>2887550</td>\n",
       "    </tr>\n",
       "    <tr>\n",
       "      <th>3</th>\n",
       "      <td>beverages</td>\n",
       "      <td>2690129</td>\n",
       "    </tr>\n",
       "    <tr>\n",
       "      <th>10</th>\n",
       "      <td>frozen</td>\n",
       "      <td>2236432</td>\n",
       "    </tr>\n",
       "    <tr>\n",
       "      <th>16</th>\n",
       "      <td>pantry</td>\n",
       "      <td>1875577</td>\n",
       "    </tr>\n",
       "    <tr>\n",
       "      <th>2</th>\n",
       "      <td>bakery</td>\n",
       "      <td>1176787</td>\n",
       "    </tr>\n",
       "    <tr>\n",
       "      <th>6</th>\n",
       "      <td>canned goods</td>\n",
       "      <td>1068058</td>\n",
       "    </tr>\n",
       "    <tr>\n",
       "      <th>8</th>\n",
       "      <td>deli</td>\n",
       "      <td>1051249</td>\n",
       "    </tr>\n",
       "    <tr>\n",
       "      <th>9</th>\n",
       "      <td>dry goods pasta</td>\n",
       "      <td>866627</td>\n",
       "    </tr>\n",
       "  </tbody>\n",
       "</table>\n",
       "</div>"
      ],
      "text/plain": [
       "         department  NumberOfOrders\n",
       "19          produce         9479291\n",
       "7        dairy eggs         5414016\n",
       "20           snacks         2887550\n",
       "3         beverages         2690129\n",
       "10           frozen         2236432\n",
       "16           pantry         1875577\n",
       "2            bakery         1176787\n",
       "6      canned goods         1068058\n",
       "8              deli         1051249\n",
       "9   dry goods pasta          866627"
      ]
     },
     "execution_count": 65,
     "metadata": {},
     "output_type": "execute_result"
    }
   ],
   "source": [
    "#top ordered departments\n",
    "cnt_departments = df_order_products_prior.groupby(\n",
    "   ['department']\n",
    ").agg(\n",
    "    {\n",
    "        'order_id': 'count'\n",
    "              \n",
    "    }\n",
    ").reset_index()\n",
    "\n",
    "cnt_departments = cnt_departments.rename(columns={'order_id': 'NumberOfOrders'})\n",
    "cnt_departments = cnt_departments.sort_values(by = 'NumberOfOrders', ascending = False)\n",
    "cnt_departments.head(10)"
   ]
  },
  {
   "cell_type": "markdown",
   "metadata": {},
   "source": [
    "VIsualize Most ordered products by aisle"
   ]
  },
  {
   "cell_type": "code",
   "execution_count": 43,
   "metadata": {},
   "outputs": [
    {
     "data": {
      "image/png": "[encoded data removed]",
      "text/plain": [
       "<Figure size 864x576 with 1 Axes>"
      ]
     },
     "metadata": {
      "needs_background": "light"
     },
     "output_type": "display_data"
    }
   ],
   "source": [
    "cnt_ailes = df_order_products_prior['aisle'].value_counts().head(20)\n",
    "plt.figure(figsize=(12,8))\n",
    "sns.barplot(cnt_ailes.index, cnt_ailes.values, alpha=0.8)\n",
    "plt.title(\"Top Ordered Aisles\", fontsize=18)\n",
    "plt.ylabel('Number of Occurrences', fontsize=15)\n",
    "plt.xlabel('Aisle', fontsize=15)\n",
    "plt.xticks(rotation='vertical', fontsize = 15)\n",
    "plt.show()"
   ]
  },
  {
   "cell_type": "code",
   "execution_count": 44,
   "metadata": {},
   "outputs": [
    {
     "data": {
      "image/png": "[encoded data removed]",
      "text/plain": [
       "<Figure size 864x576 with 1 Axes>"
      ]
     },
     "metadata": {
      "needs_background": "light"
     },
     "output_type": "display_data"
    }
   ],
   "source": [
    "cnt_ailes = df_order_products_prior['department'].value_counts()\n",
    "plt.figure(figsize=(12,8))\n",
    "sns.barplot(cnt_ailes.index, cnt_ailes.values, alpha=0.8)\n",
    "plt.title(\"Top Ordered Aisles\", fontsize=18)\n",
    "plt.ylabel('Number of Occurrences', fontsize=15)\n",
    "plt.xlabel('Department', fontsize=15)\n",
    "plt.xticks(rotation='vertical', fontsize = 15)\n",
    "plt.show()"
   ]
  },
  {
   "cell_type": "markdown",
   "metadata": {},
   "source": [
    "Proportion of orders by department"
   ]
  },
  {
   "cell_type": "code",
   "execution_count": 73,
   "metadata": {},
   "outputs": [
    {
     "data": {
      "image/png": "[encoded data removed]",
      "text/plain": [
       "<Figure size 720x720 with 1 Axes>"
      ]
     },
     "metadata": {},
     "output_type": "display_data"
    }
   ],
   "source": [
    "plt.figure(figsize=(10,10))\n",
    "temp_series = df_order_products_prior['department'].value_counts()\n",
    "labels = (np.array(temp_series.index))\n",
    "sizes = (np.array((temp_series / temp_series.sum())*100))\n",
    "plt.pie(sizes, labels=labels, \n",
    "        autopct='%1.1f%%', startangle=200)\n",
    "plt.title(\"Departments Proportions\", fontsize=15)\n",
    "plt.show()"
   ]
  },
  {
   "cell_type": "markdown",
   "metadata": {},
   "source": [
    "# Reorder Analysis"
   ]
  },
  {
   "cell_type": "code",
   "execution_count": 45,
   "metadata": {},
   "outputs": [
    {
     "data": {
      "image/png": "[encoded data removed]",
      "text/plain": [
       "<Figure size 864x576 with 1 Axes>"
      ]
     },
     "metadata": {
      "needs_background": "light"
     },
     "output_type": "display_data"
    }
   ],
   "source": [
    "df_grouped = df_order_products_prior.groupby(\n",
    "   ['department']\n",
    ").agg(\n",
    "    {\n",
    "        'reordered': 'mean'\n",
    "              \n",
    "    }\n",
    ").reset_index()\n",
    "\n",
    "\n",
    "plt.figure(figsize=(12,8))\n",
    "sns.barplot(df_grouped['department'].values, df_grouped['reordered'].values, alpha=0.8, color='g')\n",
    "plt.ylabel('Reorder ratio', fontsize=12)\n",
    "plt.xlabel('Department', fontsize=12)\n",
    "plt.title(\"Department Reorder ratio\", fontsize=15)\n",
    "plt.xticks(rotation='vertical')\n",
    "plt.show()"
   ]
  },
  {
   "cell_type": "code",
   "execution_count": 46,
   "metadata": {},
   "outputs": [
    {
     "data": {
      "image/png": "[encoded data removed]",
      "text/plain": [
       "<Figure size 2160x576 with 1 Axes>"
      ]
     },
     "metadata": {
      "needs_background": "light"
     },
     "output_type": "display_data"
    }
   ],
   "source": [
    "df_grouped = df_order_products_prior.groupby(\n",
    "   ['department_id', 'aisle']\n",
    ").agg(\n",
    "    {\n",
    "        'reordered': 'mean'\n",
    "              \n",
    "    }\n",
    ").reset_index()\n",
    "\n",
    "\n",
    "plt.figure(figsize=(30,8))\n",
    "sns.barplot(df_grouped['aisle'].values, df_grouped['reordered'].values, alpha=0.8, color='g')\n",
    "plt.ylabel('Reorder ratio', fontsize=20)\n",
    "plt.xlabel('Aisle', fontsize=20)\n",
    "plt.title(\"Aisle Reorder ratio\", fontsize=25)\n",
    "plt.xticks(rotation='vertical')\n",
    "plt.show()"
   ]
  },
  {
   "cell_type": "markdown",
   "metadata": {},
   "source": [
    "Reorders by what order a product was added to the cart"
   ]
  },
  {
   "cell_type": "code",
   "execution_count": 48,
   "metadata": {},
   "outputs": [
    {
     "data": {
      "image/png": "[encoded data removed]",
      "text/plain": [
       "<Figure size 864x576 with 1 Axes>"
      ]
     },
     "metadata": {
      "needs_background": "light"
     },
     "output_type": "display_data"
    }
   ],
   "source": [
    "df_order_products_prior[\"add_to_cart_order_mod\"] = df_order_products_prior[\"add_to_cart_order\"].copy()\n",
    "df_order_products_prior[\"add_to_cart_order_mod\"].loc[df_order_products_prior[\"add_to_cart_order_mod\"]>50] = 50\n",
    "\n",
    "df_grouped = df_order_products_prior.groupby(\n",
    "   ['add_to_cart_order_mod']\n",
    ").agg(\n",
    "    {\n",
    "        'reordered': 'mean'\n",
    "              \n",
    "    }\n",
    ").reset_index()\n",
    "\n",
    "plt.figure(figsize=(12,8))\n",
    "sns.pointplot(df_grouped['add_to_cart_order_mod'].values, df_grouped['reordered'].values, color='b')\n",
    "plt.ylabel('Reorder ratio', fontsize=12)\n",
    "plt.xlabel('Add to cart order', fontsize=12)\n",
    "plt.title(\"Add to cart order - Reorder ratio\", fontsize=15)\n",
    "plt.xticks(rotation='vertical')\n",
    "plt.show()"
   ]
  },
  {
   "cell_type": "markdown",
   "metadata": {},
   "source": [
    "re order ration by day of week and hour of day"
   ]
  },
  {
   "cell_type": "code",
   "execution_count": 49,
   "metadata": {},
   "outputs": [
    {
     "data": {
      "image/png": "[encoded data removed]",
      "text/plain": [
       "<Figure size 864x576 with 1 Axes>"
      ]
     },
     "metadata": {
      "needs_background": "light"
     },
     "output_type": "display_data"
    }
   ],
   "source": [
    "df_order_products_train = pd.merge(df_order_products_train, df_orders, on='order_id', how='left')\n",
    "\n",
    "df_grouped = df_order_products_train.groupby(\n",
    "   ['order_dow']\n",
    ").agg(\n",
    "    {\n",
    "        'reordered': 'mean'\n",
    "              \n",
    "    }\n",
    ").reset_index()\n",
    "\n",
    "plt.figure(figsize=(12,8))\n",
    "sns.barplot(df_grouped['order_dow'].values, df_grouped['reordered'].values, alpha=0.8, color='g')\n",
    "plt.ylabel('Reorder ratio', fontsize=12)\n",
    "plt.xlabel('Day of week', fontsize=12)\n",
    "plt.title(\"Reorder ratio across day of week\", fontsize=15)\n",
    "plt.xticks(rotation='vertical')\n",
    "plt.ylim(0.5, 0.7)\n",
    "plt.show()"
   ]
  },
  {
   "cell_type": "code",
   "execution_count": 50,
   "metadata": {},
   "outputs": [
    {
     "data": {
      "image/png": "[encoded data removed]",
      "text/plain": [
       "<Figure size 864x576 with 1 Axes>"
      ]
     },
     "metadata": {
      "needs_background": "light"
     },
     "output_type": "display_data"
    }
   ],
   "source": [
    "df_grouped = df_order_products_train.groupby(\n",
    "   ['order_hour_of_day']\n",
    ").agg(\n",
    "    {\n",
    "        'reordered': 'mean'\n",
    "              \n",
    "    }\n",
    ").reset_index()\n",
    "\n",
    "plt.figure(figsize=(12,8))\n",
    "sns.barplot(df_grouped['order_hour_of_day'].values, df_grouped['reordered'].values, alpha=0.8, color='b')\n",
    "plt.ylabel('Reorder ratio', fontsize=12)\n",
    "plt.xlabel('Hour of Day', fontsize=12)\n",
    "plt.title(\"Reorder ratio across day of week\", fontsize=15)\n",
    "plt.xticks(rotation='vertical')\n",
    "plt.ylim(0.5, 0.7)\n",
    "plt.show()"
   ]
  },
  {
   "cell_type": "code",
   "execution_count": 53,
   "metadata": {},
   "outputs": [
    {
     "data": {
      "image/png": "[encoded data removed]",
      "text/plain": [
       "<Figure size 864x432 with 2 Axes>"
      ]
     },
     "metadata": {
      "needs_background": "light"
     },
     "output_type": "display_data"
    }
   ],
   "source": [
    "df_grouped = df_order_products_train.groupby(\n",
    "   ['order_dow', 'order_hour_of_day']\n",
    ").agg(\n",
    "    {\n",
    "        'reordered': 'mean'\n",
    "              \n",
    "    }\n",
    ").reset_index()\n",
    "\n",
    "df_grouped = df_grouped.pivot('order_dow', 'order_hour_of_day', 'reordered')\n",
    "\n",
    "plt.figure(figsize=(12,6))\n",
    "sns.heatmap(df_grouped, cmap=\"Greens\")\n",
    "plt.title(\"Reorder ratio of Day of week Vs Hour of day\")\n",
    "plt.show()"
   ]
  },
  {
   "cell_type": "markdown",
   "metadata": {},
   "source": [
    "# Product Association Analysis"
   ]
  },
  {
   "cell_type": "code",
   "execution_count": 54,
   "metadata": {},
   "outputs": [
    {
     "data": {
      "text/plain": [
       "order_id\n",
       "2    33120\n",
       "2    28985\n",
       "2     9327\n",
       "2    45918\n",
       "2    30035\n",
       "2    17794\n",
       "2    40141\n",
       "2     1819\n",
       "2    43668\n",
       "3    33754\n",
       "Name: item_id, dtype: int64"
      ]
     },
     "metadata": {},
     "output_type": "display_data"
    },
    {
     "data": {
      "text/plain": [
       "pandas.core.series.Series"
      ]
     },
     "execution_count": 54,
     "metadata": {},
     "output_type": "execute_result"
    }
   ],
   "source": [
    "# Convert from DataFrame to a Series, with order_id as index and item_id as value\n",
    "orders = df_order_products_prior.set_index('order_id')['product_id'].rename('item_id')\n",
    "display(orders.head(10))\n",
    "type(orders)"
   ]
  },
  {
   "cell_type": "code",
   "execution_count": 55,
   "metadata": {},
   "outputs": [],
   "source": [
    "# Returns frequency counts for items and item pairs\n",
    "def freq(iterable):\n",
    "    if type(iterable) == pd.core.series.Series:\n",
    "        return iterable.value_counts().rename(\"freq\")\n",
    "    else: \n",
    "        return pd.Series(Counter(iterable)).rename(\"freq\")\n",
    "\n",
    "    \n",
    "# Returns number of unique orders\n",
    "def order_count(order_item):\n",
    "    return len(set(order_item.index))\n",
    "\n",
    "\n",
    "# Returns generator that yields item pairs, one at a time\n",
    "def get_item_pairs(order_item):\n",
    "    order_item = order_item.reset_index().to_numpy()\n",
    "    for order_id, order_object in groupby(order_item, lambda x: x[0]):\n",
    "        item_list = [item[1] for item in order_object]\n",
    "              \n",
    "        for item_pair in combinations(item_list, 2):\n",
    "            yield item_pair\n",
    "            \n",
    "\n",
    "# Returns frequency and support associated with item\n",
    "def merge_item_stats(item_pairs, item_stats):\n",
    "    return (item_pairs\n",
    "                .merge(item_stats.rename(columns={'freq': 'freqA', 'support': 'supportA'}), left_on='item_A', right_index=True)\n",
    "                .merge(item_stats.rename(columns={'freq': 'freqB', 'support': 'supportB'}), left_on='item_B', right_index=True))\n",
    "\n",
    "\n",
    "# Returns name associated with item\n",
    "def merge_item_name(rules, item_name):\n",
    "    columns = ['itemA','itemB','freqAB','supportAB','freqA','supportA','freqB','supportB', \n",
    "               'confidenceAtoB','confidenceBtoA','lift']\n",
    "    rules = (rules\n",
    "                .merge(item_name.rename(columns={'item_name': 'itemA'}), left_on='item_A', right_on='item_id')\n",
    "                .merge(item_name.rename(columns={'item_name': 'itemB'}), left_on='item_B', right_on='item_id'))\n",
    "    return rules[columns]   "
   ]
  },
  {
   "cell_type": "code",
   "execution_count": 56,
   "metadata": {},
   "outputs": [],
   "source": [
    "def association_rules(order_item, min_support):\n",
    "\n",
    "    print(\"Starting order_item: {:22d}\".format(len(order_item)))\n",
    "\n",
    "\n",
    "    # Calculate item frequency and support\n",
    "    item_stats             = freq(order_item).to_frame(\"freq\")\n",
    "    item_stats['support']  = item_stats['freq'] / order_count(order_item) * 100\n",
    "\n",
    "\n",
    "    # Filter from order_item items below min support \n",
    "    qualifying_items       = item_stats[item_stats['support'] >= min_support].index\n",
    "    order_item             = order_item[order_item.isin(qualifying_items)]\n",
    "\n",
    "    print(\"Items with support >= {}: {:15d}\".format(min_support, len(qualifying_items)))\n",
    "    print(\"Remaining order_item: {:21d}\".format(len(order_item)))\n",
    "\n",
    "\n",
    "    # Filter from order_item orders with less than 2 items\n",
    "    order_size             = freq(order_item.index)\n",
    "    qualifying_orders      = order_size[order_size >= 2].index\n",
    "    order_item             = order_item[order_item.index.isin(qualifying_orders)]\n",
    "\n",
    "    print(\"Remaining orders with 2+ items: {:11d}\".format(len(qualifying_orders)))\n",
    "    print(\"Remaining order_item: {:21d}\".format(len(order_item)))\n",
    "\n",
    "\n",
    "    # Recalculate item frequency and support\n",
    "    item_stats             = freq(order_item).to_frame(\"freq\")\n",
    "    item_stats['support']  = item_stats['freq'] / order_count(order_item) * 100\n",
    "\n",
    "\n",
    "    # Get item pairs generator\n",
    "    item_pair_gen          = get_item_pairs(order_item)\n",
    "\n",
    "\n",
    "    # Calculate item pair frequency and support\n",
    "    item_pairs              = freq(item_pair_gen).to_frame(\"freqAB\")\n",
    "    item_pairs['supportAB'] = item_pairs['freqAB'] / len(qualifying_orders) * 100\n",
    "\n",
    "    print(\"Item pairs: {:31d}\".format(len(item_pairs)))\n",
    "\n",
    "\n",
    "    # Filter from item_pairs those below min support\n",
    "    item_pairs              = item_pairs[item_pairs['supportAB'] >= min_support]\n",
    "\n",
    "    print(\"Item pairs with support >= {}: {:10d}\\n\".format(min_support, len(item_pairs)))\n",
    "\n",
    "\n",
    "    # Create table of association rules and compute relevant metrics\n",
    "    item_pairs = item_pairs.reset_index().rename(columns={'level_0': 'item_A', 'level_1': 'item_B'})\n",
    "    item_pairs = merge_item_stats(item_pairs, item_stats)\n",
    "    \n",
    "    item_pairs['confidenceAtoB'] = item_pairs['supportAB'] / item_pairs['supportA']\n",
    "    item_pairs['confidenceBtoA'] = item_pairs['supportAB'] / item_pairs['supportB']\n",
    "    item_pairs['lift']           = item_pairs['supportAB'] / (item_pairs['supportA'] * item_pairs['supportB'])\n",
    "    \n",
    "    \n",
    "    # Return association rules sorted by lift in descending order\n",
    "    return item_pairs.sort_values('lift', ascending=False)"
   ]
  },
  {
   "cell_type": "code",
   "execution_count": 57,
   "metadata": {},
   "outputs": [
    {
     "name": "stdout",
     "output_type": "stream",
     "text": [
      "Starting order_item:               32434489\n",
      "Items with support >= 0.01:           10906\n",
      "Remaining order_item:              29843570\n",
      "Remaining orders with 2+ items:     3013325\n",
      "Remaining order_item:              29662716\n",
      "Item pairs:                        30622410\n",
      "Item pairs with support >= 0.01:      48751\n",
      "\n",
      "Wall time: 4min 18s\n"
     ]
    }
   ],
   "source": [
    "%%time\n",
    "rules = association_rules(orders, 0.01) "
   ]
  },
  {
   "cell_type": "code",
   "execution_count": 58,
   "metadata": {},
   "outputs": [
    {
     "data": {
      "text/html": [
       "<div>\n",
       "<style scoped>\n",
       "    .dataframe tbody tr th:only-of-type {\n",
       "        vertical-align: middle;\n",
       "    }\n",
       "\n",
       "    .dataframe tbody tr th {\n",
       "        vertical-align: top;\n",
       "    }\n",
       "\n",
       "    .dataframe thead th {\n",
       "        text-align: right;\n",
       "    }\n",
       "</style>\n",
       "<table border=\"1\" class=\"dataframe\">\n",
       "  <thead>\n",
       "    <tr style=\"text-align: right;\">\n",
       "      <th></th>\n",
       "      <th>itemA</th>\n",
       "      <th>itemB</th>\n",
       "      <th>freqAB</th>\n",
       "      <th>supportAB</th>\n",
       "      <th>freqA</th>\n",
       "      <th>supportA</th>\n",
       "      <th>freqB</th>\n",
       "      <th>supportB</th>\n",
       "      <th>confidenceAtoB</th>\n",
       "      <th>confidenceBtoA</th>\n",
       "      <th>lift</th>\n",
       "    </tr>\n",
       "  </thead>\n",
       "  <tbody>\n",
       "    <tr>\n",
       "      <th>0</th>\n",
       "      <td>Organic Strawberry Chia Lowfat 2% Cottage Cheese</td>\n",
       "      <td>Organic Cottage Cheese Blueberry Acai Chia</td>\n",
       "      <td>306</td>\n",
       "      <td>0.010155</td>\n",
       "      <td>1163</td>\n",
       "      <td>0.038595</td>\n",
       "      <td>839</td>\n",
       "      <td>0.027843</td>\n",
       "      <td>0.263113</td>\n",
       "      <td>0.364720</td>\n",
       "      <td>9.449868</td>\n",
       "    </tr>\n",
       "    <tr>\n",
       "      <th>1</th>\n",
       "      <td>Grain Free Chicken Formula Cat Food</td>\n",
       "      <td>Grain Free Turkey Formula Cat Food</td>\n",
       "      <td>318</td>\n",
       "      <td>0.010553</td>\n",
       "      <td>1809</td>\n",
       "      <td>0.060033</td>\n",
       "      <td>879</td>\n",
       "      <td>0.029170</td>\n",
       "      <td>0.175788</td>\n",
       "      <td>0.361775</td>\n",
       "      <td>6.026229</td>\n",
       "    </tr>\n",
       "    <tr>\n",
       "      <th>3</th>\n",
       "      <td>Organic Fruit Yogurt Smoothie Mixed Berry</td>\n",
       "      <td>Apple Blueberry Fruit Yogurt Smoothie</td>\n",
       "      <td>349</td>\n",
       "      <td>0.011582</td>\n",
       "      <td>1518</td>\n",
       "      <td>0.050376</td>\n",
       "      <td>1249</td>\n",
       "      <td>0.041449</td>\n",
       "      <td>0.229908</td>\n",
       "      <td>0.279424</td>\n",
       "      <td>5.546732</td>\n",
       "    </tr>\n",
       "    <tr>\n",
       "      <th>9</th>\n",
       "      <td>Nonfat Strawberry With Fruit On The Bottom Gre...</td>\n",
       "      <td>0% Greek, Blueberry on the Bottom Yogurt</td>\n",
       "      <td>409</td>\n",
       "      <td>0.013573</td>\n",
       "      <td>1666</td>\n",
       "      <td>0.055288</td>\n",
       "      <td>1391</td>\n",
       "      <td>0.046162</td>\n",
       "      <td>0.245498</td>\n",
       "      <td>0.294033</td>\n",
       "      <td>5.318230</td>\n",
       "    </tr>\n",
       "    <tr>\n",
       "      <th>10</th>\n",
       "      <td>Organic Grapefruit Ginger Sparkling Yerba Mate</td>\n",
       "      <td>Cranberry Pomegranate Sparkling Yerba Mate</td>\n",
       "      <td>351</td>\n",
       "      <td>0.011648</td>\n",
       "      <td>1731</td>\n",
       "      <td>0.057445</td>\n",
       "      <td>1149</td>\n",
       "      <td>0.038131</td>\n",
       "      <td>0.202773</td>\n",
       "      <td>0.305483</td>\n",
       "      <td>5.317849</td>\n",
       "    </tr>\n",
       "    <tr>\n",
       "      <th>...</th>\n",
       "      <td>...</td>\n",
       "      <td>...</td>\n",
       "      <td>...</td>\n",
       "      <td>...</td>\n",
       "      <td>...</td>\n",
       "      <td>...</td>\n",
       "      <td>...</td>\n",
       "      <td>...</td>\n",
       "      <td>...</td>\n",
       "      <td>...</td>\n",
       "      <td>...</td>\n",
       "    </tr>\n",
       "    <tr>\n",
       "      <th>7271</th>\n",
       "      <td>Organic Strawberries</td>\n",
       "      <td>Strawberries</td>\n",
       "      <td>640</td>\n",
       "      <td>0.021239</td>\n",
       "      <td>263416</td>\n",
       "      <td>8.741706</td>\n",
       "      <td>141805</td>\n",
       "      <td>4.705931</td>\n",
       "      <td>0.002430</td>\n",
       "      <td>0.004513</td>\n",
       "      <td>0.000516</td>\n",
       "    </tr>\n",
       "    <tr>\n",
       "      <th>6763</th>\n",
       "      <td>Organic Hass Avocado</td>\n",
       "      <td>Organic Avocado</td>\n",
       "      <td>464</td>\n",
       "      <td>0.015398</td>\n",
       "      <td>212785</td>\n",
       "      <td>7.061469</td>\n",
       "      <td>176241</td>\n",
       "      <td>5.848722</td>\n",
       "      <td>0.002181</td>\n",
       "      <td>0.002633</td>\n",
       "      <td>0.000373</td>\n",
       "    </tr>\n",
       "    <tr>\n",
       "      <th>4387</th>\n",
       "      <td>Organic Avocado</td>\n",
       "      <td>Organic Hass Avocado</td>\n",
       "      <td>443</td>\n",
       "      <td>0.014701</td>\n",
       "      <td>176241</td>\n",
       "      <td>5.848722</td>\n",
       "      <td>212785</td>\n",
       "      <td>7.061469</td>\n",
       "      <td>0.002514</td>\n",
       "      <td>0.002082</td>\n",
       "      <td>0.000356</td>\n",
       "    </tr>\n",
       "    <tr>\n",
       "      <th>2596</th>\n",
       "      <td>Banana</td>\n",
       "      <td>Bag of Organic Bananas</td>\n",
       "      <td>654</td>\n",
       "      <td>0.021704</td>\n",
       "      <td>470096</td>\n",
       "      <td>15.600574</td>\n",
       "      <td>376367</td>\n",
       "      <td>12.490090</td>\n",
       "      <td>0.001391</td>\n",
       "      <td>0.001738</td>\n",
       "      <td>0.000111</td>\n",
       "    </tr>\n",
       "    <tr>\n",
       "      <th>670</th>\n",
       "      <td>Bag of Organic Bananas</td>\n",
       "      <td>Banana</td>\n",
       "      <td>522</td>\n",
       "      <td>0.017323</td>\n",
       "      <td>376367</td>\n",
       "      <td>12.490090</td>\n",
       "      <td>470096</td>\n",
       "      <td>15.600574</td>\n",
       "      <td>0.001387</td>\n",
       "      <td>0.001110</td>\n",
       "      <td>0.000089</td>\n",
       "    </tr>\n",
       "  </tbody>\n",
       "</table>\n",
       "<p>48751 rows × 11 columns</p>\n",
       "</div>"
      ],
      "text/plain": [
       "                                                  itemA  \\\n",
       "0      Organic Strawberry Chia Lowfat 2% Cottage Cheese   \n",
       "1                   Grain Free Chicken Formula Cat Food   \n",
       "3             Organic Fruit Yogurt Smoothie Mixed Berry   \n",
       "9     Nonfat Strawberry With Fruit On The Bottom Gre...   \n",
       "10       Organic Grapefruit Ginger Sparkling Yerba Mate   \n",
       "...                                                 ...   \n",
       "7271                               Organic Strawberries   \n",
       "6763                               Organic Hass Avocado   \n",
       "4387                                    Organic Avocado   \n",
       "2596                                             Banana   \n",
       "670                              Bag of Organic Bananas   \n",
       "\n",
       "                                           itemB  freqAB  supportAB   freqA  \\\n",
       "0     Organic Cottage Cheese Blueberry Acai Chia     306   0.010155    1163   \n",
       "1             Grain Free Turkey Formula Cat Food     318   0.010553    1809   \n",
       "3          Apple Blueberry Fruit Yogurt Smoothie     349   0.011582    1518   \n",
       "9       0% Greek, Blueberry on the Bottom Yogurt     409   0.013573    1666   \n",
       "10    Cranberry Pomegranate Sparkling Yerba Mate     351   0.011648    1731   \n",
       "...                                          ...     ...        ...     ...   \n",
       "7271                                Strawberries     640   0.021239  263416   \n",
       "6763                             Organic Avocado     464   0.015398  212785   \n",
       "4387                        Organic Hass Avocado     443   0.014701  176241   \n",
       "2596                      Bag of Organic Bananas     654   0.021704  470096   \n",
       "670                                       Banana     522   0.017323  376367   \n",
       "\n",
       "       supportA   freqB   supportB  confidenceAtoB  confidenceBtoA      lift  \n",
       "0      0.038595     839   0.027843        0.263113        0.364720  9.449868  \n",
       "1      0.060033     879   0.029170        0.175788        0.361775  6.026229  \n",
       "3      0.050376    1249   0.041449        0.229908        0.279424  5.546732  \n",
       "9      0.055288    1391   0.046162        0.245498        0.294033  5.318230  \n",
       "10     0.057445    1149   0.038131        0.202773        0.305483  5.317849  \n",
       "...         ...     ...        ...             ...             ...       ...  \n",
       "7271   8.741706  141805   4.705931        0.002430        0.004513  0.000516  \n",
       "6763   7.061469  176241   5.848722        0.002181        0.002633  0.000373  \n",
       "4387   5.848722  212785   7.061469        0.002514        0.002082  0.000356  \n",
       "2596  15.600574  376367  12.490090        0.001391        0.001738  0.000111  \n",
       "670   12.490090  470096  15.600574        0.001387        0.001110  0.000089  \n",
       "\n",
       "[48751 rows x 11 columns]"
      ]
     },
     "metadata": {},
     "output_type": "display_data"
    }
   ],
   "source": [
    "# Replace item ID with item name and display association rules\n",
    "item_name   = df_products\n",
    "item_name   = item_name.rename(columns={'product_id':'item_id', 'product_name':'item_name'})\n",
    "rules_final = merge_item_name(rules, item_name).sort_values('lift', ascending=False)\n",
    "display(rules_final)"
   ]
  },
  {
   "cell_type": "markdown",
   "metadata": {},
   "source": [
    "# Deep Learning Collaborative Filtering Recommender System"
   ]
  },
  {
   "cell_type": "code",
   "execution_count": 59,
   "metadata": {},
   "outputs": [
    {
     "data": {
      "text/plain": [
       "(828824, 11)"
      ]
     },
     "execution_count": 59,
     "metadata": {},
     "output_type": "execute_result"
    }
   ],
   "source": [
    "# get the list of orders that have been reordered before\n",
    "reorders = df_order_products_train[df_order_products_train['reordered'] == 1]\n",
    "reorders.shape"
   ]
  },
  {
   "cell_type": "code",
   "execution_count": 60,
   "metadata": {},
   "outputs": [
    {
     "data": {
      "text/html": [
       "<div>\n",
       "<style scoped>\n",
       "    .dataframe tbody tr th:only-of-type {\n",
       "        vertical-align: middle;\n",
       "    }\n",
       "\n",
       "    .dataframe tbody tr th {\n",
       "        vertical-align: top;\n",
       "    }\n",
       "\n",
       "    .dataframe thead th {\n",
       "        text-align: right;\n",
       "    }\n",
       "</style>\n",
       "<table border=\"1\" class=\"dataframe\">\n",
       "  <thead>\n",
       "    <tr style=\"text-align: right;\">\n",
       "      <th></th>\n",
       "      <th>order_id</th>\n",
       "      <th>user_id</th>\n",
       "    </tr>\n",
       "  </thead>\n",
       "  <tbody>\n",
       "    <tr>\n",
       "      <th>0</th>\n",
       "      <td>2539329</td>\n",
       "      <td>1</td>\n",
       "    </tr>\n",
       "    <tr>\n",
       "      <th>1</th>\n",
       "      <td>2398795</td>\n",
       "      <td>1</td>\n",
       "    </tr>\n",
       "    <tr>\n",
       "      <th>2</th>\n",
       "      <td>473747</td>\n",
       "      <td>1</td>\n",
       "    </tr>\n",
       "    <tr>\n",
       "      <th>3</th>\n",
       "      <td>2254736</td>\n",
       "      <td>1</td>\n",
       "    </tr>\n",
       "    <tr>\n",
       "      <th>4</th>\n",
       "      <td>431534</td>\n",
       "      <td>1</td>\n",
       "    </tr>\n",
       "  </tbody>\n",
       "</table>\n",
       "</div>"
      ],
      "text/plain": [
       "   order_id  user_id\n",
       "0   2539329        1\n",
       "1   2398795        1\n",
       "2    473747        1\n",
       "3   2254736        1\n",
       "4    431534        1"
      ]
     },
     "execution_count": 60,
     "metadata": {},
     "output_type": "execute_result"
    }
   ],
   "source": [
    "orders2 = df_orders[['order_id', 'user_id']]\n",
    "orders2.head()"
   ]
  },
  {
   "cell_type": "code",
   "execution_count": 64,
   "metadata": {},
   "outputs": [],
   "source": [
    "# merge to get user_id and product_id\n",
    "user_orders = reorders.merge(orders2, on=['order_id', 'user_id'])\n",
    "user_orders = user_orders.merge(df_products, on='product_id')"
   ]
  },
  {
   "cell_type": "code",
   "execution_count": 65,
   "metadata": {
    "scrolled": true
   },
   "outputs": [
    {
     "data": {
      "text/html": [
       "<div>\n",
       "<style scoped>\n",
       "    .dataframe tbody tr th:only-of-type {\n",
       "        vertical-align: middle;\n",
       "    }\n",
       "\n",
       "    .dataframe tbody tr th {\n",
       "        vertical-align: top;\n",
       "    }\n",
       "\n",
       "    .dataframe thead th {\n",
       "        text-align: right;\n",
       "    }\n",
       "</style>\n",
       "<table border=\"1\" class=\"dataframe\">\n",
       "  <thead>\n",
       "    <tr style=\"text-align: right;\">\n",
       "      <th></th>\n",
       "      <th>order_id</th>\n",
       "      <th>product_id</th>\n",
       "      <th>add_to_cart_order</th>\n",
       "      <th>reordered</th>\n",
       "      <th>user_id</th>\n",
       "      <th>eval_set</th>\n",
       "      <th>order_number</th>\n",
       "      <th>order_dow</th>\n",
       "      <th>order_hour_of_day</th>\n",
       "      <th>days_since_prior_order</th>\n",
       "      <th>dayofweek</th>\n",
       "      <th>product_name</th>\n",
       "      <th>aisle_id</th>\n",
       "      <th>department_id</th>\n",
       "    </tr>\n",
       "  </thead>\n",
       "  <tbody>\n",
       "    <tr>\n",
       "      <th>0</th>\n",
       "      <td>1</td>\n",
       "      <td>49302</td>\n",
       "      <td>1</td>\n",
       "      <td>1</td>\n",
       "      <td>112108</td>\n",
       "      <td>train</td>\n",
       "      <td>4</td>\n",
       "      <td>4</td>\n",
       "      <td>10</td>\n",
       "      <td>9.0</td>\n",
       "      <td>Thursday</td>\n",
       "      <td>Bulgarian Yogurt</td>\n",
       "      <td>120</td>\n",
       "      <td>16</td>\n",
       "    </tr>\n",
       "    <tr>\n",
       "      <th>1</th>\n",
       "      <td>816049</td>\n",
       "      <td>49302</td>\n",
       "      <td>7</td>\n",
       "      <td>1</td>\n",
       "      <td>47901</td>\n",
       "      <td>train</td>\n",
       "      <td>14</td>\n",
       "      <td>4</td>\n",
       "      <td>6</td>\n",
       "      <td>16.0</td>\n",
       "      <td>Thursday</td>\n",
       "      <td>Bulgarian Yogurt</td>\n",
       "      <td>120</td>\n",
       "      <td>16</td>\n",
       "    </tr>\n",
       "    <tr>\n",
       "      <th>2</th>\n",
       "      <td>1242203</td>\n",
       "      <td>49302</td>\n",
       "      <td>1</td>\n",
       "      <td>1</td>\n",
       "      <td>2993</td>\n",
       "      <td>train</td>\n",
       "      <td>15</td>\n",
       "      <td>0</td>\n",
       "      <td>7</td>\n",
       "      <td>7.0</td>\n",
       "      <td>Sunday</td>\n",
       "      <td>Bulgarian Yogurt</td>\n",
       "      <td>120</td>\n",
       "      <td>16</td>\n",
       "    </tr>\n",
       "    <tr>\n",
       "      <th>3</th>\n",
       "      <td>1383349</td>\n",
       "      <td>49302</td>\n",
       "      <td>11</td>\n",
       "      <td>1</td>\n",
       "      <td>41425</td>\n",
       "      <td>train</td>\n",
       "      <td>4</td>\n",
       "      <td>3</td>\n",
       "      <td>8</td>\n",
       "      <td>14.0</td>\n",
       "      <td>Wednesday</td>\n",
       "      <td>Bulgarian Yogurt</td>\n",
       "      <td>120</td>\n",
       "      <td>16</td>\n",
       "    </tr>\n",
       "    <tr>\n",
       "      <th>4</th>\n",
       "      <td>2445303</td>\n",
       "      <td>49302</td>\n",
       "      <td>2</td>\n",
       "      <td>1</td>\n",
       "      <td>199120</td>\n",
       "      <td>train</td>\n",
       "      <td>49</td>\n",
       "      <td>3</td>\n",
       "      <td>20</td>\n",
       "      <td>7.0</td>\n",
       "      <td>Wednesday</td>\n",
       "      <td>Bulgarian Yogurt</td>\n",
       "      <td>120</td>\n",
       "      <td>16</td>\n",
       "    </tr>\n",
       "  </tbody>\n",
       "</table>\n",
       "</div>"
      ],
      "text/plain": [
       "   order_id  product_id  add_to_cart_order  reordered  user_id eval_set  \\\n",
       "0         1       49302                  1          1   112108    train   \n",
       "1    816049       49302                  7          1    47901    train   \n",
       "2   1242203       49302                  1          1     2993    train   \n",
       "3   1383349       49302                 11          1    41425    train   \n",
       "4   2445303       49302                  2          1   199120    train   \n",
       "\n",
       "   order_number  order_dow  order_hour_of_day  days_since_prior_order  \\\n",
       "0             4          4                 10                     9.0   \n",
       "1            14          4                  6                    16.0   \n",
       "2            15          0                  7                     7.0   \n",
       "3             4          3                  8                    14.0   \n",
       "4            49          3                 20                     7.0   \n",
       "\n",
       "   dayofweek      product_name  aisle_id  department_id  \n",
       "0   Thursday  Bulgarian Yogurt       120             16  \n",
       "1   Thursday  Bulgarian Yogurt       120             16  \n",
       "2     Sunday  Bulgarian Yogurt       120             16  \n",
       "3  Wednesday  Bulgarian Yogurt       120             16  \n",
       "4  Wednesday  Bulgarian Yogurt       120             16  "
      ]
     },
     "execution_count": 65,
     "metadata": {},
     "output_type": "execute_result"
    }
   ],
   "source": [
    "user_orders.head()"
   ]
  },
  {
   "cell_type": "code",
   "execution_count": 66,
   "metadata": {},
   "outputs": [
    {
     "data": {
      "text/html": [
       "<div>\n",
       "<style scoped>\n",
       "    .dataframe tbody tr th:only-of-type {\n",
       "        vertical-align: middle;\n",
       "    }\n",
       "\n",
       "    .dataframe tbody tr th {\n",
       "        vertical-align: top;\n",
       "    }\n",
       "\n",
       "    .dataframe thead th {\n",
       "        text-align: right;\n",
       "    }\n",
       "</style>\n",
       "<table border=\"1\" class=\"dataframe\">\n",
       "  <thead>\n",
       "    <tr style=\"text-align: right;\">\n",
       "      <th></th>\n",
       "      <th>order_id</th>\n",
       "      <th>product_id</th>\n",
       "      <th>add_to_cart_order</th>\n",
       "      <th>reordered</th>\n",
       "      <th>user_id</th>\n",
       "      <th>eval_set</th>\n",
       "      <th>order_number</th>\n",
       "      <th>order_dow</th>\n",
       "      <th>order_hour_of_day</th>\n",
       "      <th>days_since_prior_order</th>\n",
       "      <th>dayofweek</th>\n",
       "      <th>product_name</th>\n",
       "      <th>aisle_id</th>\n",
       "      <th>department_id</th>\n",
       "      <th>high_volume</th>\n",
       "    </tr>\n",
       "  </thead>\n",
       "  <tbody>\n",
       "    <tr>\n",
       "      <th>1</th>\n",
       "      <td>816049</td>\n",
       "      <td>49302</td>\n",
       "      <td>7</td>\n",
       "      <td>1</td>\n",
       "      <td>47901</td>\n",
       "      <td>train</td>\n",
       "      <td>14</td>\n",
       "      <td>4</td>\n",
       "      <td>6</td>\n",
       "      <td>16.0</td>\n",
       "      <td>Thursday</td>\n",
       "      <td>Bulgarian Yogurt</td>\n",
       "      <td>120</td>\n",
       "      <td>16</td>\n",
       "      <td>True</td>\n",
       "    </tr>\n",
       "    <tr>\n",
       "      <th>3</th>\n",
       "      <td>1383349</td>\n",
       "      <td>49302</td>\n",
       "      <td>11</td>\n",
       "      <td>1</td>\n",
       "      <td>41425</td>\n",
       "      <td>train</td>\n",
       "      <td>4</td>\n",
       "      <td>3</td>\n",
       "      <td>8</td>\n",
       "      <td>14.0</td>\n",
       "      <td>Wednesday</td>\n",
       "      <td>Bulgarian Yogurt</td>\n",
       "      <td>120</td>\n",
       "      <td>16</td>\n",
       "      <td>True</td>\n",
       "    </tr>\n",
       "    <tr>\n",
       "      <th>4</th>\n",
       "      <td>2445303</td>\n",
       "      <td>49302</td>\n",
       "      <td>2</td>\n",
       "      <td>1</td>\n",
       "      <td>199120</td>\n",
       "      <td>train</td>\n",
       "      <td>49</td>\n",
       "      <td>3</td>\n",
       "      <td>20</td>\n",
       "      <td>7.0</td>\n",
       "      <td>Wednesday</td>\n",
       "      <td>Bulgarian Yogurt</td>\n",
       "      <td>120</td>\n",
       "      <td>16</td>\n",
       "      <td>True</td>\n",
       "    </tr>\n",
       "    <tr>\n",
       "      <th>8</th>\n",
       "      <td>68474</td>\n",
       "      <td>11109</td>\n",
       "      <td>8</td>\n",
       "      <td>1</td>\n",
       "      <td>67333</td>\n",
       "      <td>train</td>\n",
       "      <td>14</td>\n",
       "      <td>4</td>\n",
       "      <td>17</td>\n",
       "      <td>4.0</td>\n",
       "      <td>Thursday</td>\n",
       "      <td>Organic 4% Milk Fat Whole Milk Cottage Cheese</td>\n",
       "      <td>108</td>\n",
       "      <td>16</td>\n",
       "      <td>True</td>\n",
       "    </tr>\n",
       "    <tr>\n",
       "      <th>9</th>\n",
       "      <td>78197</td>\n",
       "      <td>11109</td>\n",
       "      <td>3</td>\n",
       "      <td>1</td>\n",
       "      <td>158104</td>\n",
       "      <td>train</td>\n",
       "      <td>5</td>\n",
       "      <td>5</td>\n",
       "      <td>18</td>\n",
       "      <td>27.0</td>\n",
       "      <td>Friday</td>\n",
       "      <td>Organic 4% Milk Fat Whole Milk Cottage Cheese</td>\n",
       "      <td>108</td>\n",
       "      <td>16</td>\n",
       "      <td>True</td>\n",
       "    </tr>\n",
       "  </tbody>\n",
       "</table>\n",
       "</div>"
      ],
      "text/plain": [
       "   order_id  product_id  add_to_cart_order  reordered  user_id eval_set  \\\n",
       "1    816049       49302                  7          1    47901    train   \n",
       "3   1383349       49302                 11          1    41425    train   \n",
       "4   2445303       49302                  2          1   199120    train   \n",
       "8     68474       11109                  8          1    67333    train   \n",
       "9     78197       11109                  3          1   158104    train   \n",
       "\n",
       "   order_number  order_dow  order_hour_of_day  days_since_prior_order  \\\n",
       "1            14          4                  6                    16.0   \n",
       "3             4          3                  8                    14.0   \n",
       "4            49          3                 20                     7.0   \n",
       "8            14          4                 17                     4.0   \n",
       "9             5          5                 18                    27.0   \n",
       "\n",
       "   dayofweek                                   product_name  aisle_id  \\\n",
       "1   Thursday                               Bulgarian Yogurt       120   \n",
       "3  Wednesday                               Bulgarian Yogurt       120   \n",
       "4  Wednesday                               Bulgarian Yogurt       120   \n",
       "8   Thursday  Organic 4% Milk Fat Whole Milk Cottage Cheese       108   \n",
       "9     Friday  Organic 4% Milk Fat Whole Milk Cottage Cheese       108   \n",
       "\n",
       "   department_id high_volume  \n",
       "1             16        True  \n",
       "3             16        True  \n",
       "4             16        True  \n",
       "8             16        True  \n",
       "9             16        True  "
      ]
     },
     "execution_count": 66,
     "metadata": {},
     "output_type": "execute_result"
    }
   ],
   "source": [
    "# filtering out the high volumn products that user reordered more than once\n",
    "user_orders['high_volume'] = (user_orders['product_id'].value_counts().sort_values(ascending=False)>1)\n",
    "high_volume = user_orders[user_orders['high_volume'] == True]\n",
    "high_volume.head()"
   ]
  },
  {
   "cell_type": "code",
   "execution_count": 67,
   "metadata": {},
   "outputs": [],
   "source": [
    "# get a matrix of different high volume items that particular user purchased\n",
    "high_volume_users = high_volume.groupby(['user_id', 'product_name']).size().sort_values(ascending=False).unstack().fillna(0)"
   ]
  },
  {
   "cell_type": "code",
   "execution_count": 68,
   "metadata": {},
   "outputs": [
    {
     "data": {
      "text/html": [
       "<div>\n",
       "<style scoped>\n",
       "    .dataframe tbody tr th:only-of-type {\n",
       "        vertical-align: middle;\n",
       "    }\n",
       "\n",
       "    .dataframe tbody tr th {\n",
       "        vertical-align: top;\n",
       "    }\n",
       "\n",
       "    .dataframe thead th {\n",
       "        text-align: right;\n",
       "    }\n",
       "</style>\n",
       "<table border=\"1\" class=\"dataframe\">\n",
       "  <thead>\n",
       "    <tr style=\"text-align: right;\">\n",
       "      <th>user_id</th>\n",
       "      <th>5</th>\n",
       "      <th>42</th>\n",
       "      <th>50</th>\n",
       "      <th>59</th>\n",
       "      <th>62</th>\n",
       "      <th>64</th>\n",
       "      <th>71</th>\n",
       "      <th>86</th>\n",
       "      <th>89</th>\n",
       "      <th>91</th>\n",
       "      <th>...</th>\n",
       "      <th>206082</th>\n",
       "      <th>206108</th>\n",
       "      <th>206126</th>\n",
       "      <th>206128</th>\n",
       "      <th>206132</th>\n",
       "      <th>206153</th>\n",
       "      <th>206177</th>\n",
       "      <th>206190</th>\n",
       "      <th>206191</th>\n",
       "      <th>206205</th>\n",
       "    </tr>\n",
       "    <tr>\n",
       "      <th>user_id</th>\n",
       "      <th></th>\n",
       "      <th></th>\n",
       "      <th></th>\n",
       "      <th></th>\n",
       "      <th></th>\n",
       "      <th></th>\n",
       "      <th></th>\n",
       "      <th></th>\n",
       "      <th></th>\n",
       "      <th></th>\n",
       "      <th></th>\n",
       "      <th></th>\n",
       "      <th></th>\n",
       "      <th></th>\n",
       "      <th></th>\n",
       "      <th></th>\n",
       "      <th></th>\n",
       "      <th></th>\n",
       "      <th></th>\n",
       "      <th></th>\n",
       "      <th></th>\n",
       "    </tr>\n",
       "  </thead>\n",
       "  <tbody>\n",
       "    <tr>\n",
       "      <th>5</th>\n",
       "      <td>1.0</td>\n",
       "      <td>0.0</td>\n",
       "      <td>0.0</td>\n",
       "      <td>0.0</td>\n",
       "      <td>0.0</td>\n",
       "      <td>0.0</td>\n",
       "      <td>0.0</td>\n",
       "      <td>0.000000</td>\n",
       "      <td>0.0</td>\n",
       "      <td>0.0</td>\n",
       "      <td>...</td>\n",
       "      <td>0.0</td>\n",
       "      <td>0.0</td>\n",
       "      <td>0.0</td>\n",
       "      <td>1.0</td>\n",
       "      <td>0.0</td>\n",
       "      <td>0.707107</td>\n",
       "      <td>0.0</td>\n",
       "      <td>0.0</td>\n",
       "      <td>0.0</td>\n",
       "      <td>0.0</td>\n",
       "    </tr>\n",
       "    <tr>\n",
       "      <th>42</th>\n",
       "      <td>0.0</td>\n",
       "      <td>1.0</td>\n",
       "      <td>0.0</td>\n",
       "      <td>0.0</td>\n",
       "      <td>0.0</td>\n",
       "      <td>0.0</td>\n",
       "      <td>0.0</td>\n",
       "      <td>0.000000</td>\n",
       "      <td>0.0</td>\n",
       "      <td>0.0</td>\n",
       "      <td>...</td>\n",
       "      <td>0.0</td>\n",
       "      <td>0.0</td>\n",
       "      <td>0.0</td>\n",
       "      <td>0.0</td>\n",
       "      <td>0.0</td>\n",
       "      <td>0.707107</td>\n",
       "      <td>0.0</td>\n",
       "      <td>0.0</td>\n",
       "      <td>0.0</td>\n",
       "      <td>0.0</td>\n",
       "    </tr>\n",
       "    <tr>\n",
       "      <th>50</th>\n",
       "      <td>0.0</td>\n",
       "      <td>0.0</td>\n",
       "      <td>1.0</td>\n",
       "      <td>1.0</td>\n",
       "      <td>0.0</td>\n",
       "      <td>1.0</td>\n",
       "      <td>0.0</td>\n",
       "      <td>0.707107</td>\n",
       "      <td>0.0</td>\n",
       "      <td>0.0</td>\n",
       "      <td>...</td>\n",
       "      <td>0.0</td>\n",
       "      <td>0.0</td>\n",
       "      <td>0.0</td>\n",
       "      <td>0.0</td>\n",
       "      <td>0.0</td>\n",
       "      <td>0.000000</td>\n",
       "      <td>0.0</td>\n",
       "      <td>0.0</td>\n",
       "      <td>0.0</td>\n",
       "      <td>0.0</td>\n",
       "    </tr>\n",
       "    <tr>\n",
       "      <th>59</th>\n",
       "      <td>0.0</td>\n",
       "      <td>0.0</td>\n",
       "      <td>1.0</td>\n",
       "      <td>1.0</td>\n",
       "      <td>0.0</td>\n",
       "      <td>1.0</td>\n",
       "      <td>0.0</td>\n",
       "      <td>0.707107</td>\n",
       "      <td>0.0</td>\n",
       "      <td>0.0</td>\n",
       "      <td>...</td>\n",
       "      <td>0.0</td>\n",
       "      <td>0.0</td>\n",
       "      <td>0.0</td>\n",
       "      <td>0.0</td>\n",
       "      <td>0.0</td>\n",
       "      <td>0.000000</td>\n",
       "      <td>0.0</td>\n",
       "      <td>0.0</td>\n",
       "      <td>0.0</td>\n",
       "      <td>0.0</td>\n",
       "    </tr>\n",
       "    <tr>\n",
       "      <th>62</th>\n",
       "      <td>0.0</td>\n",
       "      <td>0.0</td>\n",
       "      <td>0.0</td>\n",
       "      <td>0.0</td>\n",
       "      <td>1.0</td>\n",
       "      <td>0.0</td>\n",
       "      <td>0.0</td>\n",
       "      <td>0.000000</td>\n",
       "      <td>0.0</td>\n",
       "      <td>0.0</td>\n",
       "      <td>...</td>\n",
       "      <td>0.0</td>\n",
       "      <td>0.0</td>\n",
       "      <td>0.0</td>\n",
       "      <td>0.0</td>\n",
       "      <td>0.0</td>\n",
       "      <td>0.000000</td>\n",
       "      <td>0.0</td>\n",
       "      <td>0.0</td>\n",
       "      <td>0.0</td>\n",
       "      <td>0.0</td>\n",
       "    </tr>\n",
       "  </tbody>\n",
       "</table>\n",
       "<p>5 rows × 18794 columns</p>\n",
       "</div>"
      ],
      "text/plain": [
       "user_id  5       42      50      59      62      64      71        86      \\\n",
       "user_id                                                                     \n",
       "5           1.0     0.0     0.0     0.0     0.0     0.0     0.0  0.000000   \n",
       "42          0.0     1.0     0.0     0.0     0.0     0.0     0.0  0.000000   \n",
       "50          0.0     0.0     1.0     1.0     0.0     1.0     0.0  0.707107   \n",
       "59          0.0     0.0     1.0     1.0     0.0     1.0     0.0  0.707107   \n",
       "62          0.0     0.0     0.0     0.0     1.0     0.0     0.0  0.000000   \n",
       "\n",
       "user_id  89      91      ...  206082  206108  206126  206128  206132  \\\n",
       "user_id                  ...                                           \n",
       "5           0.0     0.0  ...     0.0     0.0     0.0     1.0     0.0   \n",
       "42          0.0     0.0  ...     0.0     0.0     0.0     0.0     0.0   \n",
       "50          0.0     0.0  ...     0.0     0.0     0.0     0.0     0.0   \n",
       "59          0.0     0.0  ...     0.0     0.0     0.0     0.0     0.0   \n",
       "62          0.0     0.0  ...     0.0     0.0     0.0     0.0     0.0   \n",
       "\n",
       "user_id    206153  206177  206190  206191  206205  \n",
       "user_id                                            \n",
       "5        0.707107     0.0     0.0     0.0     0.0  \n",
       "42       0.707107     0.0     0.0     0.0     0.0  \n",
       "50       0.000000     0.0     0.0     0.0     0.0  \n",
       "59       0.000000     0.0     0.0     0.0     0.0  \n",
       "62       0.000000     0.0     0.0     0.0     0.0  \n",
       "\n",
       "[5 rows x 18794 columns]"
      ]
     },
     "execution_count": 68,
     "metadata": {},
     "output_type": "execute_result"
    }
   ],
   "source": [
    "# calculate similarity between each user\n",
    "cosine_dists = pd.DataFrame(cosine_similarity(high_volume_users),index=high_volume_users.index, columns=high_volume_users.index)\n",
    "cosine_dists.head()"
   ]
  },
  {
   "cell_type": "code",
   "execution_count": 69,
   "metadata": {},
   "outputs": [],
   "source": [
    "def Recommender_System(user_id):\n",
    "    \n",
    "    '''\n",
    "    enter user_id and return a list of 5 recommendations.\n",
    "    '''\n",
    "    \n",
    "    u = high_volume.groupby(['user_id','product_name']).size().sort_values(ascending=False).unstack().fillna(0)\n",
    "    u_sim = pd.DataFrame(cosine_similarity(u), index=u.index, columns=u.index)\n",
    "\n",
    "    p = high_volume.groupby(['product_name','user_id']).size().sort_values(ascending=False).unstack().fillna(0)\n",
    "    \n",
    "    recommendations = pd.Series(np.dot(p.values,cosine_dists[user_id]), index=p.index)\n",
    "    return recommendations.sort_values(ascending=False).head()"
   ]
  },
  {
   "cell_type": "code",
   "execution_count": 70,
   "metadata": {},
   "outputs": [
    {
     "data": {
      "text/plain": [
       "[110999]"
      ]
     },
     "execution_count": 70,
     "metadata": {},
     "output_type": "execute_result"
    }
   ],
   "source": [
    "#gives a random user ID to for input to the recommender system\n",
    "random.sample(high_volume['user_id'].tolist(),1)"
   ]
  },
  {
   "cell_type": "code",
   "execution_count": 71,
   "metadata": {},
   "outputs": [
    {
     "data": {
      "text/plain": [
       "product_name\n",
       "Organic Baby Arugula               475.834143\n",
       "Organic Unsweetened Almond Milk    396.189613\n",
       "Natural Spring Water               173.044398\n",
       "Bag of Organic Bananas              69.015612\n",
       "Organic Garlic                      21.204684\n",
       "dtype: float64"
      ]
     },
     "execution_count": 71,
     "metadata": {},
     "output_type": "execute_result"
    }
   ],
   "source": [
    "Recommender_System(110999)"
   ]
  },
  {
   "cell_type": "code",
   "execution_count": 72,
   "metadata": {},
   "outputs": [],
   "source": [
    "random_user_recs = df_order_products_train.merge(df_orders, on='order_id', how='left').merge(df_products, on='product_id', how='left')"
   ]
  },
  {
   "cell_type": "code",
   "execution_count": 73,
   "metadata": {},
   "outputs": [
    {
     "data": {
      "text/html": [
       "<div>\n",
       "<style scoped>\n",
       "    .dataframe tbody tr th:only-of-type {\n",
       "        vertical-align: middle;\n",
       "    }\n",
       "\n",
       "    .dataframe tbody tr th {\n",
       "        vertical-align: top;\n",
       "    }\n",
       "\n",
       "    .dataframe thead th {\n",
       "        text-align: right;\n",
       "    }\n",
       "</style>\n",
       "<table border=\"1\" class=\"dataframe\">\n",
       "  <thead>\n",
       "    <tr style=\"text-align: right;\">\n",
       "      <th></th>\n",
       "      <th>order_id</th>\n",
       "      <th>product_id</th>\n",
       "      <th>add_to_cart_order</th>\n",
       "      <th>reordered</th>\n",
       "      <th>user_id_x</th>\n",
       "      <th>eval_set_x</th>\n",
       "      <th>order_number_x</th>\n",
       "      <th>order_dow_x</th>\n",
       "      <th>order_hour_of_day_x</th>\n",
       "      <th>days_since_prior_order_x</th>\n",
       "      <th>...</th>\n",
       "      <th>user_id_y</th>\n",
       "      <th>eval_set_y</th>\n",
       "      <th>order_number_y</th>\n",
       "      <th>order_dow_y</th>\n",
       "      <th>order_hour_of_day_y</th>\n",
       "      <th>days_since_prior_order_y</th>\n",
       "      <th>dayofweek_y</th>\n",
       "      <th>product_name</th>\n",
       "      <th>aisle_id</th>\n",
       "      <th>department_id</th>\n",
       "    </tr>\n",
       "  </thead>\n",
       "  <tbody>\n",
       "    <tr>\n",
       "      <th>0</th>\n",
       "      <td>1</td>\n",
       "      <td>49302</td>\n",
       "      <td>1</td>\n",
       "      <td>1</td>\n",
       "      <td>112108</td>\n",
       "      <td>train</td>\n",
       "      <td>4</td>\n",
       "      <td>4</td>\n",
       "      <td>10</td>\n",
       "      <td>9.0</td>\n",
       "      <td>...</td>\n",
       "      <td>112108</td>\n",
       "      <td>train</td>\n",
       "      <td>4</td>\n",
       "      <td>4</td>\n",
       "      <td>10</td>\n",
       "      <td>9.0</td>\n",
       "      <td>Thursday</td>\n",
       "      <td>Bulgarian Yogurt</td>\n",
       "      <td>120</td>\n",
       "      <td>16</td>\n",
       "    </tr>\n",
       "    <tr>\n",
       "      <th>1</th>\n",
       "      <td>1</td>\n",
       "      <td>11109</td>\n",
       "      <td>2</td>\n",
       "      <td>1</td>\n",
       "      <td>112108</td>\n",
       "      <td>train</td>\n",
       "      <td>4</td>\n",
       "      <td>4</td>\n",
       "      <td>10</td>\n",
       "      <td>9.0</td>\n",
       "      <td>...</td>\n",
       "      <td>112108</td>\n",
       "      <td>train</td>\n",
       "      <td>4</td>\n",
       "      <td>4</td>\n",
       "      <td>10</td>\n",
       "      <td>9.0</td>\n",
       "      <td>Thursday</td>\n",
       "      <td>Organic 4% Milk Fat Whole Milk Cottage Cheese</td>\n",
       "      <td>108</td>\n",
       "      <td>16</td>\n",
       "    </tr>\n",
       "    <tr>\n",
       "      <th>2</th>\n",
       "      <td>1</td>\n",
       "      <td>10246</td>\n",
       "      <td>3</td>\n",
       "      <td>0</td>\n",
       "      <td>112108</td>\n",
       "      <td>train</td>\n",
       "      <td>4</td>\n",
       "      <td>4</td>\n",
       "      <td>10</td>\n",
       "      <td>9.0</td>\n",
       "      <td>...</td>\n",
       "      <td>112108</td>\n",
       "      <td>train</td>\n",
       "      <td>4</td>\n",
       "      <td>4</td>\n",
       "      <td>10</td>\n",
       "      <td>9.0</td>\n",
       "      <td>Thursday</td>\n",
       "      <td>Organic Celery Hearts</td>\n",
       "      <td>83</td>\n",
       "      <td>4</td>\n",
       "    </tr>\n",
       "    <tr>\n",
       "      <th>3</th>\n",
       "      <td>1</td>\n",
       "      <td>49683</td>\n",
       "      <td>4</td>\n",
       "      <td>0</td>\n",
       "      <td>112108</td>\n",
       "      <td>train</td>\n",
       "      <td>4</td>\n",
       "      <td>4</td>\n",
       "      <td>10</td>\n",
       "      <td>9.0</td>\n",
       "      <td>...</td>\n",
       "      <td>112108</td>\n",
       "      <td>train</td>\n",
       "      <td>4</td>\n",
       "      <td>4</td>\n",
       "      <td>10</td>\n",
       "      <td>9.0</td>\n",
       "      <td>Thursday</td>\n",
       "      <td>Cucumber Kirby</td>\n",
       "      <td>83</td>\n",
       "      <td>4</td>\n",
       "    </tr>\n",
       "    <tr>\n",
       "      <th>4</th>\n",
       "      <td>1</td>\n",
       "      <td>43633</td>\n",
       "      <td>5</td>\n",
       "      <td>1</td>\n",
       "      <td>112108</td>\n",
       "      <td>train</td>\n",
       "      <td>4</td>\n",
       "      <td>4</td>\n",
       "      <td>10</td>\n",
       "      <td>9.0</td>\n",
       "      <td>...</td>\n",
       "      <td>112108</td>\n",
       "      <td>train</td>\n",
       "      <td>4</td>\n",
       "      <td>4</td>\n",
       "      <td>10</td>\n",
       "      <td>9.0</td>\n",
       "      <td>Thursday</td>\n",
       "      <td>Lightly Smoked Sardines in Olive Oil</td>\n",
       "      <td>95</td>\n",
       "      <td>15</td>\n",
       "    </tr>\n",
       "  </tbody>\n",
       "</table>\n",
       "<p>5 rows × 21 columns</p>\n",
       "</div>"
      ],
      "text/plain": [
       "   order_id  product_id  add_to_cart_order  reordered  user_id_x eval_set_x  \\\n",
       "0         1       49302                  1          1     112108      train   \n",
       "1         1       11109                  2          1     112108      train   \n",
       "2         1       10246                  3          0     112108      train   \n",
       "3         1       49683                  4          0     112108      train   \n",
       "4         1       43633                  5          1     112108      train   \n",
       "\n",
       "   order_number_x  order_dow_x  order_hour_of_day_x  days_since_prior_order_x  \\\n",
       "0               4            4                   10                       9.0   \n",
       "1               4            4                   10                       9.0   \n",
       "2               4            4                   10                       9.0   \n",
       "3               4            4                   10                       9.0   \n",
       "4               4            4                   10                       9.0   \n",
       "\n",
       "   ... user_id_y  eval_set_y order_number_y  order_dow_y  order_hour_of_day_y  \\\n",
       "0  ...    112108       train              4            4                   10   \n",
       "1  ...    112108       train              4            4                   10   \n",
       "2  ...    112108       train              4            4                   10   \n",
       "3  ...    112108       train              4            4                   10   \n",
       "4  ...    112108       train              4            4                   10   \n",
       "\n",
       "   days_since_prior_order_y  dayofweek_y  \\\n",
       "0                       9.0     Thursday   \n",
       "1                       9.0     Thursday   \n",
       "2                       9.0     Thursday   \n",
       "3                       9.0     Thursday   \n",
       "4                       9.0     Thursday   \n",
       "\n",
       "                                    product_name aisle_id  department_id  \n",
       "0                               Bulgarian Yogurt      120             16  \n",
       "1  Organic 4% Milk Fat Whole Milk Cottage Cheese      108             16  \n",
       "2                          Organic Celery Hearts       83              4  \n",
       "3                                 Cucumber Kirby       83              4  \n",
       "4           Lightly Smoked Sardines in Olive Oil       95             15  \n",
       "\n",
       "[5 rows x 21 columns]"
      ]
     },
     "execution_count": 73,
     "metadata": {},
     "output_type": "execute_result"
    }
   ],
   "source": [
    "random_user_recs.head()"
   ]
  },
  {
   "cell_type": "code",
   "execution_count": 75,
   "metadata": {},
   "outputs": [
    {
     "data": {
      "text/plain": [
       "Non Fat Raspberry Yogurt                          1\n",
       "Roasted Red Pepper Hummus                         1\n",
       "Organic Fresh Basil                               1\n",
       "Grated Parmesan                                   1\n",
       "Organic Strawberries                              1\n",
       "Honey Nut Cheerios                                1\n",
       "Organic Black Beans                               1\n",
       "Organic Raw Kombucha Gingerade                    1\n",
       "Banana                                            1\n",
       "Icelandic Style Fat Free Plain Yogurt             1\n",
       "Organic Blackberries                              1\n",
       "Kombucha, Organic Raw, Citrus                     1\n",
       "Non GMO Organic Brown Eggs                        1\n",
       "Master Brew Kombucha, Tart Cherry                 1\n",
       "Organic Kosher Dill Pickles                       1\n",
       "Naturals Chicken Nuggets                          1\n",
       "Red Vine Tomato                                   1\n",
       "Wheat Sandwich Thins                              1\n",
       "Organic Low Sodium Vegetable Broth                1\n",
       "Organic Pears, Peas and Broccoli Puree Stage 1    1\n",
       "Name: product_name, dtype: int64"
      ]
     },
     "execution_count": 75,
     "metadata": {},
     "output_type": "execute_result"
    }
   ],
   "source": [
    "random_user_recs[random_user_recs.user_id_x == 147855].product_name.value_counts().head(20)"
   ]
  },
  {
   "cell_type": "code",
   "execution_count": 77,
   "metadata": {},
   "outputs": [
    {
     "data": {
      "text/plain": [
       "[201169]"
      ]
     },
     "execution_count": 77,
     "metadata": {},
     "output_type": "execute_result"
    }
   ],
   "source": [
    "random.sample(high_volume['user_id'].tolist(),1)"
   ]
  },
  {
   "cell_type": "code",
   "execution_count": 78,
   "metadata": {},
   "outputs": [
    {
     "data": {
      "text/plain": [
       "product_name\n",
       "Bag of Organic Bananas    5517.598405\n",
       "Organic Raspberries        201.361468\n",
       "Organic Blueberries         96.726958\n",
       "Organic Yellow Onion        77.206508\n",
       "Organic Garlic              76.045687\n",
       "dtype: float64"
      ]
     },
     "execution_count": 78,
     "metadata": {},
     "output_type": "execute_result"
    }
   ],
   "source": [
    "Recommender_System(201169)"
   ]
  },
  {
   "cell_type": "code",
   "execution_count": 79,
   "metadata": {},
   "outputs": [
    {
     "data": {
      "text/plain": [
       "Unsweetened Vanilla Almond Milk                                  1\n",
       "Organic Large Extra Fancy Fuji Apple                             1\n",
       "Raw Probiotics Women probiotic 85 Billion 32 Strains capsules    1\n",
       "Organic Garlic                                                   1\n",
       "Creamy Peanut Butter                                             1\n",
       "Organic Roasted Turkey Breast                                    1\n",
       "Organic SprouTofu Silken Tofu                                    1\n",
       "Blue Chips Corn Tortilla Chips                                   1\n",
       "Organic Baby Carrots                                             1\n",
       "Organic Granny Smith Apple                                       1\n",
       "Organic Hot Italian Chicken Sausage                              1\n",
       "Sweet Onion                                                      1\n",
       "Organic Carrot Bunch                                             1\n",
       "Natural Free & Clear Dishwasher Detergent Packs                  1\n",
       "Name: product_name, dtype: int64"
      ]
     },
     "execution_count": 79,
     "metadata": {},
     "output_type": "execute_result"
    }
   ],
   "source": [
    "random_user_recs[random_user_recs.user_id_x == 175965].product_name.value_counts().head(20)"
   ]
  },
  {
   "cell_type": "code",
   "execution_count": 81,
   "metadata": {},
   "outputs": [],
   "source": [
    "users = high_volume.user_id.unique().tolist()"
   ]
  },
  {
   "cell_type": "code",
   "execution_count": 83,
   "metadata": {},
   "outputs": [],
   "source": [
    "def how_match():\n",
    "    res = []\n",
    "    for user in sorted(users)[6000:]:\n",
    "        recommendations = Recommender_System(user)\n",
    "        top_20_itmes = _[_.user_id_x == user].product_name.value_counts().head(20)\n",
    "    \n",
    "        recommendations_list = recommendations.index.tolist()\n",
    "        top_20_items_list = top_20_itmes.index.tolist()\n",
    "    \n",
    "        res.append((len(set(recommendations_list) & set(top_20_items_list)))/5)\n",
    "    return np.mean(res)"
   ]
  },
  {
   "cell_type": "code",
   "execution_count": 82,
   "metadata": {},
   "outputs": [],
   "source": [
    "# get metric for 6000: users\n",
    "#how_match()"
   ]
  },
  {
   "cell_type": "markdown",
   "metadata": {},
   "source": [
    "# ======================================================\n",
    "# ======================================================\n",
    "# ======================================================"
   ]
  },
  {
   "cell_type": "markdown",
   "metadata": {},
   "source": [
    "## Collaborative filtering for recommendation systems\n",
    "### SVD with Python library `surprise`"
   ]
  },
  {
   "cell_type": "code",
   "execution_count": 26,
   "metadata": {},
   "outputs": [],
   "source": [
    "import numpy as np \n",
    "import pandas as pd \n",
    "import matplotlib.pyplot as plt\n",
    "import seaborn as sns\n",
    "import os\n",
    "color = sns.color_palette()\n",
    "\n",
    "%matplotlib inline\n",
    "\n",
    "import sys\n",
    "from itertools import combinations, groupby\n",
    "from collections import Counter\n",
    "from IPython.display import display\n",
    "\n",
    "import random\n",
    "from sklearn.preprocessing import StandardScaler, OneHotEncoder\n",
    "from sklearn.metrics.pairwise import cosine_similarity \n",
    "\n",
    "pd.options.mode.chained_assignment = None  # default='warn'"
   ]
  },
  {
   "cell_type": "code",
   "execution_count": 27,
   "metadata": {},
   "outputs": [],
   "source": [
    "# already read in above- copied here for reference\n",
    "os.chdir(r'C:\\Users\\william.block\\Desktop\\Machine Learning\\non_git\\recommendation_systems\\data')\n",
    "df_aisles = pd.read_csv('aisles.csv')\n",
    "df_departments = pd.read_csv('departments.csv')\n",
    "df_order_products_prior = pd.read_csv('order_products__prior.csv')\n",
    "df_order_products_train = pd.read_csv('order_products__train.csv')\n",
    "df_orders = pd.read_csv('orders.csv')\n",
    "df_products = pd.read_csv('products.csv')"
   ]
  },
  {
   "cell_type": "markdown",
   "metadata": {},
   "source": [
    "### Install scikit-surprise\n",
    "\n",
    "See https://anaconda.org/conda-forge/scikit-surprise"
   ]
  },
  {
   "cell_type": "markdown",
   "metadata": {},
   "source": [
    "Analysis based on the following public Kaggle notebook: https://www.kaggle.com/ouwyukha/imba-surprise-svd\n",
    "\n",
    "Nice demo of `surprise` library here: https://towardsdatascience.com/machine-learning-for-building-recommender-system-in-python-9e4922dd7e97"
   ]
  },
  {
   "cell_type": "code",
   "execution_count": 28,
   "metadata": {},
   "outputs": [
    {
     "name": "stderr",
     "output_type": "stream",
     "text": [
      "\n",
      "0it [00:00, ?it/s]\u001b[A\n",
      "TqdmDeprecationWarning: Please use `tqdm.pandas(...)` instead of `tqdm_pandas(tqdm(...))`.\n"
     ]
    }
   ],
   "source": [
    "from surprise import Reader, Dataset\n",
    "from surprise import SVD\n",
    "from multiprocessing import Pool\n",
    "from tqdm import tqdm, tqdm_pandas\n",
    "tqdm_pandas(tqdm())"
   ]
  },
  {
   "cell_type": "code",
   "execution_count": 29,
   "metadata": {},
   "outputs": [
    {
     "name": "stdout",
     "output_type": "stream",
     "text": [
      "df_orders=\t\t\t3421083\n",
      "df_order_products_prior=\t32434489\n",
      "df_order_products_train=\t1384617\n",
      "df_products=\t\t\t49688\n"
     ]
    }
   ],
   "source": [
    "# get original record count for dataframes\n",
    "print(f'df_orders=\\t\\t\\t{len(df_orders)}\\n' \n",
    "      f'df_order_products_prior=\\t{len(df_order_products_prior)}\\n'\n",
    "     f'df_order_products_train=\\t{len(df_order_products_train)}\\n'\n",
    "     f'df_products=\\t\\t\\t{len(df_products)}')"
   ]
  },
  {
   "cell_type": "markdown",
   "metadata": {},
   "source": [
    "### Data cleaning"
   ]
  },
  {
   "cell_type": "code",
   "execution_count": 30,
   "metadata": {},
   "outputs": [],
   "source": [
    "#drop any records with missing data\n",
    "df_orders.dropna(inplace = True)\n",
    "df_order_products_prior.dropna(inplace = True)\n",
    "df_order_products_train.dropna(inplace = True)\n",
    "df_products.dropna(inplace = True)"
   ]
  },
  {
   "cell_type": "code",
   "execution_count": 31,
   "metadata": {},
   "outputs": [
    {
     "name": "stdout",
     "output_type": "stream",
     "text": [
      "df_orders=\t\t\t3214874\n",
      "df_order_products_prior=\t32434489\n",
      "df_order_products_train=\t1384617\n",
      "df_products=\t\t\t49688\n"
     ]
    }
   ],
   "source": [
    "# get record count for dataframes after dropping records with missing data\n",
    "print(f'df_orders=\\t\\t\\t{len(df_orders)}\\n' \n",
    "      f'df_order_products_prior=\\t{len(df_order_products_prior)}\\n'\n",
    "     f'df_order_products_train=\\t{len(df_order_products_train)}\\n'\n",
    "     f'df_products=\\t\\t\\t{len(df_products)}')"
   ]
  },
  {
   "cell_type": "markdown",
   "metadata": {},
   "source": [
    "*Still plenty of good data to work with...*"
   ]
  },
  {
   "cell_type": "markdown",
   "metadata": {},
   "source": [
    "### Data transformation"
   ]
  },
  {
   "cell_type": "code",
   "execution_count": 32,
   "metadata": {},
   "outputs": [],
   "source": [
    "# combine the two (train and prior) product order datasets\n",
    "df_order_products = pd.concat([df_order_products_prior, df_order_products_train])"
   ]
  },
  {
   "cell_type": "code",
   "execution_count": 33,
   "metadata": {},
   "outputs": [],
   "source": [
    "# merge the product order data with the order dataset\n",
    "df_orders_colsubset = df_orders[['order_id','user_id']]\n",
    "df_order_products_merged = pd.merge(df_order_products, df_orders_colsubset, on = 'order_id').drop('order_id', axis = 1)"
   ]
  },
  {
   "cell_type": "code",
   "execution_count": 34,
   "metadata": {},
   "outputs": [
    {
     "data": {
      "text/html": [
       "<div>\n",
       "<style scoped>\n",
       "    .dataframe tbody tr th:only-of-type {\n",
       "        vertical-align: middle;\n",
       "    }\n",
       "\n",
       "    .dataframe tbody tr th {\n",
       "        vertical-align: top;\n",
       "    }\n",
       "\n",
       "    .dataframe thead th {\n",
       "        text-align: right;\n",
       "    }\n",
       "</style>\n",
       "<table border=\"1\" class=\"dataframe\">\n",
       "  <thead>\n",
       "    <tr style=\"text-align: right;\">\n",
       "      <th></th>\n",
       "      <th>product_id</th>\n",
       "      <th>add_to_cart_order</th>\n",
       "      <th>reordered</th>\n",
       "      <th>user_id</th>\n",
       "    </tr>\n",
       "  </thead>\n",
       "  <tbody>\n",
       "    <tr>\n",
       "      <th>0</th>\n",
       "      <td>33120</td>\n",
       "      <td>1</td>\n",
       "      <td>1</td>\n",
       "      <td>202279</td>\n",
       "    </tr>\n",
       "    <tr>\n",
       "      <th>1</th>\n",
       "      <td>28985</td>\n",
       "      <td>2</td>\n",
       "      <td>1</td>\n",
       "      <td>202279</td>\n",
       "    </tr>\n",
       "    <tr>\n",
       "      <th>2</th>\n",
       "      <td>9327</td>\n",
       "      <td>3</td>\n",
       "      <td>0</td>\n",
       "      <td>202279</td>\n",
       "    </tr>\n",
       "    <tr>\n",
       "      <th>3</th>\n",
       "      <td>45918</td>\n",
       "      <td>4</td>\n",
       "      <td>1</td>\n",
       "      <td>202279</td>\n",
       "    </tr>\n",
       "    <tr>\n",
       "      <th>4</th>\n",
       "      <td>30035</td>\n",
       "      <td>5</td>\n",
       "      <td>0</td>\n",
       "      <td>202279</td>\n",
       "    </tr>\n",
       "  </tbody>\n",
       "</table>\n",
       "</div>"
      ],
      "text/plain": [
       "   product_id  add_to_cart_order  reordered  user_id\n",
       "0       33120                  1          1   202279\n",
       "1       28985                  2          1   202279\n",
       "2        9327                  3          0   202279\n",
       "3       45918                  4          1   202279\n",
       "4       30035                  5          0   202279"
      ]
     },
     "execution_count": 34,
     "metadata": {},
     "output_type": "execute_result"
    }
   ],
   "source": [
    "# peek the data\n",
    "df_order_products_merged.head()"
   ]
  },
  {
   "cell_type": "markdown",
   "metadata": {},
   "source": [
    "### Calculate a score for each product by user"
   ]
  },
  {
   "cell_type": "code",
   "execution_count": 35,
   "metadata": {},
   "outputs": [
    {
     "data": {
      "text/html": [
       "<div>\n",
       "<style scoped>\n",
       "    .dataframe tbody tr th:only-of-type {\n",
       "        vertical-align: middle;\n",
       "    }\n",
       "\n",
       "    .dataframe tbody tr th {\n",
       "        vertical-align: top;\n",
       "    }\n",
       "\n",
       "    .dataframe thead th {\n",
       "        text-align: right;\n",
       "    }\n",
       "</style>\n",
       "<table border=\"1\" class=\"dataframe\">\n",
       "  <thead>\n",
       "    <tr style=\"text-align: right;\">\n",
       "      <th></th>\n",
       "      <th></th>\n",
       "      <th>reordered_count</th>\n",
       "    </tr>\n",
       "    <tr>\n",
       "      <th>user_id</th>\n",
       "      <th>product_id</th>\n",
       "      <th></th>\n",
       "    </tr>\n",
       "  </thead>\n",
       "  <tbody>\n",
       "    <tr>\n",
       "      <th rowspan=\"5\" valign=\"top\">1</th>\n",
       "      <th>196</th>\n",
       "      <td>10</td>\n",
       "    </tr>\n",
       "    <tr>\n",
       "      <th>10258</th>\n",
       "      <td>9</td>\n",
       "    </tr>\n",
       "    <tr>\n",
       "      <th>10326</th>\n",
       "      <td>0</td>\n",
       "    </tr>\n",
       "    <tr>\n",
       "      <th>12427</th>\n",
       "      <td>9</td>\n",
       "    </tr>\n",
       "    <tr>\n",
       "      <th>13032</th>\n",
       "      <td>3</td>\n",
       "    </tr>\n",
       "  </tbody>\n",
       "</table>\n",
       "</div>"
      ],
      "text/plain": [
       "                    reordered_count\n",
       "user_id product_id                 \n",
       "1       196                      10\n",
       "        10258                     9\n",
       "        10326                     0\n",
       "        12427                     9\n",
       "        13032                     3"
      ]
     },
     "execution_count": 35,
     "metadata": {},
     "output_type": "execute_result"
    }
   ],
   "source": [
    "# calculate a score for each product by user\n",
    "df_reordered_counts = pd.DataFrame(df_order_products_merged.groupby(['user_id','product_id']).reordered \\\n",
    "                        .sum())\n",
    "df_reordered_counts.rename(columns = {'reordered' : 'reordered_count'}, inplace = True)\n",
    "df_reordered_counts.head()"
   ]
  },
  {
   "cell_type": "code",
   "execution_count": 36,
   "metadata": {},
   "outputs": [
    {
     "data": {
      "text/html": [
       "<div>\n",
       "<style scoped>\n",
       "    .dataframe tbody tr th:only-of-type {\n",
       "        vertical-align: middle;\n",
       "    }\n",
       "\n",
       "    .dataframe tbody tr th {\n",
       "        vertical-align: top;\n",
       "    }\n",
       "\n",
       "    .dataframe thead th {\n",
       "        text-align: right;\n",
       "    }\n",
       "</style>\n",
       "<table border=\"1\" class=\"dataframe\">\n",
       "  <thead>\n",
       "    <tr style=\"text-align: right;\">\n",
       "      <th></th>\n",
       "      <th>product_id</th>\n",
       "      <th>add_to_cart_order</th>\n",
       "      <th>reordered</th>\n",
       "      <th>user_id</th>\n",
       "      <th>reordered_count</th>\n",
       "    </tr>\n",
       "  </thead>\n",
       "  <tbody>\n",
       "    <tr>\n",
       "      <th>0</th>\n",
       "      <td>33120</td>\n",
       "      <td>1</td>\n",
       "      <td>1</td>\n",
       "      <td>202279</td>\n",
       "      <td>5</td>\n",
       "    </tr>\n",
       "    <tr>\n",
       "      <th>1</th>\n",
       "      <td>28985</td>\n",
       "      <td>2</td>\n",
       "      <td>1</td>\n",
       "      <td>202279</td>\n",
       "      <td>4</td>\n",
       "    </tr>\n",
       "    <tr>\n",
       "      <th>2</th>\n",
       "      <td>9327</td>\n",
       "      <td>3</td>\n",
       "      <td>0</td>\n",
       "      <td>202279</td>\n",
       "      <td>0</td>\n",
       "    </tr>\n",
       "    <tr>\n",
       "      <th>3</th>\n",
       "      <td>45918</td>\n",
       "      <td>4</td>\n",
       "      <td>1</td>\n",
       "      <td>202279</td>\n",
       "      <td>4</td>\n",
       "    </tr>\n",
       "    <tr>\n",
       "      <th>4</th>\n",
       "      <td>30035</td>\n",
       "      <td>5</td>\n",
       "      <td>0</td>\n",
       "      <td>202279</td>\n",
       "      <td>2</td>\n",
       "    </tr>\n",
       "  </tbody>\n",
       "</table>\n",
       "</div>"
      ],
      "text/plain": [
       "   product_id  add_to_cart_order  reordered  user_id  reordered_count\n",
       "0       33120                  1          1   202279                5\n",
       "1       28985                  2          1   202279                4\n",
       "2        9327                  3          0   202279                0\n",
       "3       45918                  4          1   202279                4\n",
       "4       30035                  5          0   202279                2"
      ]
     },
     "execution_count": 36,
     "metadata": {},
     "output_type": "execute_result"
    }
   ],
   "source": [
    "# join back to product orders df\n",
    "df_product_order_counts = pd.merge(df_order_products_merged, \n",
    "                                   df_reordered_counts,\n",
    "                                   on=['user_id','product_id'], \n",
    "                                   how='left')\n",
    "df_product_order_counts.head()"
   ]
  },
  {
   "cell_type": "code",
   "execution_count": 38,
   "metadata": {},
   "outputs": [],
   "source": [
    "# keep only products reordered more than 20 times\n",
    "# doing this purely to cut down on data size/ processing time?\n",
    "# df_product_data = df_product_order_counts[df_product_order_counts.reordered_count > 20]\n",
    "df_product_data = df_product_order_counts\n",
    "# calculate score\n",
    "df_product_data['target'] = np.log(df_product_data['reordered_count']+1)"
   ]
  },
  {
   "cell_type": "markdown",
   "metadata": {},
   "source": [
    "### Conform data to `surprise` standards"
   ]
  },
  {
   "cell_type": "markdown",
   "metadata": {},
   "source": [
    "From [Towards Data Science:](https://towardsdatascience.com/machine-learning-for-building-recommender-system-in-python-9e4922dd7e97)\n",
    "\n",
    "\"The Reader class in Surprise is to parse a file containing users, items, and users’ ratings on items. The default format is that each rating is stored in a separate line in the following order separated by space: *user item rating*\""
   ]
  },
  {
   "cell_type": "code",
   "execution_count": 39,
   "metadata": {},
   "outputs": [
    {
     "data": {
      "text/html": [
       "<div>\n",
       "<style scoped>\n",
       "    .dataframe tbody tr th:only-of-type {\n",
       "        vertical-align: middle;\n",
       "    }\n",
       "\n",
       "    .dataframe tbody tr th {\n",
       "        vertical-align: top;\n",
       "    }\n",
       "\n",
       "    .dataframe thead th {\n",
       "        text-align: right;\n",
       "    }\n",
       "</style>\n",
       "<table border=\"1\" class=\"dataframe\">\n",
       "  <thead>\n",
       "    <tr style=\"text-align: right;\">\n",
       "      <th></th>\n",
       "      <th>product_id</th>\n",
       "      <th>user_id</th>\n",
       "      <th>target</th>\n",
       "    </tr>\n",
       "  </thead>\n",
       "  <tbody>\n",
       "    <tr>\n",
       "      <th>0</th>\n",
       "      <td>33120</td>\n",
       "      <td>202279</td>\n",
       "      <td>1.791759</td>\n",
       "    </tr>\n",
       "    <tr>\n",
       "      <th>1</th>\n",
       "      <td>28985</td>\n",
       "      <td>202279</td>\n",
       "      <td>1.609438</td>\n",
       "    </tr>\n",
       "    <tr>\n",
       "      <th>2</th>\n",
       "      <td>9327</td>\n",
       "      <td>202279</td>\n",
       "      <td>0.000000</td>\n",
       "    </tr>\n",
       "    <tr>\n",
       "      <th>3</th>\n",
       "      <td>45918</td>\n",
       "      <td>202279</td>\n",
       "      <td>1.609438</td>\n",
       "    </tr>\n",
       "    <tr>\n",
       "      <th>4</th>\n",
       "      <td>30035</td>\n",
       "      <td>202279</td>\n",
       "      <td>1.098612</td>\n",
       "    </tr>\n",
       "  </tbody>\n",
       "</table>\n",
       "</div>"
      ],
      "text/plain": [
       "   product_id  user_id    target\n",
       "0       33120   202279  1.791759\n",
       "1       28985   202279  1.609438\n",
       "2        9327   202279  0.000000\n",
       "3       45918   202279  1.609438\n",
       "4       30035   202279  1.098612"
      ]
     },
     "execution_count": 39,
     "metadata": {},
     "output_type": "execute_result"
    }
   ],
   "source": [
    "# clean up df\n",
    "df_product_data.drop(['reordered','reordered_count','add_to_cart_order'],axis=1,inplace=True)\n",
    "df_product_data.head()"
   ]
  },
  {
   "cell_type": "code",
   "execution_count": 40,
   "metadata": {},
   "outputs": [],
   "source": [
    "#set up test dataset - user_id column only\n",
    "df_orders_test = df_orders[df_orders.eval_set == 'test'][['user_id']]"
   ]
  },
  {
   "cell_type": "code",
   "execution_count": 41,
   "metadata": {},
   "outputs": [],
   "source": [
    "# get list of unique user and product IDs, and list of top products by user\n",
    "productIDs = df_product_data.product_id.unique()\n",
    "userIDs = df_product_data.user_id.unique()\n",
    "watchedList = df_product_data.groupby('user_id')['product_id'].apply(list).to_dict()"
   ]
  },
  {
   "cell_type": "code",
   "execution_count": 42,
   "metadata": {},
   "outputs": [],
   "source": [
    "# save data for tracking\n",
    "df_orders_bkp = df_orders[df_orders.eval_set == 'test'][['order_id','user_id']]"
   ]
  },
  {
   "cell_type": "code",
   "execution_count": 43,
   "metadata": {},
   "outputs": [],
   "source": [
    "# conform to surprise df\n",
    "reader = Reader(rating_scale= (df_product_data.target.min(), df_product_data.target.max()))\n",
    "data_train = Dataset.load_from_df(df_product_data, reader)\n",
    "trainset = data_train.build_full_trainset()"
   ]
  },
  {
   "cell_type": "code",
   "execution_count": 44,
   "metadata": {},
   "outputs": [
    {
     "data": {
      "text/plain": [
       "surprise.trainset.Trainset"
      ]
     },
     "execution_count": 44,
     "metadata": {},
     "output_type": "execute_result"
    }
   ],
   "source": [
    "type(trainset)"
   ]
  },
  {
   "cell_type": "code",
   "execution_count": 45,
   "metadata": {},
   "outputs": [
    {
     "data": {
      "text/plain": [
       "(0.0, 4.605170185988092)"
      ]
     },
     "execution_count": 45,
     "metadata": {},
     "output_type": "execute_result"
    }
   ],
   "source": [
    "trainset.rating_scale"
   ]
  },
  {
   "cell_type": "code",
   "execution_count": 46,
   "metadata": {},
   "outputs": [
    {
     "data": {
      "text/plain": [
       "206209"
      ]
     },
     "execution_count": 46,
     "metadata": {},
     "output_type": "execute_result"
    }
   ],
   "source": [
    "trainset.n_items"
   ]
  },
  {
   "cell_type": "markdown",
   "metadata": {},
   "source": [
    "### Training "
   ]
  },
  {
   "cell_type": "code",
   "execution_count": 47,
   "metadata": {},
   "outputs": [
    {
     "name": "stdout",
     "output_type": "stream",
     "text": [
      "Processing epoch 0\n",
      "Processing epoch 1\n",
      "Processing epoch 2\n",
      "Processing epoch 3\n",
      "Processing epoch 4\n",
      "Processing epoch 5\n",
      "Processing epoch 6\n",
      "Processing epoch 7\n",
      "Processing epoch 8\n",
      "Processing epoch 9\n",
      "Processing epoch 10\n",
      "Processing epoch 11\n",
      "Processing epoch 12\n",
      "Processing epoch 13\n",
      "Processing epoch 14\n",
      "Processing epoch 15\n",
      "Processing epoch 16\n",
      "Processing epoch 17\n",
      "Processing epoch 18\n",
      "Processing epoch 19\n",
      "Wall time: 36min 12s\n"
     ]
    }
   ],
   "source": [
    "%%time\n",
    "model = SVD(verbose=1,random_state=0).fit(trainset)"
   ]
  },
  {
   "cell_type": "markdown",
   "metadata": {},
   "source": [
    "### Prediction "
   ]
  },
  {
   "cell_type": "code",
   "execution_count": 48,
   "metadata": {},
   "outputs": [],
   "source": [
    "# define function to help with prediction\n",
    "\n",
    "def predict(user):\n",
    "    pred = []\n",
    "    if isinstance(user, pd.DataFrame) or isinstance(user, pd.Series):\n",
    "        user_id = user.user_id\n",
    "    elif isinstance(user, int) or isinstance(user, np.int64):\n",
    "        user_id = user\n",
    "    else:\n",
    "        raise Exception(\"user arg to predict func must be type int or pd.DataFrame (row)\")\n",
    "            \n",
    "    for x in productIDs:\n",
    "        try:\n",
    "            if x in watchedList[user_id]:\n",
    "                pred.append((x,model.predict(user_id,x).est))\n",
    "        except KeyError as e:\n",
    "            continue\n",
    "    pred = sorted(pred, key = lambda x: x[1], reverse=True)\n",
    "    if not pred:\n",
    "        return (np.nan, np.nan)\n",
    "    return pred"
   ]
  },
  {
   "cell_type": "code",
   "execution_count": 49,
   "metadata": {},
   "outputs": [],
   "source": [
    "# test prediction on a single user\n",
    "#sample_user_id = df_orders_test.user_id.sample(random_state = 14).values[0]\n",
    "sample_user_id = 196579  # lock-in"
   ]
  },
  {
   "cell_type": "code",
   "execution_count": 50,
   "metadata": {
    "collapsed": true,
    "jupyter": {
     "outputs_hidden": true
    }
   },
   "outputs": [
    {
     "name": "stdout",
     "output_type": "stream",
     "text": [
      "UserID=196579 --> [(19604, 2.0867030391525327), (38739, 1.980879035441776), (46126, 1.9157184163567145), (19006, 1.8942457150495613), (6568, 1.8392535395246072), (3856, 1.7986349430642288), (39599, 1.7840414659232506), (37208, 1.7830700574444671), (31956, 1.7723252299818022), (28281, 1.7678547138624636), (26444, 1.7606186950732594), (5189, 1.742736761458919), (32638, 1.7028655981175511), (2229, 1.681648239730604), (23204, 1.624772151568241), (46023, 1.6065632587719227), (11422, 1.5973994955128548), (19156, 1.5964722586416893), (14576, 1.5888674836708432), (30759, 1.5856504281612447), (23296, 1.5832510972660951), (21784, 1.5759037356753938), (33129, 1.5708089414148378), (15518, 1.5700329404395565), (5077, 1.5526911920489743), (40151, 1.550409411975445), (3919, 1.5488903644232095), (13263, 1.5387036810213006), (12811, 1.522303430164575), (48527, 1.517348246729531), (37940, 1.5151335587393526), (13149, 1.5100305720494442), (45104, 1.4875812197187583), (33552, 1.4805546339246785), (18281, 1.4557954636234884), (10957, 1.440062655007069), (4697, 1.436677647115977), (13537, 1.4241984034319188), (38185, 1.4230720618231651), (38656, 1.3924729050602684), (36316, 1.382892088226867), (34956, 1.3786279018474799), (16797, 1.3768673852116469), (20317, 1.3756105311747406), (23909, 1.3652037010854445), (32406, 1.358152015048342), (36865, 1.3501714155290543), (12526, 1.349821841564082), (17900, 1.349247687797811), (13176, 1.3455798383011592), (39423, 1.3351838241546634), (46475, 1.3294754409186755), (1405, 1.3293063391665252), (6128, 1.3269381586302065), (27344, 1.3219670385278026), (21024, 1.3181963623774902), (38415, 1.2932825307993485), (5047, 1.2759300240542122), (42240, 1.27134936515182), (25495, 1.250821725960884), (1211, 1.2474402600715746), (28199, 1.2416783079546483), (33095, 1.2399641070130445), (28829, 1.238806769836684), (12023, 1.2362135802810956), (39030, 1.2255872473025027), (46103, 1.221714432865326), (22788, 1.2188466688047146), (22124, 1.2181493930245033), (22021, 1.2155097161300377), (4399, 1.2072215021693466), (14983, 1.205738791836425), (31981, 1.202754807588647), (10914, 1.2005569710287727), (7644, 1.1897893168231297), (47977, 1.1860703622836206), (42292, 1.1854238986038088), (1831, 1.1790813575016), (21070, 1.1771055859549058), (25837, 1.1623262164813588), (36866, 1.1532676071880195), (40310, 1.1517736498621762), (2600, 1.1494267843043775), (207, 1.148759523394896), (33007, 1.1470333026081765), (44548, 1.145237350223745), (33627, 1.1353849026029632), (4836, 1.1256364401003713), (9447, 1.1244608152774425), (30257, 1.1236899764093526), (6724, 1.123479909207777), (27294, 1.120585162715269), (38063, 1.1204081771978975), (36981, 1.1173557440663644), (28154, 1.1150825941945746), (29091, 1.1150313836846966), (40236, 1.1122365119128181), (32611, 1.1102090117334773), (3590, 1.1088976920177838), (5947, 1.108376789915676), (33791, 1.1081645426300044), (9901, 1.1061052262633309), (45443, 1.093099975262042), (7753, 1.0857808615625038), (10181, 1.0765679695315316), (14118, 1.0669902025959035), (34247, 1.0595137331593005), (820, 1.0549534198567099), (39041, 1.0544959243508747), (11421, 1.046322560106499), (7930, 1.0454790082158412), (49628, 1.0448394279406195), (20972, 1.038000734011299), (48290, 1.0373868315728345), (24273, 1.0319532515151915), (48717, 1.027539773778246), (46189, 1.0160562568747296), (24296, 1.0156314760226388), (2639, 1.0134858669353062), (32181, 1.0034836406744319), (35034, 0.9927743540857037), (29432, 0.9888231239854093), (18523, 0.9860990287746265), (28100, 0.9798990937423534), (35898, 0.9798680379607535), (2026, 0.9772020777857058), (30353, 0.9657765271613665), (38241, 0.9656599405641028), (24954, 0.9649122948823581), (8490, 0.9648902425268763), (34915, 0.9639428172335653), (11091, 0.9572450834112931), (25804, 0.9538778945856854), (31964, 0.9512130129254514), (30958, 0.9482536032650766), (34514, 0.9466633395939779), (14945, 0.9453361243576464), (8714, 0.9435618214329624), (37436, 0.9410582297700543), (26917, 0.9377074241237862), (27313, 0.9349032864378202), (42731, 0.934872503312495), (33548, 0.9246763861418091), (48448, 0.9157943646270339), (9385, 0.9153038208259949), (25443, 0.9072025490352713), (24838, 0.9050694090355202), (16365, 0.9014929783307067), (39157, 0.8977945677165544), (48246, 0.8938051377891842), (6576, 0.8930763527232575), (14680, 0.8860194552835663), (48071, 0.8776232806269861), (9284, 0.8697555976623949), (33460, 0.8680890201311766), (27471, 0.8606919504958181), (22120, 0.8591518320389298), (22886, 0.8507989228649667), (27418, 0.850605034376122), (28682, 0.8489709354127961), (18362, 0.8340857145212641), (17122, 0.8173088550405286), (25513, 0.8164847908730211), (30727, 0.8135282749548802), (1700, 0.8014110018963747), (27601, 0.7999938836435775), (9736, 0.7948325017552235), (21131, 0.7722188143061486), (47728, 0.7676782785240023), (36551, 0.7535170608246318), (16076, 0.7208582153787564), (12914, 0.7203746043932253), (35940, 0.673989260880333), (4306, 0.6713180431204591), (23955, 0.6408226986126316), (31404, 0.6297816256351402), (8229, 0.5508208966259173)]\n",
      "UserID=107742 --> [(20876, 2.0166301728060994), (18418, 1.8391881407238828), (27104, 1.8321394774262896), (26165, 1.6234522448576518), (33731, 1.594524353645313), (8277, 1.5747320991546505), (38456, 1.5516833796073464), (38844, 1.5382911099950733), (18531, 1.5173875188811323), (8309, 1.5075606747095038), (15411, 1.4988255703471853), (13212, 1.4674473200832159), (35457, 1.443142968093492), (13829, 1.427614531025863), (42736, 1.4271377690284277), (24231, 1.4265968006518825), (40562, 1.4240944165812295), (9076, 1.3701885386351271), (45311, 1.364871729277909), (5438, 1.3589204030105173), (36865, 1.3501714155290543), (18382, 1.349399033854125), (13176, 1.3455798383011592), (15261, 1.3413587480293403), (47065, 1.339366879790048), (39162, 1.3150411909693989), (33438, 1.311963416606907), (48007, 1.2798227393266743), (29826, 1.2597405318420174), (18599, 1.2410064933973617), (38003, 1.2277810044628896), (45535, 1.204904494320366), (33279, 1.1964536499140468), (12456, 1.191166639589562), (38293, 1.189528806244875), (28465, 1.184228728389095), (47526, 1.1834070823084413), (5818, 1.1824608162461097), (43394, 1.16554113453294), (40310, 1.1517736498621762), (15386, 1.1450018503150614), (47890, 1.1445516106427105), (44422, 1.1367051349640445), (34137, 1.1351032406031432), (44359, 1.1325170094459434), (23719, 1.1167640689871332), (36315, 1.109770064554394), (31338, 1.107152980295006), (20549, 1.1050755047452898), (47626, 1.0996570233286396), (31506, 1.0977289253666367), (47766, 1.068629026731415), (27966, 1.035829347619547), (34530, 1.0356596082911014), (11598, 1.025651925976737), (6020, 1.0222488777581844), (40910, 1.0101493254096188), (2, 1.0043904604560892), (47953, 1.0022720916055827), (13629, 1.0016337781572093), (27544, 1.0004377864704597), (26209, 0.9885627163651505), (27093, 0.9763282916707485), (8490, 0.9648902425268763), (22935, 0.962145584549539), (43662, 0.9435664538040895), (36735, 0.9282005620054374), (28597, 0.9192734895600017), (21009, 0.9191043431340294), (14650, 0.916064599986506), (46505, 0.9019069039539713), (20526, 0.8667813545147253), (26848, 0.8635249274615975), (29871, 0.8592928044267363), (24964, 0.8501204903534465), (8809, 0.8109387283924384), (47912, 0.8001966058748332), (28849, 0.7951881393503657), (5456, 0.7906789038586713), (6000, 0.7889147796834766), (17794, 0.7606911852783562), (7041, 0.7378432689779358), (4799, 0.7377724148859023)]\n",
      "UserID=150176 --> [(49610, 1.8591105657373612), (34969, 1.8499924095944649), (41065, 1.8049921247428957), (44142, 1.72528723148093), (24852, 1.6356763403405272), (34449, 1.617565073647881), (21573, 1.4721779076498063), (49683, 1.4480709986479046), (5025, 1.3932098069301577), (26709, 1.3295286551950867), (25191, 1.328140279527769), (26384, 1.3279104382096765), (15650, 1.3069536740964678), (6201, 1.267042880504219), (3682, 1.2338921026231686), (10235, 1.1762329719841298), (40310, 1.1517736498621762), (43409, 1.0649706612866618), (39041, 1.0544959243508747), (15290, 1.0531331815933462), (4137, 1.0347746799520168), (38946, 1.0346191424477098), (9387, 1.012492514978569), (14147, 1.01139994589428), (13629, 1.0016337781572093), (16505, 0.9952652113247187), (5727, 0.9809641244197718), (24615, 0.9752584159994901), (2322, 0.960942437121541), (7736, 0.9524926688485917), (9327, 0.9434280328053855), (28204, 0.9083726192981775), (36321, 0.8903637280269182), (18019, 0.8533827993375971), (44570, 0.8444508307190742), (2135, 0.830573674620531), (42625, 0.7446720810296904), (45622, 0.6742025994274815), (40348, 0.659655224191155)]\n",
      "UserID=203975 --> [(43295, 2.115017098536771), (27428, 1.7369583281159509), (19019, 1.6497438099771236), (24852, 1.6356763403405272), (29581, 1.6352686709355566), (33129, 1.5708089414148378), (41178, 1.5333984104002816), (45064, 1.52713776068753), (2435, 1.4912509156232985), (49187, 1.477163244353401), (32650, 1.4728614746354383), (9124, 1.4709406666214422), (34217, 1.4426296458251162), (38185, 1.4230720618231651), (27360, 1.3944492103962665), (48634, 1.3788452094463237), (23909, 1.3652037010854445), (11281, 1.3309206693438829), (40817, 1.3088089992648966), (36130, 1.2893627232560636), (43642, 1.2429345213288032), (6177, 1.2121128443862244), (15097, 1.208547356686883), (18460, 1.208389566004966), (7644, 1.1897893168231297), (48299, 1.1676355528731925), (43175, 1.1457353838405326), (13966, 1.137412799462647), (49030, 1.123633896524835), (19185, 1.1029555425451643), (18128, 1.073364323287932), (2115, 1.0315009512558748), (13536, 1.02362562099314), (15327, 1.013433299443013), (41207, 1.0084768374652762), (33651, 0.9935944641644106), (7631, 0.9813445370189027), (41238, 0.9728564119329299), (22093, 0.9598801575941692), (48531, 0.9575762536675934), (9327, 0.9434280328053855), (35310, 0.9320705152785979), (21019, 0.9267378452641902), (49007, 0.9210424694397579), (14498, 0.9168176381149797), (24838, 0.9050694090355202), (21795, 0.903613567277301), (48205, 0.8962601343119623), (16859, 0.8651548899668505), (20378, 0.8601312800763798), (26587, 0.8324524771206145), (29095, 0.7107135873658599)]\n",
      "UserID=175804 --> [(10215, 2.3220607555575077), (1142, 1.701691144863351), (27801, 1.5704714055292253), (45566, 1.4233538304755333), (27294, 1.120585162715269), (27985, 1.1195441004861815), (17341, 1.095856895649323), (35336, 1.0869560843881154), (23252, 0.9959380059398526), (37229, 0.8689331096340135), (45190, 0.7232407934649326)]\n",
      "UserID=138786 --> [(36725, 1.9422875204370746), (10305, 1.9158529670701427), (32537, 1.8420974423996581), (34768, 1.835599060242868), (45842, 1.8124498609841826), (14678, 1.7223393255773056), (14267, 1.674304493654616), (24852, 1.6356763403405272), (49174, 1.5349602105613227), (260, 1.5242755120387739), (27086, 1.4834416210430958), (4269, 1.4708511565580775), (30928, 1.421688428558776), (27456, 1.3987746135006422), (16797, 1.3768673852116469), (9076, 1.3701885386351271), (14702, 1.3484897436470744), (49235, 1.3196464103569323), (46906, 1.3074841072311472), (14639, 1.296609706228967), (19473, 1.2762598667614067), (23516, 1.234347869470207), (46828, 1.2304766309416564), (3952, 1.1896250949782299), (38293, 1.189528806244875), (17948, 1.1867097437891037), (47526, 1.1834070823084413), (34045, 1.1590122079805303), (14161, 1.1557085407259058), (44912, 1.1485789991146782), (5764, 1.129738714679321), (46730, 1.1231591984614586), (44262, 1.0968446307977828), (31557, 1.0786542639478778), (47672, 1.0667599455803627), (34230, 1.048332407229075), (27966, 1.035829347619547), (18389, 0.994710364901907), (3330, 0.9860488806690342), (46886, 0.9849849433445348), (3007, 0.9667736539011723), (30849, 0.9538528901258487), (34993, 0.9307699490449834), (39928, 0.9084788295308415), (28204, 0.9083726192981775), (38650, 0.8975883896339717), (16185, 0.8958173437641028), (1463, 0.8917222831310792), (44683, 0.8802899433840364), (32412, 0.8745003775383962), (11005, 0.87241219936942), (46667, 0.8664788243191092), (21137, 0.8527181928474954), (27845, 0.8239226847223414), (26882, 0.8217535868250876), (41213, 0.8146276368955656), (28849, 0.7951881393503657), (43086, 0.7571905703414588), (4799, 0.7377724148859023), (2210, 0.6872821043665636), (30799, 0.640907408750726), (44636, 0.6259232423213745)]\n",
      "UserID=78449 --> [(32971, 2.6282190237689877), (33303, 2.0949586765691564), (22028, 2.0566191124999182), (24135, 1.869601441286334), (43352, 1.8500531878844853), (4724, 1.776859583592993), (44943, 1.6639118556788424), (33108, 1.62364029931587), (28324, 1.5268539461486097), (19767, 1.503028271154746), (6184, 1.4879208593676811), (27984, 1.4854473706612206), (16283, 1.4375871255508534), (39298, 1.4350152986304419), (39275, 1.4269077989910037), (16797, 1.3768673852116469), (12341, 1.347259611154971), (28680, 1.3279604896782258), (32303, 1.3249908672307371), (42265, 1.2954267404347684), (10310, 1.2879214978992082), (39399, 1.2659564386749882), (30406, 1.259377818239301), (10173, 1.253992336288256), (8571, 1.2392058465790554), (15200, 1.2341880731052566), (19508, 1.2082826943980058), (46931, 1.1865665842022106), (22511, 1.1777325629305355), (18296, 1.1654676660061838), (7914, 1.161388376997969), (3798, 1.1324752726843685), (44172, 1.1324266933003133), (20973, 1.1316377146541257), (35561, 1.129167212956196), (37734, 1.127284590474845), (19972, 1.1194498203684469), (34648, 1.067536575586852), (26088, 1.026368753538221), (26569, 1.0245077462568504), (17207, 0.9822054678146623), (116, 0.9805014277614861), (12476, 0.9588746901912815), (9200, 0.9431482852341104), (15994, 0.937897420818734), (17168, 0.9372929042569984), (28371, 0.9329787372232967), (48812, 0.9252566165890873), (13575, 0.9169391580863441), (45806, 0.8733587799669497), (32689, 0.8279621772626218), (20776, 0.8209311200003215), (130, 0.8184762903050744), (48762, 0.8166641928438326), (13378, 0.7289789564811185), (30827, 0.6836200393922984)]\n",
      "UserID=80262 --> [(47380, 2.095772372762097), (22963, 1.8815625769590714), (21463, 1.8638772002043258), (3787, 1.8321267339924001), (7175, 1.8157224683883433), (41065, 1.8049921247428957), (25811, 1.7861749962677291), (9058, 1.781506998262367), (43395, 1.7605833429416196), (31596, 1.7456707751367941), (34304, 1.6931464994652563), (26604, 1.686363212911167), (17758, 1.6863237968945093), (49215, 1.6832479412626724), (40256, 1.6606342974109891), (19019, 1.6497438099771236), (41165, 1.6330244265483003), (12564, 1.6253711769608443), (8728, 1.6192222756788424), (40002, 1.606897748667022), (13280, 1.5957062252198329), (8277, 1.5747320991546505), (10605, 1.5617300202856186), (45167, 1.5383438004406351), (35078, 1.5311585253458948), (40783, 1.5245501619023933), (38510, 1.5119516798447696), (22876, 1.4861566403730404), (4692, 1.4841239275219538), (44970, 1.4627551915861676), (39275, 1.4269077989910037), (24231, 1.4265968006518825), (33000, 1.4246200080619391), (45768, 1.418880555107604), (16566, 1.4183074571543626), (28382, 1.4129153691525762), (10644, 1.4082197062080002), (11753, 1.407476476288066), (20049, 1.389649516450307), (2529, 1.3852316761295624), (9839, 1.3774671563917622), (37011, 1.3757045723258325), (28985, 1.3699201620782095), (49401, 1.36284102610286), (18547, 1.3615671753340992), (41844, 1.3583288650211682), (37552, 1.3516782534105727), (39097, 1.3480259564439556), (3631, 1.341321525042849), (5212, 1.339743568610811), (14371, 1.3285055524871652), (27344, 1.3219670385278026), (49235, 1.3196464103569323), (36651, 1.3186652201152984), (33438, 1.311963416606907), (14355, 1.3058739354371605), (33845, 1.3049475837345155), (42265, 1.2954267404347684), (6141, 1.2860497850818962), (38159, 1.282772760661481), (36792, 1.2814731709518836), (17862, 1.2715746090756554), (41319, 1.2620688770902644), (16824, 1.2604757645783566), (48523, 1.2601030073857755), (48600, 1.2575330578779083), (44008, 1.2520757826506748), (6873, 1.2462635262211947), (11502, 1.2445910196256018), (27316, 1.2428713628577448), (28199, 1.2416783079546483), (29397, 1.2333633834235507), (42900, 1.2307250642010492), (27061, 1.2271354377059034), (2611, 1.2245483439491367), (5746, 1.2229028913592894), (43221, 1.2164566361451166), (41329, 1.2131912592350198), (43961, 1.2053637750399988), (19467, 1.2052047002761106), (9047, 1.2010426457221488), (16965, 1.1949074371197734), (21607, 1.1885441510021018), (4808, 1.1885072170501843), (972, 1.1836544888087388), (17384, 1.1832576697828254), (3002, 1.1779457351558826), (33637, 1.1776527578569431), (15613, 1.1766971807954065), (16479, 1.1698741425071888), (18246, 1.1688871598268575), (25890, 1.16470447601196), (6587, 1.1616110035948464), (33259, 1.155768803016716), (24764, 1.152217644300924), (45066, 1.15172183289043), (22969, 1.145880987969326), (47610, 1.136158668063116), (22142, 1.1250200045030907), (20042, 1.1247426508979848), (31292, 1.1174100362398685), (46992, 1.1150246974679199), (33352, 1.1141462084336204), (25407, 1.107256063104345), (31506, 1.0977289253666367), (49451, 1.0972582693285111), (13269, 1.096218550403396), (47370, 1.0956413028845748), (40345, 1.0930855298320512), (32659, 1.0823135443501628), (8007, 1.0692631092918188), (9033, 1.068066985117766), (6182, 1.0662354540311598), (21267, 1.0609986834176075), (10246, 1.059553142150333), (26351, 1.0573894091495724), (5240, 1.0548120200787792), (10621, 1.0519958561484053), (39149, 1.0447126300192506), (2319, 1.038230656717273), (46150, 1.0243395232693917), (47156, 1.018953697242558), (34574, 1.0148204477691354), (43076, 1.011332369161285), (12312, 1.009612199015599), (8907, 1.0073424775200563), (4920, 0.9981340367009719), (13453, 0.9911863543138), (42356, 0.9860813135190649), (46886, 0.9849849433445348), (11776, 0.960455592869373), (11782, 0.9597174766582287), (13245, 0.9583203523776098), (22178, 0.954993021165413), (2268, 0.9539866224099872), (46900, 0.9531562287590374), (38277, 0.9460356693965676), (23541, 0.9426391430289394), (48894, 0.9404105297368006), (39450, 0.9375713833849866), (26736, 0.930818176207424), (17878, 0.9307622452649843), (30327, 0.9282060289660425), (20280, 0.9275961726476155), (41376, 0.9204909472509366), (6508, 0.916271197040019), (14784, 0.9160856022230209), (33741, 0.914823144252839), (10404, 0.9131437526263896), (44068, 0.9124647905579187), (28571, 0.9076141459160707), (20063, 0.9052626315678626), (41077, 0.905110735522111), (18503, 0.9047449109926246), (48395, 0.8961644033652953), (11199, 0.8946945096065767), (34448, 0.8878385389185637), (40709, 0.8822527633727182), (22716, 0.880340787174221), (13660, 0.8798875884129969), (33754, 0.8761245810340766), (2154, 0.8681976283306938), (2429, 0.8655991537144613), (36253, 0.8645956870227622), (35182, 0.8547394707163669), (21137, 0.8527181928474954), (45603, 0.849225437132437), (25371, 0.8347421428621106), (34243, 0.8069553693340497), (33198, 0.7822273636980088), (8615, 0.778280673986407), (21334, 0.7674956276426209), (25537, 0.7632853878069298), (44201, 0.7608530819601487), (14233, 0.7522946130948441), (30719, 0.7474875620505036), (19938, 0.7239768200855603), (27243, 0.7239429717466994), (21398, 0.6999736608523726), (14129, 0.6906145512869856), (5575, 0.6665654390251543), (31893, 0.6413625264271019)]\n",
      "UserID=121330 --> [(432, 1.5339562661984345), (45613, 1.5140988300427558), (47788, 1.4821515795842177), (33168, 1.4094180622240893), (2712, 1.3920678728284475), (44290, 1.3428663329530384), (5955, 1.3373611358546271), (3019, 1.220028469971237), (38293, 1.189528806244875), (27323, 1.1792964556526349), (47766, 1.068629026731415), (5275, 1.0411924067891467), (25509, 0.828507905046942)]\n",
      "UserID=70170 --> [(24810, 2.6850884283245566), (22760, 2.226993554576154), (17468, 1.7962963521053021), (14553, 1.6728584943862446), (24852, 1.6356763403405272), (8309, 1.5075606747095038), (38656, 1.3924729050602684), (41844, 1.3583288650211682), (36865, 1.3501714155290543), (14870, 1.2581501452619135), (40396, 1.2247072012156432), (28465, 1.184228728389095), (44811, 1.1818282753945284), (43858, 1.1787822631727582), (365, 1.099967681509023), (15143, 1.0546745657376075), (49519, 1.0338346398511784), (4920, 0.9981340367009719), (43713, 0.9821591617026293), (30489, 0.9657462282964152), (17530, 0.9647545168423317), (10339, 0.9476952967394454), (48577, 0.9390877249496025), (28204, 0.9083726192981775), (37646, 0.8575827366541168), (25217, 0.7953503517276932), (24253, 0.7944182709301673), (33750, 0.6526941695834704)]\n",
      "UserID=200822 --> [(24810, 2.6850884283245566), (8518, 2.007740115584185), (34969, 1.8499924095944649), (41065, 1.8049921247428957), (27695, 1.7054982806657073), (37538, 1.6695889834705846), (21551, 1.6430155994941666), (24184, 1.6381193962352334), (24852, 1.6356763403405272), (19678, 1.6311656569898627), (40706, 1.575844042733769), (260, 1.5242755120387739), (48679, 1.5058167614620008), (45104, 1.4875812197187583), (43122, 1.4857188427263233), (29033, 1.4789755424276136), (9390, 1.4439235752124795), (33000, 1.4246200080619391), (38383, 1.3928067806439544), (9808, 1.3888614156396017), (9076, 1.3701885386351271), (8174, 1.3665570797108015), (40604, 1.363746528052576), (30720, 1.3552526052143807), (41149, 1.343046363951762), (16616, 1.3145770984712537), (2966, 1.2709788433468994), (48745, 1.2617488469145899), (13598, 1.2265204496035778), (17795, 1.2178274944662413), (19508, 1.2082826943980058), (21938, 1.2072317772018877), (22825, 1.2046239954355125), (35535, 1.1875381247529373), (17948, 1.1867097437891037), (39787, 1.1789679027138056), (9477, 1.1745856207840069), (44910, 1.1703876918633984), (17668, 1.167544636393924), (39190, 1.1562445229796672), (42828, 1.1341748286561675), (24673, 1.1139358033582338), (49131, 1.1023043541704323), (25659, 1.0988322237606263), (28553, 1.0773506714648733), (5652, 1.0755740086595047), (15040, 1.0750122090653833), (47907, 1.071815502236947), (10246, 1.059553142150333), (15290, 1.0531331815933462), (27966, 1.035829347619547), (24382, 1.0278207993846313), (30027, 1.022254938943994), (10749, 1.0100796348608898), (36389, 1.0081847458689894), (29487, 1.0069121128393737), (18689, 1.0034659769027723), (19125, 0.9932831244957199), (16415, 0.987045225168641), (45007, 0.9739191224127024), (19893, 0.9647521450053038), (15649, 0.9647037577220089), (40632, 0.9410614475955404), (36397, 0.9284534959746583), (41665, 0.910575505824132), (28204, 0.9083726192981775), (36929, 0.8965477670939902), (16185, 0.8958173437641028), (48976, 0.891483014729797), (23543, 0.8622739387790785), (37646, 0.8575827366541168), (19208, 0.8442706513470926), (44306, 0.8373580269808051), (47734, 0.8365958364968441), (27845, 0.8239226847223414), (46979, 0.8237234839525921), (21841, 0.819497809925081), (41213, 0.8146276368955656), (17400, 0.812691673097268), (21903, 0.8111788247303162), (41842, 0.8015579720225862), (5456, 0.7906789038586713), (17794, 0.7606911852783562), (29326, 0.7405835334542934)]\n",
      "UserID=124194 --> [(46676, 2.0381375421860204), (49610, 1.8591105657373612), (12853, 1.77349753132334), (12074, 1.7379612283887678), (9018, 1.718202318061502), (24852, 1.6356763403405272), (45013, 1.6182458007641844), (34795, 1.6115429540740103), (40354, 1.597287132047093), (33129, 1.5708089414148378), (48341, 1.5392471908593492), (34991, 1.5319992514810752), (21641, 1.4908097156345546), (13150, 1.485138335955109), (32573, 1.4677218464037025), (14901, 1.4639969908828618), (45795, 1.4609035589854236), (49683, 1.4480709986479046), (36180, 1.4293611952140735), (39275, 1.4269077989910037), (17316, 1.3980424073767064), (34688, 1.3957341178211589), (22425, 1.3916838998048087), (48610, 1.3692170727425708), (39475, 1.3685643164693868), (47759, 1.3162924660686686), (196, 1.3037241362146992), (46252, 1.2839959927377338), (5247, 1.2758867985378424), (49191, 1.2539241671564565), (9810, 1.248400216809304), (39726, 1.242759911691267), (42404, 1.23878588238927), (10892, 1.2264022897959073), (41860, 1.2262182816202127), (22124, 1.2181493930245033), (16570, 1.199832857316768), (27683, 1.199595702464578), (3142, 1.1760306264848526), (44773, 1.1718165780047953), (6187, 1.1709866626489425), (33636, 1.1675640104567633), (7533, 1.1638219325762713), (44666, 1.1637571069759918), (25837, 1.1623262164813588), (46847, 1.1579746471409111), (21847, 1.136701452234379), (17858, 1.1343628738764406), (15011, 1.1245158343726072), (24561, 1.095643620629283), (1935, 1.0921746859596826), (32030, 1.0724468441880015), (28579, 1.067775361882255), (43409, 1.0649706612866618), (27435, 1.0607588547281461), (35221, 1.0589405377150547), (30839, 1.038101056136129), (27966, 1.035829347619547), (4137, 1.0347746799520168), (31683, 1.027115030326248), (283, 1.0210220064201028), (37733, 1.0205188728330328), (41414, 1.0105396192764604), (2205, 1.0021795362462653), (17791, 0.9994229879941159), (16029, 0.9719810487080134), (16349, 0.9596551513076393), (40411, 0.947216297203337), (45596, 0.9450609006900015), (28597, 0.9192734895600017), (35108, 0.9126740913111031), (48395, 0.8961644033652953), (18880, 0.8828334305909932), (18441, 0.8822731964001409), (36161, 0.8727895816732748), (1836, 0.8559817174135257), (15902, 0.8512863566279834), (8212, 0.8414555068228161), (38747, 0.825320425360953), (6348, 0.8053130546635985), (19084, 0.7957008479700933), (21709, 0.7878235787262459), (25919, 0.7825034602967367), (33198, 0.7822273636980088), (46075, 0.776354584166531), (4957, 0.7656127265257965), (12979, 0.7146744775108981), (169, 0.6836139208795287)]\n",
      "UserID=163720 --> [(8903, 1.6896042157923554), (40706, 1.575844042733769), (37839, 1.574755044427704), (8277, 1.5747320991546505), (37019, 1.5735513930329783), (45613, 1.5140988300427558), (31478, 1.50522190573056), (13947, 1.4887930602301944), (6692, 1.44902425813005), (41010, 1.4230695996028637), (1240, 1.4103679734800494), (30720, 1.3552526052143807), (27336, 1.340016121911192), (10826, 1.3394251494806184), (42028, 1.3286934126320444), (46906, 1.3074841072311472), (24390, 1.3015588266339373), (18677, 1.2966056985364753), (33873, 1.262958534321912), (8733, 1.2282935162540651), (2309, 1.2194413530199195), (13800, 1.2121443678707793), (39625, 1.1873955494987234), (22827, 1.1857372370822439), (47610, 1.136158668063116), (26756, 1.134459238994053), (46913, 1.0924292695103874), (172, 1.045854552074919), (21405, 1.0371567895096274), (12686, 1.0056370503805052), (30795, 0.9731773918136483), (33071, 0.9566812095911699), (37765, 0.9565674100958104), (2963, 0.9433236206815238), (18829, 0.9285956776603416), (8011, 0.9108309018066699), (40199, 0.9043554193730619), (48057, 0.8990214540181757), (27881, 0.8753425814652405), (37650, 0.8697472930611212), (35467, 0.860054392782522), (37417, 0.8528120117586201), (44570, 0.8444508307190742), (9836, 0.8436071060262885), (12625, 0.8413101818578353), (45472, 0.8188199228828231), (16973, 0.7677627891040354), (44201, 0.7608530819601487), (18564, 0.75895492517497), (42625, 0.7446720810296904), (9193, 0.7417094180187056), (29864, 0.7300018104467596), (39332, 0.7241093653818993), (26187, 0.7082212638270382)]\n",
      "UserID=58506 --> [(45739, 1.9672350181642573), (26312, 1.9107981970012318), (10374, 1.7113818020106046), (23630, 1.7034298587274472), (18512, 1.6354757336757197), (31865, 1.6234504432844643), (23644, 1.4406585956530211), (38404, 1.382309018895416), (13176, 1.3455798383011592), (27749, 1.3237605381034192), (39719, 1.2824631918275051), (46522, 1.2118626510976473), (29078, 1.1839270801521735), (5818, 1.1824608162461097), (22297, 1.1789345607407686), (44980, 1.1639905566505584), (32684, 1.1511457252261432), (18817, 1.1134410253127078), (47626, 1.0996570233286396), (20114, 1.0986510304583994), (39871, 1.089210762981594), (30233, 1.086663257485108), (47766, 1.068629026731415), (25153, 1.0389700967853135), (17307, 1.0273853634581842), (19106, 1.0136052480065687), (34358, 1.0127515326320629), (12087, 1.000771189888246), (45528, 0.97024259035454), (48588, 0.9564855763260351), (15618, 0.9465125849653484), (19068, 0.9347975286916657), (28204, 0.9083726192981775), (8138, 0.8961289991791986), (41782, 0.8936476989683936), (42585, 0.8689616144888624), (21903, 0.8111788247303162), (22597, 0.7737484277557515), (3480, 0.7705564009930889), (8663, 0.7539222865977222), (14233, 0.7522946130948441), (28303, 0.739346526633425), (44027, 0.7073415531557575), (24899, 0.6449298624119203)]\n",
      "UserID=92372 --> [(28427, 1.9327013319096056), (11361, 1.855013976225123), (44475, 1.7910776390581957), (28132, 1.7696434398431533), (32249, 1.735482370267989), (44085, 1.6676252927616073), (34287, 1.4907387877815048), (21573, 1.4721779076498063), (4889, 1.4614263461239592), (47683, 1.4560687970795434), (16797, 1.3768673852116469), (9076, 1.3701885386351271), (41844, 1.3583288650211682), (15923, 1.3458333487940477), (39423, 1.3351838241546634), (5586, 1.294873130660945), (33846, 1.2327786220694195), (13755, 1.2296540376332534), (31486, 1.1999844724412743), (47516, 1.1995111027591507), (1940, 1.1944712378642064), (14248, 1.1609645595694418), (24083, 1.1165817994800356), (19051, 1.0724946177312678), (1148, 1.0477637008651977), (31683, 1.027115030326248), (9387, 1.012492514978569), (27681, 1.011898961769907), (17800, 0.9849733500812905), (10307, 0.9664726890627434), (23032, 0.9638347054471175), (18352, 0.9563300841328768), (25804, 0.9538778945856854), (33090, 0.928474866460238), (19202, 0.9282270298488333), (23322, 0.9092043172940752), (47144, 0.905395548878536), (8138, 0.8961289991791986), (22487, 0.8882585014562986), (21137, 0.8527181928474954), (28687, 0.845386305614556), (42633, 0.8146102879502256), (6689, 0.7879676808379394), (49269, 0.6147153815934129)]\n",
      "UserID=6059 --> [(23764, 1.9018981715237457), (26805, 1.6113068963510182), (248, 1.4251258941664466), (18883, 1.403538788305773), (5077, 1.3706673858223721), (20303, 1.3698802136196415), (48094, 1.3640973036068975), (27086, 1.3491967614841602), (46676, 1.3139302173236775), (37119, 1.311967672900601), (24830, 1.2359294177471682), (32018, 1.2236963714867513), (17355, 1.1936203003588615), (44142, 1.1281806798627707), (19019, 1.1245588893429257), (5025, 1.1142038453956817), (24852, 1.0887066179967755), (42736, 1.0634486698518093), (1215, 1.050886576998511), (29691, 1.046956609188295), (49683, 1.0424017316822007), (14277, 1.0395315638941667), (5645, 1.038726585869297), (17830, 1.0337090904921302), (40604, 1.0162343658243016), (16797, 1.0045555133621542), (41212, 0.9908667667997003), (9779, 0.9760994531701178), (9595, 0.9705761183040027), (39275, 0.9702416941176711), (9076, 0.9686530826437442), (17652, 0.9438811686940423), (5373, 0.9370437055492946), (2344, 0.93427446378283), (43122, 0.9227604354358615), (4697, 0.9202728139786598), (5550, 0.9197323733222831), (21955, 0.9181551946431135), (17484, 0.9059117106446679), (14161, 0.8952951786266845), (19451, 0.8883195177583637), (9177, 0.8847792810677131), (14074, 0.8822940681280954), (48744, 0.8699105471783611), (25634, 0.865023655669601), (8324, 0.8478340211438682), (1443, 0.8335237802949851), (34745, 0.8280155930979658), (7021, 0.8018166345099352), (48301, 0.7952259942310589), (22395, 0.7941027877127399), (9666, 0.7866696763590851), (17600, 0.7674229449590565), (45495, 0.7391659818998257), (47209, 0.736026385922042), (42864, 0.7249857199777311), (32402, 0.721427814844101), (29594, 0.6987093234035785), (18465, 0.6968208887312517), (14453, 0.6868390818716659), (49235, 0.6840194753714067), (38273, 0.6833554774917306), (41860, 0.6715737358850755), (22270, 0.6676206558589066), (35217, 0.6656691076618678), (28432, 0.6610169781930381), (20906, 0.6478737207688079), (21291, 0.6457962439314673), (20345, 0.63624765538213), (22141, 0.6258461395836974), (21526, 0.624247526946152), (22888, 0.6216249305884244), (25890, 0.6175408007790659), (13077, 0.6150564054470904), (47766, 0.6129582220963168), (33809, 0.6043259288798214), (40969, 0.5944682232896741), (7948, 0.5934939915068089), (16321, 0.5923535293224125), (35343, 0.5901242884851982), (25753, 0.5879042261967913), (36968, 0.5864362684554841), (24561, 0.5810694537057637), (28842, 0.576415999788669), (16185, 0.5756679999488353), (19508, 0.5742419584024945), (48368, 0.5661716015823063), (39557, 0.5615268920705172), (5621, 0.5583181037203861), (14525, 0.5458798793758318), (24964, 0.5427031956119212), (27098, 0.5392000958062468), (38313, 0.5333041952765689), (43920, 0.5248703679533884), (41966, 0.520887003862605), (31506, 0.5197291713014517), (39430, 0.5164338350020872), (11777, 0.5072479496191201), (22247, 0.50642250426642), (21417, 0.5057658479996362), (37276, 0.5022901985766307), (7751, 0.5016182744804503), (35503, 0.501139865722528), (35935, 0.49798037010149343), (11199, 0.4946154676134241), (9839, 0.4924987496527537), (18487, 0.49226803762103394), (8193, 0.4855597256209028), (28199, 0.47885701878514053), (39024, 0.4763082361149151), (2994, 0.4761982199143049), (7628, 0.4758946477534894), (31469, 0.47311319620283104), (28165, 0.46987989513732165), (32177, 0.4652497103920969), (45066, 0.4622359778970888), (36869, 0.45599345876500635), (4920, 0.4515920410639624), (39855, 0.4499874528841115), (46900, 0.44256940032540554), (4586, 0.434390649342736), (23517, 0.426883221433458), (32412, 0.4187671668403036), (22640, 0.4174217909757382), (48972, 0.41668038772802996), (18288, 0.41639110954757047), (15143, 0.41378171659303614), (43713, 0.41102329158887796), (47888, 0.40771738216675), (15290, 0.39971559827210723), (1896, 0.39926935726229534), (11247, 0.38991042504671913), (7177, 0.38745442623282905), (34134, 0.3815572174866622), (41271, 0.37775272653963343), (3330, 0.37374269772481905), (44204, 0.3723278826167613), (31553, 0.36763154424830097), (37193, 0.36015467687081604), (9266, 0.35943808449631204), (47601, 0.3584589188451489), (38689, 0.35714684425281445), (24024, 0.35350747646766684), (36735, 0.35106431246035136), (23192, 0.34431634749888557), (26697, 0.3397560940330474), (6971, 0.33576961883186196), (21830, 0.33525359099052204), (29598, 0.32836434710177265), (4812, 0.32824633030433725), (13740, 0.3130816364139072), (41787, 0.3116947227093561), (12206, 0.30387001342929315), (26209, 0.30198699510409155), (28849, 0.2995211357596621), (16203, 0.29456585130728535), (17794, 0.29260811511307416), (4853, 0.28852864490436303), (37141, 0.2867109263753171), (23543, 0.2847821614439575), (4799, 0.2718149360696758), (6515, 0.2642770683977465), (47017, 0.2605924022765177), (30463, 0.24473267068733529), (14218, 0.24406424001154636), (2763, 0.2408746892705232), (4605, 0.2341822273600347), (19938, 0.22409182342854597), (13851, 0.20684203116032868), (8025, 0.19405408059566168), (31343, 0.19172829957007564), (2447, 0.1911555845589209), (12157, 0.1881707992499897), (30459, 0.18486023920896247), (35715, 0.17489150539944184), (12980, 0.15897465164940433), (37158, 0.14744396762763493), (32734, 0.13532905600929354), (28204, 0.12226381545104037), (37147, 0.10329123647303629), (45537, 0.03946267219113209)]\n",
      "UserID=65782 --> [(8518, 2.007740115584185), (44560, 1.934853785160435), (22963, 1.8815625769590714), (27104, 1.8321394774262896), (28745, 1.633992532781878), (19678, 1.6311656569898627), (26165, 1.6234522448576518), (19173, 1.6136359669349205), (8277, 1.5747320991546505), (6532, 1.5459950897732138), (260, 1.5242755120387739), (24489, 1.5228581417682754), (43122, 1.4857188427263233), (22035, 1.478562022180315), (4269, 1.4708511565580775), (1090, 1.4561806682110043), (28915, 1.4195797080378108), (28985, 1.3699201620782095), (18382, 1.349399033854125), (13176, 1.3455798383011592), (7948, 1.33855057923166), (46906, 1.3074841072311472), (47333, 1.2988763705854607), (48600, 1.2575330578779083), (15693, 1.2524408328261538), (13055, 1.2474663200835745), (11182, 1.244250006488016), (44397, 1.2412913954104394), (21295, 1.2381696928105472), (9561, 1.2324196421533862), (2825, 1.2188304793892508), (22825, 1.2046239954355125), (41290, 1.1978295901291809), (36082, 1.1812203294045696), (5690, 1.1652570912123859), (48415, 1.1640147085994246), (25630, 1.1412194325972758), (35628, 1.140963111722387), (42828, 1.1341748286561675), (30796, 1.1252842997662036), (24841, 1.107745854375757), (5031, 1.0852151701351644), (14852, 1.0805345569978801), (47766, 1.068629026731415), (27555, 1.0233223916909673), (16759, 0.9953279939913285), (19240, 0.9917472953563293), (48190, 0.9901233270992955), (43713, 0.9821591617026293), (47630, 0.9813466797057175), (18288, 0.9774853151977483), (6046, 0.9529968695678687), (20583, 0.9497340094509951), (10070, 0.9460042269604132), (23044, 0.9205440670882904), (39928, 0.9084788295308415), (38777, 0.8981569804139852), (46667, 0.8664788243191092), (37646, 0.8575827366541168), (35140, 0.8541988417897332), (21137, 0.8527181928474954), (24964, 0.8501204903534465), (37766, 0.8455497942270008), (41950, 0.8185200515658866), (13984, 0.7937400373556195), (49236, 0.7722402455637946), (32655, 0.7099250257582648)]\n",
      "UserID=172747 --> [(46087, 1.9810554766847333), (26768, 1.9600582234844373), (216, 1.868849550988441), (17679, 1.8253721168741865), (18110, 1.8140182311071646), (11845, 1.7310502282706812), (14678, 1.7223393255773056), (20034, 1.7190643133099048), (26604, 1.686363212911167), (24852, 1.6356763403405272), (9531, 1.6287699626398335), (40706, 1.575844042733769), (8277, 1.5747320991546505), (34943, 1.5490839211596426), (48679, 1.5058167614620008), (21616, 1.4440049630668856), (33000, 1.4246200080619391), (26668, 1.3857006141678045), (39475, 1.3685643164693868), (13176, 1.3455798383011592), (10826, 1.3394251494806184), (27938, 1.3212747435229595), (36848, 1.2986721396177137), (47209, 1.2960837422241414), (36792, 1.2814731709518836), (29439, 1.2612870719975782), (34325, 1.250957461986003), (21417, 1.2441632076476914), (30290, 1.2397966235625149), (5450, 1.2096906563736125), (41540, 1.200713431498812), (28435, 1.1935110053621583), (17948, 1.1867097437891037), (12845, 1.1701396983843992), (43394, 1.16554113453294), (29461, 1.1630938571860674), (21766, 1.157679331208711), (16772, 1.1274466771959613), (4274, 1.1148404390488496), (20178, 1.112526967260317), (45437, 1.096335137901702), (25931, 1.0756067572465908), (16428, 1.0755066941295883), (45103, 1.0525067531704533), (18465, 1.0377807695212846), (27966, 1.035829347619547), (9689, 1.0321813094817274), (31933, 1.0313821824370013), (1828, 1.0015195105673738), (5134, 0.9876569488596774), (6473, 0.9813229333860736), (44969, 0.9789008943342092), (45007, 0.9739191224127024), (30489, 0.9657462282964152), (16349, 0.9596551513076393), (24221, 0.937582105916772), (36397, 0.9284534959746583), (1928, 0.9056703346050345), (4634, 0.9015373972417895), (8138, 0.8961289991791986), (6057, 0.8904823876940058), (12719, 0.885186863783069), (46667, 0.8664788243191092), (11193, 0.8506840867522605), (34377, 0.806969056326923), (34243, 0.8069553693340497), (18873, 0.796964528280943), (44201, 0.7608530819601487), (20767, 0.7190667992725933)]\n",
      "UserID=124748 --> [(24810, 2.6850884283245566), (29987, 1.8259469371135313), (7054, 1.7044023950830276), (47884, 1.6953748729229257), (24852, 1.6356763403405272), (8424, 1.6037658254466403), (8277, 1.5747320991546505), (5161, 1.5047109445110305), (35530, 1.4861108614285363), (47961, 1.4804976367623683), (49683, 1.4480709986479046), (39275, 1.4269077989910037), (9839, 1.3774671563917622), (16797, 1.3768673852116469), (30720, 1.3552526052143807), (7948, 1.33855057923166), (28983, 1.3136221906919865), (47209, 1.2960837422241414), (13085, 1.2909273563472026), (20608, 1.2513365275142034), (6873, 1.2462635262211947), (23516, 1.234347869470207), (5876, 1.2308900422958662), (22825, 1.2046239954355125), (27683, 1.199595702464578), (33279, 1.1964536499140468), (38293, 1.189528806244875), (36082, 1.1812203294045696), (24235, 1.160748350762054), (37067, 1.1551141153081106), (37349, 1.1104470902860233), (47626, 1.0996570233286396), (14462, 1.0734443375655753), (29307, 1.0605667798696907), (10246, 1.059553142150333), (18465, 1.0377807695212846), (27966, 1.035829347619547), (17044, 1.0261834816130921), (30494, 0.9993291956562956), (44632, 0.9965859322606632), (16759, 0.9953279939913285), (22915, 0.9906495908156743), (34551, 0.9895506453748333), (26209, 0.9885627163651505), (10, 0.9879916601625823), (5134, 0.9876569488596774), (39430, 0.9774139072978223), (22935, 0.962145584549539), (6474, 0.9043593384169754), (46667, 0.8664788243191092), (48865, 0.8590807205741753), (21137, 0.8527181928474954), (41950, 0.8185200515658866), (34126, 0.7991937709482806), (17794, 0.7606911852783562), (17487, 0.7528923270943813), (45537, 0.6472055251571313)]\n",
      "UserID=27316 --> [(22963, 3.1966872105319206), (13230, 2.267442670665747), (27104, 2.1167939977742307), (34278, 1.921453657643746), (49683, 1.7117781338899718), (48370, 1.6185689861285335), (46654, 1.5062862192063295), (38511, 1.4734916381322356), (18245, 1.4646012683126604), (432, 1.4640647063206633), (6463, 1.4335305495569726), (30720, 1.4233012182942906), (21616, 1.4088805406638316), (41867, 1.3562749767805686), (14727, 1.3418707221449713), (46684, 1.3392350507818043), (6286, 1.256910724606408), (38202, 1.2044601574357214), (14719, 1.1626404512795525), (10416, 1.1141733444223645), (12859, 1.0656527458208762), (2039, 1.0616089232920731), (33095, 1.0564613127304132), (20960, 1.053231314321256), (21372, 1.0402973019919843), (48130, 0.9945472842855643), (21553, 0.9753783529353075), (47766, 0.9399378714688208), (28990, 0.9296638796114567), (13176, 0.9281338736485776), (46802, 0.9125102621440816), (8195, 0.907357221507711), (18234, 0.9002565076408765), (13834, 0.8797607123505451), (39877, 0.8288180189477039), (45965, 0.7582905450195134), (21927, 0.753445632300371), (21338, 0.7334675107604408), (38443, 0.7254820922843445), (38371, 0.7160551554049038), (47144, 0.696779279515882), (15700, 0.6165981754577348), (32999, 0.6161618313838187), (48205, 0.6147386280678153), (31553, 0.6076506115273232), (14999, 0.607395777331991), (38693, 0.6061768266143954), (29487, 0.5983857335662516), (25144, 0.5928535553444432), (24186, 0.5525924947258268), (30220, 0.5432936338267225), (29526, 0.5093183408444406), (7471, 0.4947111298181452), (44359, 0.48995381741889776), (48455, 0.4677991285734031), (19893, 0.40689584484412256), (48845, 0.40664281437676536), (42121, 0.3805499218626023), (43780, 0.35319517067436224), (3098, 0.33940726933495446), (4086, 0.2935259847155616), (2729, 0.289759281495689), (18880, 0.2846604246553585), (4136, 0.2119316837878637), (21174, 0.2019693746810294), (7988, 0.1609638366942841), (1203, 0.04106769328543414), (42240, 0.039611191538199586), (39646, 0.006061280591018181)]\n",
      "UserID=164651 --> [(12702, 2.0978600262496863), (10613, 1.8459392009316309), (27104, 1.8321394774262896), (13423, 1.795013087835303), (38862, 1.7613975942040954), (26172, 1.7156889547267167), (31355, 1.6721800345835325), (15820, 1.6309867554333053), (39059, 1.626481366810744), (23288, 1.577944485262667), (33771, 1.5135743126502013), (43584, 1.483577898216445), (49346, 1.4733547551883261), (43940, 1.471023109358189), (42736, 1.4271377690284277), (18561, 1.4094325953353424), (41254, 1.404350079257915), (40400, 1.4013497557295513), (23734, 1.3981700996779576), (36316, 1.382892088226867), (25901, 1.3797079287644956), (5913, 1.3678169374906266), (20468, 1.3660070937889681), (703, 1.3616131165070682), (5375, 1.3326813435995373), (12078, 1.3147953175580733), (33245, 1.2942930030774487), (350, 1.275568855219214), (18196, 1.2671227373453278), (7358, 1.2208412913057867), (13500, 1.2047212464527128), (29553, 1.1894257676961633), (11874, 1.189096442366158), (4210, 1.1862441460392381), (44489, 1.1634899529007017), (37036, 1.1503777891175833), (46677, 1.1330422003749967), (44799, 1.1289338751446847), (21936, 1.1200014516167012), (20118, 1.1104721127101436), (6016, 1.1096261840794126), (11165, 1.1035539144447846), (13159, 1.0846445063627828), (22509, 1.0590403263761148), (38768, 1.0585094651178988), (13388, 1.0416958951423365), (24273, 1.0319532515151915), (47216, 1.0259169811731135), (13536, 1.02362562099314), (4767, 1.004605000153647), (4920, 0.9981340367009719), (4673, 0.963037127232024), (4605, 0.9575944811806816), (9285, 0.9559731174214716), (19003, 0.9406509797430063), (48894, 0.9404105297368006), (5422, 0.9125179208689531), (34871, 0.9069184212346728), (32502, 0.9010291072499554), (12748, 0.8939054946836155), (36263, 0.8754931962726686), (20378, 0.8601312800763798), (43435, 0.8597958571751351), (37266, 0.8500794637174116), (29610, 0.84277686142895), (20171, 0.8287171012769942), (30287, 0.8258624680166416), (26882, 0.8217535868250876), (36086, 0.8052027152526833), (43986, 0.8016754942187467), (2271, 0.744476949873365), (45190, 0.7232407934649326), (20520, 0.7140632430163991), (215, 0.7051804587375754), (14280, 0.6920795262016541), (10524, 0.6873756312771702)]\n",
      "UserID=144266 --> [(29874, 2.1509981213828575), (43295, 2.115017098536771), (20876, 2.0166301728060994), (45767, 1.9035689675545266), (17988, 1.902299543951943), (43352, 1.8500531878844853), (34969, 1.8499924095944649), (18418, 1.8391881407238828), (29987, 1.8259469371135313), (21810, 1.8232319234227925), (14778, 1.8014687164366323), (27730, 1.7469533800049417), (459, 1.7444760667478703), (5646, 1.7397440736473428), (46202, 1.725688417489698), (14267, 1.674304493654616), (26369, 1.6521612661977387), (41220, 1.6365319718002915), (24852, 1.6356763403405272), (2295, 1.625180083113893), (913, 1.614882763154332), (5449, 1.5765849081407188), (18918, 1.5606559959719708), (31040, 1.5510254033495843), (432, 1.5339562661984345), (552, 1.501418925984231), (43122, 1.4857188427263233), (15572, 1.464972382731354), (6329, 1.4645359894159955), (32230, 1.4597520376184216), (49683, 1.4480709986479046), (45866, 1.4456298847731295), (7021, 1.4366317739351524), (39275, 1.4269077989910037), (5025, 1.3932098069301577), (23134, 1.384425671128635), (16797, 1.3768673852116469), (41588, 1.3765338833785898), (9076, 1.3701885386351271), (28985, 1.3699201620782095), (40604, 1.363746528052576), (41844, 1.3583288650211682), (46720, 1.3443867521165045), (46703, 1.3383773930606404), (35887, 1.306779369410343), (47209, 1.2960837422241414), (42265, 1.2954267404347684), (18963, 1.293005404564841), (2024, 1.2871303890200987), (2238, 1.2803690584478937), (13870, 1.2705091660047665), (45554, 1.2682336620570964), (37687, 1.2547536263597423), (44596, 1.2359941418666913), (40396, 1.2247072012156432), (44949, 1.2123163013121088), (41963, 1.185487628415357), (39374, 1.1794471784771206), (7156, 1.1706781101487804), (46692, 1.1703742896705118), (22234, 1.152004218779365), (5068, 1.1474346907131159), (25762, 1.1457216093703197), (44359, 1.1325170094459434), (16525, 1.1315646936537793), (4942, 1.1255649672608024), (20082, 1.125032343601513), (3599, 1.108809473877207), (31338, 1.107152980295006), (26083, 1.0991271625841934), (25659, 1.0988322237606263), (20114, 1.0986510304583994), (24561, 1.095643620629283), (6151, 1.0890589198689027), (7781, 1.0866315647110527), (13475, 1.0735407010832765), (33825, 1.0714230449180473), (13733, 1.0701410615524998), (47766, 1.068629026731415), (18618, 1.065475593349324), (19057, 1.0652364835689576), (31717, 1.060961188828907), (44661, 1.0532462696553107), (22457, 1.052739479539938), (35217, 1.0378902157095804), (18465, 1.0377807695212846), (24891, 1.0269796665071733), (30878, 1.0246677326608682), (25072, 1.0144555116750404), (1749, 1.0129703985808955), (10749, 1.0100796348608898), (12686, 1.0056370503805052), (8670, 1.0020248817762893), (4920, 0.9981340367009719), (26209, 0.9885627163651505), (35734, 0.9843966670090587), (25146, 0.9814629000561954), (47630, 0.9813466797057175), (31523, 0.9802454322906617), (35898, 0.9798680379607535), (38067, 0.9782136066668954), (45007, 0.9739191224127024), (7485, 0.9637997128929856), (22935, 0.962145584549539), (26751, 0.9579792292010471), (4605, 0.9575944811806816), (18740, 0.9536580010695682), (23541, 0.9426391430289394), (19068, 0.9347975286916657), (34214, 0.9235003341094465), (14867, 0.9221378688928933), (23192, 0.9220926607079285), (39737, 0.9113173397987839), (31766, 0.9104699216162656), (28204, 0.9083726192981775), (3469, 0.9083464663408876), (7863, 0.9071179487012024), (47144, 0.905395548878536), (17619, 0.8944188962825322), (18441, 0.8822731964001409), (42585, 0.8689616144888624), (46667, 0.8664788243191092), (1158, 0.8615259068122488), (34720, 0.8553018610394661), (21137, 0.8527181928474954), (1511, 0.8474046766239818), (18362, 0.8340857145212641), (31343, 0.8329501958294587), (32689, 0.8279621772626218), (9472, 0.8201978612693476), (46993, 0.8165440464240389), (34036, 0.8156336259320796), (21903, 0.8111788247303162), (47008, 0.8053923029922411), (30729, 0.8013424847378613), (28849, 0.7951881393503657), (44204, 0.7808501978094948), (7704, 0.7774742655329134), (21174, 0.7499001167199193), (12206, 0.743062686965261), (30456, 0.7423908530992303), (18200, 0.7421309253335062), (4799, 0.7377724148859023), (39732, 0.7358474816950104), (18656, 0.729593695136037), (37478, 0.7199044910258295), (20995, 0.7032168243143216)]\n",
      "UserID=126459 --> [(16645, 1.9194761857942466), (27104, 1.8321394774262896), (26604, 1.686363212911167), (24852, 1.6356763403405272), (28643, 1.5905772694298024), (33055, 1.468794338283101), (24107, 1.4635382417094245), (39275, 1.4269077989910037), (33000, 1.4246200080619391), (13623, 1.3468608859408706), (48364, 1.3436072248710094), (17872, 1.3020088259173472), (20734, 1.3004690293308887), (28798, 1.2458869961839352), (39794, 1.2422637739685691), (12089, 1.2106310892362897), (22825, 1.2046239954355125), (21092, 1.166050186612015), (44422, 1.1367051349640445), (28439, 1.1210352101081913), (10144, 1.1199546093628947), (25186, 1.112657766062082), (6336, 1.1081526637714056), (45543, 1.0998758091947043), (5652, 1.0755740086595047), (1787, 1.0734386887925862), (23905, 1.0686907832032926), (19057, 1.0652364835689576), (46969, 1.021860819173266), (32906, 1.0204425816262797), (23063, 0.9682675848393657), (13417, 0.9423904729744088), (24221, 0.937582105916772), (45883, 0.8978568050019182), (38970, 0.8788660276816662), (23580, 0.8684973180648714), (37646, 0.8575827366541168), (2078, 0.8573602244499267), (36534, 0.8567038630736938), (27177, 0.8540027297508133), (21137, 0.8527181928474954), (22849, 0.8507625422879445), (48291, 0.8308075216176379), (27978, 0.7936260150597303), (21709, 0.7878235787262459), (33198, 0.7822273636980088), (12206, 0.743062686965261), (41597, 0.6774875227732072)]\n",
      "UserID=123430 --> [(34368, 2.0455830192737086), (8859, 1.7294542190495585), (24852, 1.6356763403405272), (46489, 1.5413676579478461), (14414, 1.5411175730778064), (49346, 1.4733547551883261), (3260, 1.407643423325795), (41844, 1.3583288650211682), (36711, 1.3208484259770854), (13755, 1.2296540376332534), (31981, 1.202754807588647), (38318, 1.1873626766647973), (4210, 1.1862441460392381), (6187, 1.1709866626489425), (9387, 1.012492514978569), (2977, 0.9791258235576894), (588, 0.9537083550128049), (13194, 0.9524907836942251), (48812, 0.9252566165890873), (18359, 0.914012056930945), (31394, 0.8896890404571898), (44189, 0.6402267485116682)]\n",
      "UserID=205671 --> [(46676, 2.0381375421860204), (2057, 1.967357255641412), (49610, 1.8591105657373612), (30252, 1.8438431436389324), (27104, 1.8321394774262896), (24179, 1.8232277644630919), (12853, 1.77349753132334), (44706, 1.7681804820640439), (5646, 1.7397440736473428), (8859, 1.7294542190495585), (16918, 1.7292064142985935), (4966, 1.7015986979820943), (20842, 1.7010536045753388), (9852, 1.6994489774813282), (13749, 1.6945053075464471), (21010, 1.6860379657649025), (43768, 1.6640695510005497), (22367, 1.66063169207582), (46244, 1.600864827121857), (40354, 1.597287132047093), (19156, 1.5964722586416893), (7762, 1.5942037636443773), (28693, 1.5767306665179663), (40706, 1.575844042733769), (33129, 1.5708089414148378), (7018, 1.5675730773346008), (24881, 1.5605536647639116), (24830, 1.5391992763167077), (29138, 1.5145529132091022), (35287, 1.504649632267439), (6631, 1.4976174208522377), (45664, 1.4810012844810674), (27925, 1.479627551294284), (18272, 1.4786523894908348), (42450, 1.4752745410883306), (32650, 1.4728614746354383), (30391, 1.4709651184105308), (5547, 1.468889526066973), (1090, 1.4561806682110043), (47168, 1.4504086608157123), (22307, 1.4347685247587139), (890, 1.4332977294232698), (12919, 1.4275286953464117), (30756, 1.4271822959395533), (39275, 1.4269077989910037), (27156, 1.4132379818705625), (34144, 1.402163319996168), (13351, 1.395280037885863), (43955, 1.390839200007605), (36316, 1.382892088226867), (48634, 1.3788452094463237), (30016, 1.378177264389814), (39475, 1.3685643164693868), (22442, 1.34983907652848), (37004, 1.3480845475113512), (13176, 1.3455798383011592), (18926, 1.3444181111317144), (1822, 1.336222455751456), (14994, 1.3254973129283159), (39699, 1.322143826648781), (47759, 1.3162924660686686), (30620, 1.3124213195509749), (44234, 1.3030641225267625), (20191, 1.2928063807657764), (36695, 1.2912424216482385), (31654, 1.2790333060934738), (40174, 1.2727409615199146), (46361, 1.2679922000563126), (23400, 1.2674358252116207), (24177, 1.266148017566337), (36772, 1.2569841235143135), (48742, 1.2566825562262531), (11182, 1.244250006488016), (5636, 1.244166144328647), (38890, 1.2435970818133522), (32190, 1.2426388632453678), (28199, 1.2416783079546483), (45478, 1.24110479093057), (38273, 1.240872072877218), (7275, 1.2386172354698564), (29224, 1.2364679533372338), (4006, 1.2345660713255382), (15200, 1.2341880731052566), (22206, 1.2325150502679134), (8073, 1.231737692781683), (5876, 1.2308900422958662), (36729, 1.2300167802496158), (16744, 1.2205619418002078), (12962, 1.220318855739222), (28906, 1.220009047325692), (15097, 1.208547356686883), (18048, 1.2078768964774356), (21938, 1.2072317772018877), (43961, 1.2053637750399988), (21506, 1.205093958849988), (22825, 1.2046239954355125), (9594, 1.204258601073892), (41540, 1.200713431498812), (12585, 1.1942197663725742), (43480, 1.1941173375657574), (38199, 1.1876752431350364), (47977, 1.1860703622836206), (7088, 1.1721136328967892), (22385, 1.1661457456429545), (21278, 1.164751458281931), (27370, 1.1598229758432863), (14048, 1.15803634862836), (20082, 1.125032343601513), (30057, 1.124841557973278), (47229, 1.1150610091322588), (22312, 1.1030267602573427), (43100, 1.0979034228284927), (31506, 1.0977289253666367), (26510, 1.0968402387723084), (28028, 1.0954185564990042), (40345, 1.0930855298320512), (40063, 1.090358429706899), (18811, 1.0891649790798787), (7781, 1.0866315647110527), (47601, 1.0808550141661644), (14124, 1.0792703590760102), (12324, 1.076931128448769), (26184, 1.074199354967735), (45200, 1.0646529556191449), (21511, 1.0624249878784846), (31717, 1.060961188828907), (27435, 1.0607588547281461), (34931, 1.0477475494343702), (9837, 1.0407847338242244), (48746, 1.0372715546745992), (4137, 1.0347746799520168), (2852, 1.0339308154630968), (33666, 1.0332670287610364), (6341, 1.0308522277681733), (1160, 1.0306887030873364), (31683, 1.027115030326248), (46132, 1.0166440398714225), (20168, 1.0160513269045097), (16766, 1.0134674600852493), (30638, 1.0112613394181325), (41414, 1.0105396192764604), (13629, 1.0016337781572093), (27551, 0.997098586635879), (23252, 0.9959380059398526), (31066, 0.9938316525803998), (33651, 0.9935944641644106), (39168, 0.9930129954866096), (47547, 0.9896752664314259), (49387, 0.9835934352086741), (22474, 0.9829880299282234), (27413, 0.9791761106335455), (47532, 0.9756698727036988), (35259, 0.9746517866747786), (45007, 0.9739191224127024), (34320, 0.9704826382524725), (15872, 0.9699924205151567), (49140, 0.9696540672122118), (42557, 0.9694923215339462), (35275, 0.9660243654773782), (1181, 0.9634306278809613), (16349, 0.9596551513076393), (31869, 0.9593328631427476), (36591, 0.9555385926589792), (15336, 0.9527644107950592), (30021, 0.9488100834954345), (1458, 0.9339236326647549), (24527, 0.9316320562594964), (30073, 0.9223182674936613), (1467, 0.9204644734253576), (37460, 0.9182493206069573), (23416, 0.9140297679819244), (28571, 0.9076141459160707), (44487, 0.9068405709687462), (4656, 0.9061294547726121), (11075, 0.9056369868273331), (40199, 0.9043554193730619), (675, 0.9017683126392515), (47966, 0.8861189020490923), (19333, 0.8843047784043852), (44924, 0.8826537841481058), (14705, 0.8775416040500593), (29599, 0.8768120379030934), (12784, 0.869463770856947), (9643, 0.8649816655155472), (45063, 0.8646892767530693), (44278, 0.8641367577873357), (18596, 0.8576580316199804), (11136, 0.8438031138063651), (48165, 0.838864513040749), (31343, 0.8329501958294587), (35136, 0.8177400430165183), (21903, 0.8111788247303162), (42110, 0.8097079435350156), (13780, 0.7903764524593776), (6000, 0.7889147796834766), (2240, 0.7867244919655626), (48423, 0.7831581870830421), (25919, 0.7825034602967367), (33198, 0.7822273636980088), (14897, 0.7721288100794378), (4600, 0.7711238299242031), (18200, 0.7421309253335062), (47087, 0.7378155276252691)]\n",
      "UserID=163044 --> [(24852, 1.6356763403405272), (9362, 1.421868492490215), (48823, 1.3776488050423312), (28985, 1.3699201620782095), (30483, 1.3654828551420735), (43978, 1.3537033217125027), (8920, 1.3206575650421328), (24832, 1.266716512335216), (47141, 1.250626124968449), (49079, 1.196601128713273), (21067, 1.1905528092217008), (9411, 1.126255385858153), (35342, 1.1208593517757608), (33791, 1.1081645426300044), (30668, 1.0465605138487752), (717, 1.0109816283298623), (4920, 0.9981340367009719), (11233, 0.9941257646916883), (22108, 0.9870925913319937), (31573, 0.966775685130002), (14820, 0.9298196675625233), (1379, 0.8731259224916523), (37646, 0.8575827366541168), (21137, 0.8527181928474954), (3820, 0.8481972210777726), (12206, 0.743062686965261)]\n",
      "UserID=164415 --> [(35546, 2.0287226350355243), (44075, 1.9983451606201963), (49543, 1.8998301351804847), (46673, 1.7708451188706573), (41601, 1.7162815378819283), (44085, 1.6676252927616073), (12204, 1.5868245971966326), (48936, 1.584328463067806), (22520, 1.4915292997983496), (43530, 1.4878872112427681), (32650, 1.4728614746354383), (34027, 1.377521123218314), (39046, 1.3761533985624392), (40587, 1.3339947969259671), (25544, 1.3133485257302642), (44234, 1.3030641225267625), (20590, 1.2718211948541325), (46341, 1.2581209525567247), (8590, 1.248133990089215), (17600, 1.244350772876285), (16570, 1.199832857316768), (29628, 1.1971534765920435), (10333, 1.1845718800683827), (25837, 1.1623262164813588), (27229, 1.133950279009956), (46992, 1.1150246974679199), (26184, 1.074199354967735), (21511, 1.0624249878784846), (2512, 1.0448878306665792), (23637, 1.0186427990615283), (41858, 1.0075803838435538), (6974, 1.0064205001727708), (40516, 0.9849324284870135), (41397, 0.9604037557307603), (16349, 0.9596551513076393), (20894, 0.9438794453842191), (49113, 0.9433900439416314), (31499, 0.9301085959396663), (3808, 0.9214358992236199), (48000, 0.9090375810602417), (28204, 0.9083726192981775), (31231, 0.9016885137051841), (35042, 0.8919642742987054), (32864, 0.8221478744156171), (38803, 0.8057159606195148)]\n",
      "UserID=40363 --> [(5646, 2.0377726880409273), (48801, 1.7277709972969586), (13176, 1.4673400807539874), (47209, 1.4056102422954246), (35, 1.3717127176332011), (28836, 1.3196758053796676), (5479, 1.3015271505975803), (11058, 1.2823918620871981), (19348, 1.2092564446489547), (38290, 1.188386527892803), (651, 1.1445946231703255), (26047, 1.0932219052407337), (21903, 0.8294732072459042), (15649, 0.8133831373298679), (45946, 0.7959345427100456), (5450, 0.7025848028382939), (14233, 0.6659553027943298), (27966, 0.584439600667744)]\n",
      "UserID=13326 --> [(24810, 1.9352460214557528), (481, 1.826899424347145), (39121, 1.4395776125133362), (43352, 1.3080958641684841), (38456, 0.9699792513104614), (42736, 0.9674777761967064), (39409, 0.9222821236174107), (6549, 0.9219498333250066), (17601, 0.9108049162716629), (41220, 0.8610418834165813), (17149, 0.8112739858581584), (33000, 0.8095337968017319), (9390, 0.7986075093273388), (7021, 0.7942951885865122), (2651, 0.7941471583387254), (24852, 0.7832578431310013), (5886, 0.774082303822047), (28934, 0.7722679871203287), (16789, 0.7641164022341579), (15285, 0.7509098087740637), (42697, 0.7456904709973678), (32387, 0.701657949982823), (10644, 0.7010129037217876), (36961, 0.6962247213816373), (36913, 0.6841907672935006), (44882, 0.6665624412103515), (47492, 0.6412956795106581), (47668, 0.639320905421175), (44628, 0.610934862754073), (21295, 0.6108951600299308), (21938, 0.5940838426611824), (45535, 0.5928345574622758), (43262, 0.5902921201355025), (19049, 0.5855586447310529), (13733, 0.5785100028883436), (5450, 0.5775021417985875), (16965, 0.5743653873461066), (2480, 0.5637392602185567), (49330, 0.5587799813441082), (2966, 0.5540729329678028), (30918, 0.5497959761393387), (7076, 0.5376930980790245), (45664, 0.5349670187135342), (40229, 0.5231573381120876), (35217, 0.5230955806709553), (24184, 0.5210403105028942), (24830, 0.5203352012550829), (45066, 0.5104323445456435), (16616, 0.5036467730811176), (8667, 0.49605778708231896), (14462, 0.4952026888752027), (9339, 0.4908881094871978), (5479, 0.4876743409322024), (436, 0.4870801356484876), (12341, 0.4752649979300679), (14021, 0.47504143796710535), (29487, 0.4619236421794587), (46346, 0.4608928255239465), (39475, 0.4607847545620536), (16349, 0.4598074724919031), (18304, 0.4391606587822507), (7877, 0.43240921266963595), (8854, 0.4319197701226855), (17177, 0.4216675257154947), (17872, 0.41957743257805635), (23032, 0.4155769694676599), (9020, 0.41383858874310536), (8021, 0.410324458618714), (31562, 0.3969419517512738), (11046, 0.389400068047063), (40545, 0.38840942427966946), (48810, 0.3819060869860356), (46900, 0.3778302020151877), (16029, 0.3694577956723655), (6975, 0.3678888411984321), (5605, 0.3677169751322351), (2269, 0.3613795559522274), (21791, 0.3566320444910721), (47672, 0.3562393159914451), (4983, 0.34586558409074514), (28601, 0.3448621659195166), (4210, 0.33557470086858987), (45604, 0.3266693534592075), (30839, 0.31550886655110955), (26499, 0.28378159445630985), (26856, 0.28234217665534744), (19895, 0.2523795528361741), (23338, 0.249960725371082), (27966, 0.24488966662333964), (10129, 0.2432617070280082), (30450, 0.23883419731262845), (35688, 0.23410556175347946), (28353, 0.23037800046772827), (7485, 0.21915735522980984), (31066, 0.21632230118019943), (17902, 0.2157390740725326), (9327, 0.21145344821957265), (22935, 0.20925420380939497), (16521, 0.20724247565957615), (44144, 0.19227445858708075), (17980, 0.18251185053714258), (40604, 0.18206931109639024), (40742, 0.17273699163360987), (28553, 0.1680404098930033), (17284, 0.1651924783928626), (22620, 0.16401970767593588), (20995, 0.16352611701126557), (13535, 0.14546112582541237), (35973, 0.13669847790053943), (7387, 0.13586677295654262), (10863, 0.10845772642621641), (47893, 0.0985197100130017), (30489, 0.08034338620245687), (45346, 0.07729637745264983), (2167, 0.077034255437289), (18564, 0.07090700122095744), (10387, 0.05348584077304688), (28156, 0.0), (42347, 0.0), (37876, 0.0)]\n",
      "UserID=165928 --> [(22362, 1.7500833117797452), (30591, 1.6809700729954744), (39581, 1.6621666805100195), (14414, 1.5411175730778064), (21573, 1.4721779076498063), (26348, 1.3716069934755253), (13176, 1.3455798383011592), (32303, 1.3249908672307371), (49235, 1.3196464103569323), (20641, 1.305259824459759), (196, 1.3037241362146992), (42265, 1.2954267404347684), (8571, 1.2392058465790554), (46562, 1.2358299925256953), (32455, 1.2195635431061744), (31846, 1.1928671228993812), (20448, 1.1827098743944031), (46061, 1.1525052743898299), (44172, 1.1324266933003133), (46149, 1.1146828173679204), (34005, 1.113612510418522), (3399, 1.0523196757252598), (25133, 1.0484330647533058), (10258, 1.0193099830661951), (42500, 1.0072809922537975), (25286, 1.0065994799379197), (36472, 0.9948342082761839), (23194, 0.9612180814690353), (46521, 0.956951583232836), (16393, 0.9522735625024357), (48812, 0.9252566165890873), (13424, 0.9182036963270723), (37710, 0.9102390191218375), (39408, 0.8509409925598975), (13914, 0.8406383161950083), (8071, 0.8242838866798429), (10473, 0.806671027574958), (10509, 0.7624024634979121), (8617, 0.743353309437493), (33783, 0.7425292659726659)]\n",
      "UserID=176461 --> [(8518, 2.007740115584185), (20842, 1.7010536045753388), (24852, 1.6356763403405272), (27336, 1.340016121911192), (11712, 1.3001953994193522), (45066, 1.15172183289043), (44359, 1.1325170094459434), (4920, 0.9981340367009719), (45007, 0.9739191224127024), (18362, 0.8340857145212641), (581, 0.828714600928067)]\n",
      "UserID=199627 --> [(3880, 2.360748424846793), (44560, 1.934853785160435), (26604, 1.686363212911167), (14927, 1.6472022337301917), (11529, 1.6336281748244994), (12564, 1.6253711769608443), (35752, 1.5948055520137059), (14576, 1.5888674836708432), (27903, 1.58683431330139), (40706, 1.575844042733769), (5077, 1.5526911920489743), (26620, 1.5421805237266908), (13263, 1.5387036810213006), (39275, 1.4269077989910037), (42016, 1.4155817464569944), (15664, 1.4108939895809494), (39046, 1.3761533985624392), (5744, 1.3735107096745753), (3631, 1.341321525042849), (3990, 1.335619901839228), (10032, 1.3213603164772247), (20191, 1.2928063807657764), (27796, 1.2760755570282467), (39527, 1.268555692567851), (7881, 1.2316293315746623), (9741, 1.221756461238618), (22825, 1.2046239954355125), (5818, 1.1824608162461097), (21333, 1.180901018394393), (47626, 1.0996570233286396), (31395, 1.0864244850999647), (19348, 1.0666063620527693), (34050, 1.0433888834424838), (9387, 1.012492514978569), (13077, 1.0113413475828557), (10749, 1.0100796348608898), (22598, 0.9932072374317977), (22952, 0.9669481552069101), (4605, 0.9575944811806816), (1689, 0.9399259620658584), (13853, 0.9016150558339633), (35042, 0.8919642742987054), (930, 0.8775888425692856), (40338, 0.8767637243375764), (12817, 0.8715786135689171), (37229, 0.8689331096340135), (20378, 0.8601312800763798), (37646, 0.8575827366541168), (15902, 0.8512863566279834), (5322, 0.8209486092574895), (49520, 0.8182030668433755), (34862, 0.775925668634043), (35782, 0.7667795845856779), (29252, 0.7573552958612505), (7126, 0.7339832173613525), (35721, 0.7180194845893159), (23102, 0.7010818453404143)]\n",
      "UserID=34944 --> [(18471, 2.0942234157754926), (48559, 2.0761075087421514), (43295, 1.7604082276405502), (38985, 1.7347964153353366), (2295, 1.6436375613815708), (13176, 1.6286549474096028), (48287, 1.6147247055259233), (24768, 1.6121616598568047), (311, 1.55673884213225), (49201, 1.4483640425955744), (16398, 1.445352945428339), (31717, 1.4329791641667682), (5258, 1.4139603235436853), (17948, 1.4038135741054645), (46802, 1.4013618075124015), (12955, 1.3621574399492824), (48095, 1.3530469945626844), (10246, 1.3319875373715537), (33674, 1.3276378468373176), (23060, 1.316380720392993), (29506, 1.257423367342774), (31338, 1.2327745347402215), (23765, 1.2272579945768238), (22963, 1.2122463204167462), (34824, 1.207623984386239), (19660, 1.1988238022138502), (13128, 1.168110104042418), (33748, 1.1565255266012782), (6182, 1.1358498965267942), (12343, 1.1278745915433526), (48745, 1.1275415911990954), (24610, 1.1272105674119213), (42562, 1.1117484465743734), (37774, 1.100750282051252), (35221, 1.08683757136855), (46321, 1.085771112155644), (38777, 1.0684441464474808), (47231, 1.0326490927922365), (45965, 1.0207398276401005), (24838, 1.0000713354557516), (20947, 0.9615059378775312), (27966, 0.941433146122041), (17902, 0.935969830323466), (48105, 0.9183257134926103), (34126, 0.9140558915076806), (39928, 0.8954351867213337), (13984, 0.8820539910684985), (1907, 0.8424213042155826), (5922, 0.797074700811107), (24964, 0.7843966663170512), (2275, 0.7510481001365421), (4793, 0.7032833194834489), (14233, 0.6884965854775604), (34243, 0.6814882868872723), (21903, 0.6279872576254715)]\n",
      "UserID=138571 --> [(8518, 2.007740115584185), (27104, 1.8321394774262896), (44142, 1.72528723148093), (19625, 1.68020909232244), (24799, 1.671212086801056), (2295, 1.625180083113893), (35176, 1.6173394949922335), (28934, 1.5798370328868148), (40706, 1.575844042733769), (2315, 1.5680801519870693), (38456, 1.5516833796073464), (31040, 1.5510254033495843), (16387, 1.4467272707724361), (46175, 1.4270935380066916), (10644, 1.4082197062080002), (27355, 1.4050046083637346), (16797, 1.3768673852116469), (40604, 1.363746528052576), (36865, 1.3501714155290543), (13176, 1.3455798383011592), (18020, 1.3443671002366115), (27336, 1.340016121911192), (47900, 1.3045361104351025), (7806, 1.3019416647190825), (2024, 1.2871303890200987), (4562, 1.275691238100035), (43442, 1.2681333544055289), (25340, 1.2476531339380237), (42205, 1.2213767313803898), (48230, 1.210539298210132), (16570, 1.199832857316768), (38293, 1.189528806244875), (28465, 1.184228728389095), (32486, 1.176118739043818), (28842, 1.1723676484332775), (44910, 1.1703876918633984), (5735, 1.1640954911524135), (47626, 1.0996570233286396), (20114, 1.0986510304583994), (27509, 1.0929042202998724), (28918, 1.0783348004896132), (23236, 1.0726865725056458), (47766, 1.068629026731415), (21267, 1.0609986834176075), (41920, 1.0388702001018382), (21405, 1.0371567895096274), (14881, 1.024183174356583), (18594, 1.0203296017360652), (24009, 1.0189855465322881), (11140, 1.017847075430947), (28521, 1.0080641448092726), (28373, 1.0001486463107283), (13431, 0.9994800042093956), (26209, 0.9885627163651505), (41610, 0.9616056032369982), (45774, 0.9594739587168188), (32177, 0.9532475036171818), (17008, 0.909597486798836), (38777, 0.8981569804139852), (33754, 0.8761245810340766), (24964, 0.8501204903534465), (20574, 0.8483933556433247), (36406, 0.8429889012908915), (16462, 0.818055008189639), (21903, 0.8111788247303162), (1999, 0.8015316614556753), (33198, 0.7822273636980088), (17206, 0.7718573138315166), (4957, 0.7656127265257965), (38563, 0.7566297603751757), (35921, 0.7543268935106041), (28004, 0.745803696267069), (37029, 0.744706741729704), (42625, 0.7446720810296904), (48775, 0.6964188694608991)]\n",
      "UserID=121277 --> [(39619, 2.2794348597091627), (33303, 2.0949586765691564), (46676, 2.0381375421860204), (8518, 2.007740115584185), (49610, 1.8591105657373612), (34969, 1.8499924095944649), (18090, 1.7947849740624267), (23405, 1.7883965835326974), (44142, 1.72528723148093), (14678, 1.7223393255773056), (27695, 1.7054982806657073), (24852, 1.6356763403405272), (44987, 1.635502358580203), (19678, 1.6311656569898627), (26165, 1.6234522448576518), (8022, 1.5969719652330885), (19156, 1.5964722586416893), (33731, 1.594524353645313), (17224, 1.5838973724310481), (23537, 1.565083517960797), (49174, 1.5349602105613227), (46516, 1.5327693932654447), (48679, 1.5058167614620008), (20119, 1.4995941283353489), (32857, 1.4699597684677603), (10644, 1.4082197062080002), (22504, 1.4055477495011655), (28985, 1.3699201620782095), (44292, 1.3666087879131996), (42938, 1.360583258827045), (33037, 1.3470552649949719), (26242, 1.3355051316447435), (45747, 1.3180391339857827), (4138, 1.3166420082824755), (33316, 1.3151107048683761), (46194, 1.3069096455458515), (47209, 1.2960837422241414), (42265, 1.2954267404347684), (13870, 1.2705091660047665), (9339, 1.2639011475374002), (49191, 1.2539241671564565), (38273, 1.240872072877218), (42342, 1.2171942356831926), (45535, 1.204904494320366), (39984, 1.181457350449188), (28842, 1.1723676484332775), (21646, 1.1704955452713157), (41135, 1.1518013144376495), (45066, 1.15172183289043), (42828, 1.1341748286561675), (4428, 1.1310852329072874), (21403, 1.1227997289689666), (43920, 1.1200128483397864), (47626, 1.0996570233286396), (25659, 1.0988322237606263), (20114, 1.0986510304583994), (2275, 1.090583795355101), (7734, 1.0806652972872168), (44375, 1.0760628936251626), (45364, 1.0691854305267718), (33764, 1.0682139454810775), (18465, 1.0377807695212846), (43789, 1.0220414958983737), (28521, 1.0080641448092726), (3988, 0.9999947799733203), (26209, 0.9885627163651505), (18288, 0.9774853151977483), (45007, 0.9739191224127024), (24954, 0.9649122948823581), (21459, 0.9610091996330298), (5621, 0.9606122476813748), (46427, 0.9321345358827333), (6377, 0.9304342154881929), (23265, 0.9252265745667622), (28785, 0.9234665681038782), (5524, 0.921521911634837), (29658, 0.9192727248144845), (35108, 0.9126740913111031), (42768, 0.9114473457262806), (46505, 0.9019069039539713), (38650, 0.8975883896339717), (17619, 0.8944188962825322), (34448, 0.8878385389185637), (20536, 0.883019945600783), (44683, 0.8802899433840364), (28156, 0.8772508843292196), (27451, 0.875715035845799), (46667, 0.8664788243191092), (1752, 0.8549214200821342), (24964, 0.8501204903534465), (21903, 0.8111788247303162), (35749, 0.8072567815958759), (34243, 0.8069553693340497), (49023, 0.8054229694337827), (34126, 0.7991937709482806), (27663, 0.7978156384677759), (33198, 0.7822273636980088), (17794, 0.7606911852783562), (17193, 0.7421153386823663), (5552, 0.7178981199007746), (2996, 0.7101170437192922), (28769, 0.6992425946882022)]\n",
      "UserID=141252 --> [(3787, 1.8321267339924001), (38982, 1.8290898031333858), (44142, 1.72528723148093), (41273, 1.2181393554175513), (39485, 1.1935553945084862), (35535, 1.1875381247529373), (32710, 1.175025768533017), (43644, 1.1503268695546567), (469, 1.0828956840415391), (38234, 1.0742057482378649), (36635, 1.0637169388559733), (31717, 1.060961188828907), (45965, 1.0364709441092184), (34358, 1.0127515326320629), (1979, 1.0079257933796582), (8670, 1.0020248817762893), (26209, 0.9885627163651505), (45007, 0.9739191224127024), (40228, 0.9619315644282376), (4605, 0.9575944811806816), (23646, 0.9355647582428483), (30480, 0.9355124246695407), (35939, 0.9005916178250408), (4853, 0.8973224259537022), (44570, 0.8444508307190742), (24120, 0.8363396594075699), (46979, 0.8237234839525921), (41259, 0.7991552524185321), (32465, 0.7832361870767242), (17794, 0.7606911852783562)]\n",
      "UserID=203510 --> [(15592, 1.974107571270396), (11068, 1.6650979923566944), (28934, 1.5798370328868148), (18918, 1.5606559959719708), (432, 1.5339562661984345), (40124, 1.432572738259091), (10644, 1.4082197062080002), (24943, 1.4017152646501831), (16797, 1.3768673852116469), (13176, 1.3455798383011592), (4421, 1.3137234923399017), (17427, 1.2772009942049167), (9154, 1.1978962400723054), (11109, 1.1571357472493484), (45066, 1.15172183289043), (33401, 1.1221301330690325), (23236, 1.0726865725056458), (9092, 1.0521039815718005), (1084, 0.9403097009054284), (4461, 0.8809290749446567), (46979, 0.8237234839525921), (1192, 0.8015520072511966), (26292, 0.7648782425999864), (14182, 0.7211306162830229)]\n",
      "UserID=2536 --> [(6962, 1.3373813628853184), (40723, 1.3052172403902484), (17579, 1.129464449945901), (30391, 1.1177532167224913), (38656, 1.06039667777693), (4464, 1.057876934347131), (18281, 1.034166760703246), (10385, 1.0182058055228225), (15290, 1.0097117381813197), (19057, 0.9017112581792617), (49247, 0.9009625471474385), (31528, 0.8663964634876008), (18389, 0.8542138041666509), (25949, 0.7847417819153273), (20382, 0.7262980060836283), (16616, 0.7115145593687923), (47209, 0.7005831441721022), (13176, 0.6899338530170717), (40571, 0.6659047233074733), (42686, 0.6143793871025496), (9092, 0.607784781239212), (18465, 0.6021387981587522), (27845, 0.5990496420121293), (1234, 0.5895210137314839), (46886, 0.5865056722047103), (42356, 0.581667110747048), (44359, 0.5141714225249393), (47672, 0.5133387409284045), (15992, 0.5111491879469178), (31066, 0.5018094487335913), (27966, 0.49244705949895234), (32831, 0.48036599405277985), (996, 0.4188973541465154), (16759, 0.4170512184239342), (17183, 0.3620960710443252), (17730, 0.34827877828896114), (34993, 0.34001232684138477), (48577, 0.2715534554806967), (33754, 0.2693226525314618), (39475, 0.2320737576721701), (47990, 0.20223607959140322), (26209, 0.14842061591371947), (47626, 0.12204655629750238), (33787, 0.040969525524653216), (11512, 0.040022063607801306), (9736, 0.0)]\n",
      "UserID=6034 --> [(31388, 1.2506064456245054), (8277, 1.1235198769100438), (21543, 1.0903901755223584), (17553, 1.0583278694551552), (34584, 1.00422446218887), (33957, 1.0012777223738034), (27344, 0.9594039871530766), (1215, 0.8687185445550383), (18090, 0.8613801017033924), (12962, 0.8386904860605428), (26576, 0.8384754681095489), (31927, 0.8005031356631138), (12381, 0.7928023459434329), (2228, 0.7882710406671523), (3717, 0.753110687567828), (25890, 0.7396193047194108), (31040, 0.7191650690226659), (10768, 0.7062606008232813), (42828, 0.7040439882826814), (39623, 0.6957958883467066), (44910, 0.677064796945505), (33468, 0.6749814023230183), (38383, 0.6700380128974428), (3682, 0.6237653307663737), (19508, 0.6237361486900254), (45066, 0.6149434639515542), (6187, 0.6098126056561958), (33731, 0.5730018985132884), (35986, 0.5442958012097326), (21497, 0.5061517465629607), (37947, 0.5026060477660219), (23094, 0.4641274108796337), (12276, 0.46293193436422636), (13646, 0.4421306460211156), (1158, 0.3571122918475015), (21267, 0.3173091111602382), (12745, 0.26935667717451794), (49667, 0.21656147772349604), (32747, 0.11534113341915561), (36522, 0.0)]\n",
      "UserID=193267 --> [(34565, 1.9401279294160296), (9006, 1.4592311864572942), (22504, 1.4055477495011655), (45504, 1.4014083977658325), (12392, 1.2928733704826905), (37047, 1.259224093615423), (25069, 1.235755929599874), (45066, 1.15172183289043), (42221, 1.1349868121431115), (21626, 1.1183094510080698), (41621, 1.0710891255350772), (35221, 1.0589405377150547), (11421, 1.046322560106499), (6740, 1.0404738498675106), (17874, 1.0327558265115107), (3274, 0.9561413965861332), (14809, 0.9497039635177849), (7984, 0.9439747305625771), (42105, 0.8906184233783302), (43005, 0.8439150756168599), (27772, 0.8351255426798518), (13249, 0.8336599810942125), (27845, 0.8239226847223414), (30727, 0.8135282749548802), (43338, 0.8101198322194363), (21709, 0.7878235787262459), (49157, 0.7680423894091096)]\n",
      "UserID=58566 --> [(19538, 2.099139578430589), (47941, 1.9832917346686068), (24852, 1.6356763403405272), (23789, 1.5449210434665106), (26620, 1.5421805237266908), (16671, 1.5383825244981075), (20119, 1.4995941283353489), (23319, 1.4916590526008766), (6184, 1.4879208593676811), (30183, 1.411583003588562), (34956, 1.3786279018474799), (22017, 1.366098189758962), (5105, 1.3430306483705197), (8442, 1.3094596879568616), (29312, 1.2573011977940551), (6187, 1.1709866626489425), (3976, 1.1633791010693177), (47626, 1.0996570233286396), (31506, 1.0977289253666367), (43409, 1.0649706612866618), (2717, 1.0534705068082995), (27761, 1.0434635201641602), (26223, 1.0201271704360726), (44632, 0.9965859322606632), (49326, 0.8877502548222752), (31848, 0.8547869137310744), (49520, 0.8182030668433755), (21709, 0.7878235787262459), (47504, 0.7485840176680572)]\n",
      "UserID=10740 --> [(21873, 1.162194382163584), (24968, 1.0901091767365436), (6184, 0.947520070936784), (35269, 0.873201310320231), (12341, 0.8359717236640981), (13176, 0.6621861948646699), (35652, 0.5795085363866233), (116, 0.34912662567579805)]\n",
      "UserID=183807 --> [(44142, 1.72528723148093), (14788, 1.5400543470464114), (41178, 1.5333984104002816), (17615, 1.5117757252085258), (12771, 1.4528332544127511), (33000, 1.4246200080619391), (23734, 1.3981700996779576), (5025, 1.3932098069301577), (34027, 1.377521123218314), (3285, 1.3407824427818065), (1391, 1.2303704168700005), (22890, 1.1911364095418087), (5818, 1.1824608162461097), (28842, 1.1723676484332775), (34222, 1.1634189398316463), (16953, 1.125918478507744), (20114, 1.0986510304583994), (37637, 1.0779138388752143), (1560, 1.0704480383809127), (47766, 1.068629026731415), (46056, 1.0381751009433782), (26209, 0.9885627163651505), (7070, 0.8194600416866566), (41950, 0.8185200515658866), (12914, 0.7203746043932253)]\n",
      "UserID=17091 --> [(28985, 0.41524973703061696), (24184, 0.3349908469237175), (45104, 0.32217972163056907), (7021, 0.25468402881972313), (31040, 0.2527149584298606), (39094, 0.24265570198626724), (26384, 0.2241771976801092), (4920, 0.1974935473071534), (35951, 0.15636568824396693), (38383, 0.11886596992055629), (27509, 0.04438202087164425), (28842, 0.043378912404425665), (9171, 0.029977030473473), (47672, 0.029218153745206116), (47626, 0.0064736299291410365), (4605, 0.0), (7461, 0.0), (44632, 0.0), (26283, 0.0), (21938, 0.0), (28849, 0.0), (28204, 0.0), (36929, 0.0), (4799, 0.0), (24964, 0.0), (20114, 0.0), (44359, 0.0), (45007, 0.0), (42768, 0.0), (10749, 0.0), (5785, 0.0), (26800, 0.0), (35939, 0.0), (14399, 0.0), (8670, 0.0), (24221, 0.0), (13304, 0.0), (8567, 0.0), (11097, 0.0), (16840, 0.0), (21198, 0.0), (13668, 0.0), (21846, 0.0), (49395, 0.0)]\n",
      "UserID=158631 --> [(43252, 1.9592658457568013), (29615, 1.9165540995901176), (47877, 1.6745502987945615), (24852, 1.6356763403405272), (20126, 1.5119060976067313), (13643, 1.5084907688695017), (5460, 1.4934430973560304), (18744, 1.4511432534507975), (49683, 1.4480709986479046), (27360, 1.3944492103962665), (39046, 1.3761533985624392), (38817, 1.3184723997284413), (44234, 1.3030641225267625), (1346, 1.2883668461435398), (36443, 1.262432224498575), (22788, 1.2188466688047146), (44925, 1.2150219527325112), (49079, 1.196601128713273), (21333, 1.180901018394393), (36058, 1.1530261251180305), (31808, 1.1522156252058888), (31506, 1.0977289253666367), (7992, 1.0297103089543918), (38050, 1.0180252770369258), (34358, 1.0127515326320629), (34915, 0.9639428172335653), (35943, 0.9536752759200845), (26373, 0.8903248254547281), (9510, 0.8692648760758658), (18119, 0.8592456720844878), (22849, 0.8507625422879445), (31102, 0.8276922162340817), (41950, 0.8185200515658866), (30727, 0.8135282749548802), (36086, 0.8052027152526833), (21115, 0.6002266908793134)]\n",
      "UserID=171300 --> [(3880, 2.360748424846793), (31789, 1.9838446373547716), (40332, 1.8095164436163296), (5725, 1.7339938730757483), (26172, 1.7156889547267167), (4833, 1.7038647776811868), (1142, 1.701691144863351), (18681, 1.576108145120411), (23537, 1.565083517960797), (3512, 1.4361858782365564), (1408, 1.3986431407300337), (11894, 1.3883116425121576), (4778, 1.3782864419301526), (39604, 1.3680891195146456), (3544, 1.3606110885957998), (5047, 1.2759300240542122), (34268, 1.2589124221488346), (27066, 1.2347808551991708), (1582, 1.2078512686158092), (28836, 1.2071776892548793), (10895, 1.1992999584369892), (29078, 1.1839270801521735), (38260, 1.1600260746942312), (15386, 1.1450018503150614), (16953, 1.125918478507744), (41915, 1.1111076675729012), (20114, 1.0986510304583994), (17341, 1.095856895649323), (36070, 1.0933528565485118), (38200, 1.062296643272929), (359, 1.045984540340317), (34050, 1.0433888834424838), (7969, 1.0389203551156005), (35440, 1.0221686632541047), (24707, 1.0117072550932522), (46914, 0.9974924852970961), (45007, 0.9739191224127024), (15008, 0.9659924583503063), (22093, 0.9598801575941692), (13402, 0.9456317355966392), (41665, 0.910575505824132), (47144, 0.905395548878536), (5385, 0.8986018413475712), (16185, 0.8958173437641028), (47966, 0.8861189020490923), (32299, 0.8843997893089649), (8204, 0.8786646604932709), (32689, 0.8279621772626218), (5364, 0.8105026993496689), (19321, 0.8061749496929087), (1117, 0.8038663659628645), (19488, 0.7902368178807218), (35921, 0.7543268935106041), (44830, 0.7059492698451955), (2408, 0.702969604996208), (35940, 0.673989260880333)]\n",
      "UserID=8973 --> [(48697, 2.1446300354227765), (34969, 1.7200554425444714), (23029, 1.7187058408241913), (18471, 1.6921121970799669), (7746, 1.5929946305004177), (18370, 1.5225413253198572), (4809, 1.404992673709584), (14814, 1.2279891497958444), (8277, 1.217952038596541), (1000, 1.1983159554919738), (17847, 1.1861329489885815), (11078, 1.184246321483275), (19678, 1.1799871002721685), (39275, 1.178708762195426), (15017, 1.1193337778038541), (27156, 1.1061166508812927), (5390, 1.1038458077295106), (37935, 1.092288322294148), (29158, 1.08112267292326), (5876, 1.0794652484302483), (6300, 1.0674641928599007), (26668, 1.065855969425459), (33342, 1.0443389824880123), (17224, 0.9997457461459776), (11945, 0.9776238935631741), (45311, 0.9721662161580366), (49235, 0.9143226560943903), (35004, 0.9130479313254937), (4920, 0.901848269027926), (12409, 0.9001672264263009), (24489, 0.899590740188708), (3289, 0.8933369520236053), (44359, 0.8384459721686818), (4332, 0.8343819320951167), (41806, 0.801456238080326), (9666, 0.7961516649119037), (13733, 0.7884359058581542), (13176, 0.7862547757832181), (8174, 0.7726079555903929), (44008, 0.764635299695775), (35163, 0.7603391451466662), (8193, 0.7403563872701144), (45066, 0.7206158540511294), (20114, 0.7026611801988646), (11520, 0.7020664256363829), (22935, 0.6963868858656399), (39600, 0.6870075815284864), (42824, 0.6710891470219418), (38480, 0.6650050183052317), (27521, 0.6304324777192744), (34137, 0.6108816373829453), (36205, 0.5976796382308044), (41658, 0.5963651015033373), (3397, 0.5843785172793878), (35108, 0.5802771792156717), (17803, 0.5799411772937653), (26209, 0.5786171760969887), (13077, 0.5764196455010945), (27509, 0.5698300578985431), (24838, 0.567927261507017), (41259, 0.5572811662768316), (21903, 0.5547743228416155), (28597, 0.5430972291620181), (436, 0.5406605413837487), (21137, 0.5379840303496841), (27241, 0.5321817967932732), (4799, 0.5285723287126742), (34551, 0.5188609671514618), (23181, 0.4927487696843809), (34126, 0.492705845062526), (23801, 0.4771246846193043), (18656, 0.4739901192472567), (24964, 0.4735381070626585), (5240, 0.4508909734842257), (6400, 0.4389611443695436), (24086, 0.43608531413445767), (37490, 0.41154020494944654), (49273, 0.3983650642255413), (12756, 0.31976521803403124), (17487, 0.26539186138002563), (49236, 0.24773043350208923), (23375, 0.17211879482902398)]\n",
      "UserID=167079 --> [(19173, 1.6136359669349205), (5445, 1.520011257700009), (13976, 1.5194468376732537), (13176, 1.3455798383011592), (46720, 1.3443867521165045), (14618, 1.3441211104964372), (37065, 1.3025055255382039), (25234, 1.2809564824112083), (28199, 1.2416783079546483), (3873, 1.2054541306815503), (41290, 1.1978295901291809), (1940, 1.1944712378642064), (49381, 1.175588126158475), (28842, 1.1723676484332775), (7533, 1.1638219325762713), (3999, 1.1583394592362917), (44359, 1.1325170094459434), (31338, 1.107152980295006), (47626, 1.0996570233286396), (2759, 1.0614416212701392), (18212, 1.0403582284821418), (44156, 1.0343653310431247), (8193, 0.984374455350308), (22935, 0.962145584549539), (5385, 0.8986018413475712), (47866, 0.8673893695365194), (42431, 0.8604762233052311), (23334, 0.8597117588593103), (5098, 0.8090401213048537), (32446, 0.7446011537879816), (670, 0.7282358810369961), (42936, 0.6378438410186134)]\n",
      "UserID=165833 --> [(31801, 1.723363153512372), (24852, 1.6356763403405272), (33731, 1.594524353645313), (25640, 1.5150252913158084), (49533, 1.4311115628194975), (9906, 1.409165941703729), (44643, 1.3385312886293497), (42265, 1.2954267404347684), (8021, 1.2399152944196214), (44473, 1.236285342345976), (42719, 1.2356476725691499), (38430, 1.2216841822009807), (35233, 1.211039612040455), (28553, 1.0773506714648733), (34658, 1.0489565886315355), (5621, 0.9606122476813748), (28989, 0.9571928523474654), (32403, 0.929184904190595), (34214, 0.9235003341094465), (35108, 0.9126740913111031), (28156, 0.8772508843292196), (5337, 0.8086339579946314), (17956, 0.7267912834127971)]\n",
      "UserID=36765 --> [(8903, 0.527639801742387), (17449, 0.09724687677233103), (20022, 0.02132939892886071), (36086, 0.0), (47144, 0.0)]\n"
     ]
    }
   ],
   "source": [
    "# Testing predictions for a bunch of random users\n",
    "# Note that we don't have predictions for a lot of users-  just not enough data? \n",
    "# Find a good example (lots of predictions) and run with it for demo\n",
    "\n",
    "for i in range(50):\n",
    "    #suid = pd.Series(list(watchedList.keys())).sample().values[0]\n",
    "    suid = df_orders_test.user_id.sample().values[0]\n",
    "    print(f\"UserID={suid} --> {predict(suid)}\")"
   ]
  },
  {
   "cell_type": "markdown",
   "metadata": {},
   "source": [
    "## TODO: \n",
    "#### 1. Find a good example user based on random sampling above (i.e. good number of product score predictions)\n",
    "#### 2. Analyze user's past orders-  create plots for most purchased items, etc, so we can get to know the user and understand if the recommendations are good ones\n",
    "#### 3. Predict using model - join back IDs to product names and visualize against the past order information\n",
    "#### 4. Clean up notebook"
   ]
  },
  {
   "cell_type": "code",
   "execution_count": 56,
   "metadata": {},
   "outputs": [
    {
     "data": {
      "text/html": [
       "<div>\n",
       "<style scoped>\n",
       "    .dataframe tbody tr th:only-of-type {\n",
       "        vertical-align: middle;\n",
       "    }\n",
       "\n",
       "    .dataframe tbody tr th {\n",
       "        vertical-align: top;\n",
       "    }\n",
       "\n",
       "    .dataframe thead th {\n",
       "        text-align: right;\n",
       "    }\n",
       "</style>\n",
       "<table border=\"1\" class=\"dataframe\">\n",
       "  <thead>\n",
       "    <tr style=\"text-align: right;\">\n",
       "      <th></th>\n",
       "      <th>product_id</th>\n",
       "      <th>score</th>\n",
       "    </tr>\n",
       "  </thead>\n",
       "  <tbody>\n",
       "    <tr>\n",
       "      <th>0</th>\n",
       "      <td>41220</td>\n",
       "      <td>1.636532</td>\n",
       "    </tr>\n",
       "    <tr>\n",
       "      <th>1</th>\n",
       "      <td>32043</td>\n",
       "      <td>1.512073</td>\n",
       "    </tr>\n",
       "    <tr>\n",
       "      <th>2</th>\n",
       "      <td>203</td>\n",
       "      <td>1.483930</td>\n",
       "    </tr>\n",
       "    <tr>\n",
       "      <th>3</th>\n",
       "      <td>42265</td>\n",
       "      <td>1.295427</td>\n",
       "    </tr>\n",
       "    <tr>\n",
       "      <th>4</th>\n",
       "      <td>47119</td>\n",
       "      <td>1.275404</td>\n",
       "    </tr>\n",
       "    <tr>\n",
       "      <th>5</th>\n",
       "      <td>535</td>\n",
       "      <td>1.032704</td>\n",
       "    </tr>\n",
       "    <tr>\n",
       "      <th>6</th>\n",
       "      <td>6474</td>\n",
       "      <td>0.904359</td>\n",
       "    </tr>\n",
       "    <tr>\n",
       "      <th>7</th>\n",
       "      <td>20228</td>\n",
       "      <td>0.816921</td>\n",
       "    </tr>\n",
       "    <tr>\n",
       "      <th>8</th>\n",
       "      <td>14233</td>\n",
       "      <td>0.752295</td>\n",
       "    </tr>\n",
       "  </tbody>\n",
       "</table>\n",
       "</div>"
      ],
      "text/plain": [
       "   product_id     score\n",
       "0       41220  1.636532\n",
       "1       32043  1.512073\n",
       "2         203  1.483930\n",
       "3       42265  1.295427\n",
       "4       47119  1.275404\n",
       "5         535  1.032704\n",
       "6        6474  0.904359\n",
       "7       20228  0.816921\n",
       "8       14233  0.752295"
      ]
     },
     "execution_count": 56,
     "metadata": {},
     "output_type": "execute_result"
    }
   ],
   "source": [
    "df_user = pd.DataFrame(predict(sample_user_id),columns=['product_id','score'])\n",
    "df_user"
   ]
  },
  {
   "cell_type": "code",
   "execution_count": 57,
   "metadata": {},
   "outputs": [
    {
     "data": {
      "text/html": [
       "<div>\n",
       "<style scoped>\n",
       "    .dataframe tbody tr th:only-of-type {\n",
       "        vertical-align: middle;\n",
       "    }\n",
       "\n",
       "    .dataframe tbody tr th {\n",
       "        vertical-align: top;\n",
       "    }\n",
       "\n",
       "    .dataframe thead th {\n",
       "        text-align: right;\n",
       "    }\n",
       "</style>\n",
       "<table border=\"1\" class=\"dataframe\">\n",
       "  <thead>\n",
       "    <tr style=\"text-align: right;\">\n",
       "      <th></th>\n",
       "      <th>product_id</th>\n",
       "      <th>product_name</th>\n",
       "      <th>aisle_id</th>\n",
       "      <th>department_id</th>\n",
       "    </tr>\n",
       "  </thead>\n",
       "  <tbody>\n",
       "    <tr>\n",
       "      <th>0</th>\n",
       "      <td>1</td>\n",
       "      <td>Chocolate Sandwich Cookies</td>\n",
       "      <td>61</td>\n",
       "      <td>19</td>\n",
       "    </tr>\n",
       "    <tr>\n",
       "      <th>1</th>\n",
       "      <td>2</td>\n",
       "      <td>All-Seasons Salt</td>\n",
       "      <td>104</td>\n",
       "      <td>13</td>\n",
       "    </tr>\n",
       "    <tr>\n",
       "      <th>2</th>\n",
       "      <td>3</td>\n",
       "      <td>Robust Golden Unsweetened Oolong Tea</td>\n",
       "      <td>94</td>\n",
       "      <td>7</td>\n",
       "    </tr>\n",
       "    <tr>\n",
       "      <th>3</th>\n",
       "      <td>4</td>\n",
       "      <td>Smart Ones Classic Favorites Mini Rigatoni Wit...</td>\n",
       "      <td>38</td>\n",
       "      <td>1</td>\n",
       "    </tr>\n",
       "    <tr>\n",
       "      <th>4</th>\n",
       "      <td>5</td>\n",
       "      <td>Green Chile Anytime Sauce</td>\n",
       "      <td>5</td>\n",
       "      <td>13</td>\n",
       "    </tr>\n",
       "  </tbody>\n",
       "</table>\n",
       "</div>"
      ],
      "text/plain": [
       "   product_id                                       product_name  aisle_id  \\\n",
       "0           1                         Chocolate Sandwich Cookies        61   \n",
       "1           2                                   All-Seasons Salt       104   \n",
       "2           3               Robust Golden Unsweetened Oolong Tea        94   \n",
       "3           4  Smart Ones Classic Favorites Mini Rigatoni Wit...        38   \n",
       "4           5                          Green Chile Anytime Sauce         5   \n",
       "\n",
       "   department_id  \n",
       "0             19  \n",
       "1             13  \n",
       "2              7  \n",
       "3              1  \n",
       "4             13  "
      ]
     },
     "execution_count": 57,
     "metadata": {},
     "output_type": "execute_result"
    }
   ],
   "source": [
    "df_products.head()"
   ]
  },
  {
   "cell_type": "code",
   "execution_count": 63,
   "metadata": {},
   "outputs": [
    {
     "data": {
      "text/html": [
       "<div>\n",
       "<style scoped>\n",
       "    .dataframe tbody tr th:only-of-type {\n",
       "        vertical-align: middle;\n",
       "    }\n",
       "\n",
       "    .dataframe tbody tr th {\n",
       "        vertical-align: top;\n",
       "    }\n",
       "\n",
       "    .dataframe thead th {\n",
       "        text-align: right;\n",
       "    }\n",
       "</style>\n",
       "<table border=\"1\" class=\"dataframe\">\n",
       "  <thead>\n",
       "    <tr style=\"text-align: right;\">\n",
       "      <th></th>\n",
       "      <th>product_name</th>\n",
       "      <th>score</th>\n",
       "    </tr>\n",
       "  </thead>\n",
       "  <tbody>\n",
       "    <tr>\n",
       "      <th>0</th>\n",
       "      <td>Sunscreen Mineral Defense Kids SPF 30</td>\n",
       "      <td>1.636532</td>\n",
       "    </tr>\n",
       "    <tr>\n",
       "      <th>1</th>\n",
       "      <td>Seltzer Calorie-free Cranberry Lime</td>\n",
       "      <td>1.512073</td>\n",
       "    </tr>\n",
       "    <tr>\n",
       "      <th>2</th>\n",
       "      <td>Free &amp; Clear Natural Laundry Detergent For Sen...</td>\n",
       "      <td>1.483930</td>\n",
       "    </tr>\n",
       "    <tr>\n",
       "      <th>3</th>\n",
       "      <td>Vanilla Almond African Black Soap</td>\n",
       "      <td>1.295427</td>\n",
       "    </tr>\n",
       "    <tr>\n",
       "      <th>4</th>\n",
       "      <td>Chicken Flavored Mexican Rice</td>\n",
       "      <td>1.275404</td>\n",
       "    </tr>\n",
       "    <tr>\n",
       "      <th>5</th>\n",
       "      <td>Belgian Waffles</td>\n",
       "      <td>1.032704</td>\n",
       "    </tr>\n",
       "    <tr>\n",
       "      <th>6</th>\n",
       "      <td>Limonata Sparkling Lemon Beverage</td>\n",
       "      <td>0.904359</td>\n",
       "    </tr>\n",
       "    <tr>\n",
       "      <th>7</th>\n",
       "      <td>Supersweet Corn</td>\n",
       "      <td>0.816921</td>\n",
       "    </tr>\n",
       "    <tr>\n",
       "      <th>8</th>\n",
       "      <td>Electric Blue Sparkling Sugar</td>\n",
       "      <td>0.752295</td>\n",
       "    </tr>\n",
       "  </tbody>\n",
       "</table>\n",
       "</div>"
      ],
      "text/plain": [
       "                                        product_name     score\n",
       "0              Sunscreen Mineral Defense Kids SPF 30  1.636532\n",
       "1                Seltzer Calorie-free Cranberry Lime  1.512073\n",
       "2  Free & Clear Natural Laundry Detergent For Sen...  1.483930\n",
       "3                  Vanilla Almond African Black Soap  1.295427\n",
       "4                      Chicken Flavored Mexican Rice  1.275404\n",
       "5                                    Belgian Waffles  1.032704\n",
       "6                  Limonata Sparkling Lemon Beverage  0.904359\n",
       "7                                    Supersweet Corn  0.816921\n",
       "8                      Electric Blue Sparkling Sugar  0.752295"
      ]
     },
     "execution_count": 63,
     "metadata": {},
     "output_type": "execute_result"
    }
   ],
   "source": [
    "df_product_name = df_user.join(df_products, on = 'product_id', how = 'left', rsuffix = '_product')\n",
    "df_product_name = df_product_name[['product_name','score']]\n",
    "df_product_name"
   ]
  },
  {
   "cell_type": "code",
   "execution_count": 22,
   "metadata": {},
   "outputs": [
    {
     "data": {
      "text/plain": [
       "\"\\nnum_cores = 4\\nnum_partitions = num_cores\\ndef parallelize_dataframe(df, func):\\n    df_split = np.array_split(df, num_partitions)\\n    pool = Pool(num_cores)\\n    df = pd.concat(pool.map(func, df_split))\\n    pool.close()\\n    pool.join()\\n    return df\\n\\ndef coba_mp_apply(data):\\n    data['predictions'] = data.progress_apply(predict, axis=1).values\\n    return data.explode('predictions')\\n    \\nrresults = parallelize_dataframe(df_orders_test, coba_mp_apply)\\n\""
      ]
     },
     "execution_count": 22,
     "metadata": {},
     "output_type": "execute_result"
    }
   ],
   "source": [
    "# prediction\n",
    "\"\"\"\n",
    "num_cores = 4\n",
    "num_partitions = num_cores\n",
    "def parallelize_dataframe(df, func):\n",
    "    df_split = np.array_split(df, num_partitions)\n",
    "    pool = Pool(num_cores)\n",
    "    df = pd.concat(pool.map(func, df_split))\n",
    "    pool.close()\n",
    "    pool.join()\n",
    "    return df\n",
    "\n",
    "def coba_mp_apply(data):\n",
    "    data['predictions'] = data.progress_apply(predict, axis=1).values\n",
    "    return data.explode('predictions')\n",
    "    \n",
    "rresults = parallelize_dataframe(df_orders_test, coba_mp_apply)\n",
    "\"\"\""
   ]
  }
 ],
 "metadata": {
  "kernelspec": {
   "display_name": "Python 3",
   "language": "python",
   "name": "python3"
  },
  "language_info": {
   "codemirror_mode": {
    "name": "ipython",
    "version": 3
   },
   "file_extension": ".py",
   "mimetype": "text/x-python",
   "name": "python",
   "nbconvert_exporter": "python",
   "pygments_lexer": "ipython3",
   "version": "3.8.3"
  }
 },
 "nbformat": 4,
 "nbformat_minor": 4
}
